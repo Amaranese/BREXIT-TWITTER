{
 "cells": [
  {
   "cell_type": "markdown",
   "metadata": {},
   "source": [
    "# MURCHIE85 TWITTER PROCESSING \n",
    "\n",
    "&#x1F34E; **TOPIC = \"Trump\"**\n",
    "\n",
    "\n",
    "## AUTOMATED RESEARCH SUMMARY\n",
    "    \n",
    "\n",
    "![image](https://ichef.bbci.co.uk/news/624/cpsprodpb/1AD3/production/_90076860_thinkstockphotos-526561176.jpg)\n",
    "\n",
    "<br></br>\n",
    "\n",
    "<div class=\"alert alert-block alert-danger\"><b> This repo is for pulling metrics on a given keyword or hashtag and performs a series of reporting and analysis.</b>\n",
    "</div>\n",
    "\n",
    "<br>\n",
    "\n",
    "   \n",
    "![image](TWEETS.png)\n",
    "\n",
    "<br></br>\n",
    "\n",
    "|                ** Sample-Tweets  **        |\n",
    "| :-------------: |\n",
    "| <div class=\"alert alert-block alert-warning\">\"@michaelgove Because what this country needs is a little grey man, head very recently extracted from May's rectum,w… https://t.co/DAyZ6xkEXp\"</div>  <div class=\"alert alert-block alert-success\">\"RT @ColeEcon101: @notracesms agree, it's good strategy also: if what you say is correct and they get ignored in future negotiations, they c…\"</div> <div class=\"alert alert-block alert-info\">\"RT @MrMalky: That's the plan Stan The rich landowners were raising a glass of fizz with Gove They'll be able to buy up bankrupted farmers\"</div>     | \n",
    "\n",
    "<br></br>\n",
    "\n",
    "\n",
    "\n",
    "\n",
    "## GOOGLE SEARCH DEMOGRAPHICS \n",
    "\n",
    "Tweeting demographic           | Countries\n",
    ":-------------------------:|:-------------------------:\n",
    "![](maps.png)  |  ![](gcompare.png)\n",
    "<br>\n",
    "\n",
    "\n",
    "\n",
    "## RELATED TOPICS  & QUERIES \n",
    "\n",
    "topics          | searches\n",
    ":-------------------------:|:-------------------------:\n",
    "![](topic.png)  |  ![](query.png)\n",
    "\n",
    "\n",
    "<br>\n",
    "<br>\n",
    "\n",
    "\n",
    "\n",
    "\n",
    "## RELATED METRICS\n",
    "<br>\n",
    "\n",
    "| Metric | Value |\n",
    "| ------------- | ------------- |\n",
    "| #1 Most tweeted to  | **DominicRaab** |\n",
    "| #2 Most tweeted to  | **carolecadwalla**|\n",
    "| #3 Most tweeted to  | **Telegraph** |\n",
    "| NewProfiles (less than 10 days) | 0.73%  |\n",
    "| Tweeters with < 100 followers  | 2.38%|\n",
    "| Tweeters with > 100k followers  | 0.03%  |\n",
    "\n",
    "\n",
    "\n",
    "<br>\n",
    "\n",
    "## MOST POPULAR TWEET TERMS \n",
    "\n",
    "\n",
    "\n",
    "\n",
    "| Popularity Rank  | Term |\n",
    "| ------------- | ------------- |\n",
    "| first  | **PARTY**  |\n",
    "| second  | **EU**  |\n",
    "| third  | **DEAL** |\n",
    "| fourth  | **UK**  |\n",
    "| fifth  | **TORY**  |\n",
    "\n",
    "\n",
    "\n",
    "<br>\n",
    "\n",
    "![image](comparetweets.png)\n",
    "\n",
    "\n",
    "## Twitter Bio Analysis\n",
    "\n",
    "![image](BIO.png)\n",
    "\n",
    "\n",
    "\n",
    "\n",
    "\n",
    "\n",
    "\n",
    "\n",
    "\n",
    "\n",
    "    \n",
    "### SENTIMENT ANALYSIS\n",
    "VIEWS WERE : **SUBJECTIVE**  (30%) & **NEGATIVELY-SUBJECTIVE** (30%) **OBJECTIVE** (40%)\n",
    "\n",
    "\n",
    "\n",
    "### TWEET SAMPLE \n",
    "\n",
    "Random value picked from array: \n",
    "\n",
    "\n",
    "<div class=\"alert alert-block alert-info\">\n",
    "\"@c_gkc000 @dbongino Great meme! TRUMP 2020 🎉 👍 \"\n",
    "\n",
    "</div>\n",
    "\n",
    "### MOST RETWEETED\n",
    "\n",
    "Technically the most popular tweet (note, this is not always the source of the hashtag)\n",
    "\n",
    "<div class=\"alert alert-block alert-danger\">\n",
    "\" RT @kylegriffin1: Fmr. CIA Direction John Brennan on Trump\\'s order to Barr: \"I see it as a very, very serious and outrageous move on the pa… \"\n",
    "</div>\n",
    "\n",
    "### CONCLUSION & EXTERNAL ANALYSIS\n",
    "\n",
    "*This is my (Adam McMurchie's) opinion on the data from the tweets, it serves as no objective truth.Since the tweets themselves are a mixture of fact & opinion. \n",
    "\n",
    "<br>\n",
    "\n",
    "WILL BE UPDATED IN NEXT  24 HOURS \n",
    "\n",
    "\n",
    "<br><br>\n",
    "\n",
    "**RECOMMENDATIONS** WILL BE UPDATED IN NEXT  24 HOURS \n",
    "\n",
    "\n",
    "<br>"
   ]
  },
  {
   "cell_type": "markdown",
   "metadata": {},
   "source": [
    "# TECHNICAL WALKTHROUGH \n",
    "\n",
    "\n",
    "## OVERVIEW\n",
    "\n",
    "**SKIP TO BOTTOM FOR FULL RESULTS & GRAPH BREAKDOWN **\n",
    "\n",
    "- Pulls live tweets from all over twitter \n",
    "- Imports Tweepy Library \n",
    "- Consumes Twitter API \n",
    "- Desgined to be keyword driven\n",
    "- All metrics can be captured\n",
    "- No limit on Runtime (best to terminate when you want)\n",
    "\n",
    "## Limitations & info\n",
    "1. LOCATION filter is tricky\n",
    "2. Streaming connects to the “public streams” (all public data) \n",
    "3. This is data provided by the Twitter API which accesses their database, the maintenence of DB and thus data quality is managed by Twitter\n",
    "\n",
    "Example of parameter setting done in stream filter \n",
    "\n",
    "```\n",
    "stream.filter(follow=[\"2211149702\"])\n",
    "```\n",
    "\n",
    "\n",
    "### AUTHOR : ADAM MCMURCHIE \n",
    "\n",
    "![image](https://s3.amazonaws.com/re-work-production/avatars/1104/original.png?1485507466)\n",
    "\n",
    "Github [here](https://github.com/murchie85)  \n",
    "\n",
    "Mysite [here](https://murchie85.github.io/)"
   ]
  },
  {
   "cell_type": "markdown",
   "metadata": {},
   "source": [
    "# AUTHENTICATION\n",
    "\n",
    "You will need to change f variable to point to your credentials file, I save mines in a text file and split the comma. Not uploaded to this repo obviously."
   ]
  },
  {
   "cell_type": "code",
   "execution_count": 1,
   "metadata": {},
   "outputs": [],
   "source": [
    "import datetime\n",
    "import os\n",
    "\n",
    "\n",
    "f = open(\"../donotgit/access.txt\", \"r\")\n",
    "keys = f.read()\n",
    "f.close()\n",
    "keys  = keys.split(',')\n",
    "#print(\"Access Keys are : \" + str(keys))\n",
    "ACCESS_TOKEN = keys[0]\n",
    "ACCESS_SECRET = keys[1]\n",
    "\n",
    "\n",
    "f = open(\"../donotgit/consumer.txt\", \"r\")\n",
    "keys = f.read()\n",
    "keys  = keys.split(',')\n",
    "#print(\"Consumer Keys are : \" + str(keys))\n",
    "CONSUMER_KEY = keys[0]\n",
    "CONSUMER_SECRET = keys[1]\n"
   ]
  },
  {
   "cell_type": "markdown",
   "metadata": {},
   "source": [
    "# PULLING DOWN THE DATA \n",
    "\n",
    "This is where the magic happens, api authentication is set up, tweepy library is imported for the work and a class allow us to pull live data. This is appended to array for processing later. \n",
    "\n",
    "If you want to change the parameters, edit the following line:  \n",
    "\n",
    "```\n",
    "stream.filter(track=[\"SexStrike\"],languages=[\"en\"])\n",
    "```\n",
    "\n",
    "*NOTE* -   this will just keep running until you force terminate, i haven't added in a terminate loop yet."
   ]
  },
  {
   "cell_type": "code",
   "execution_count": 2,
   "metadata": {},
   "outputs": [
    {
     "ename": "KeyboardInterrupt",
     "evalue": "",
     "output_type": "error",
     "traceback": [
      "\u001b[0;31m---------------------------------------------------------------------------\u001b[0m",
      "\u001b[0;31mWantReadError\u001b[0m                             Traceback (most recent call last)",
      "\u001b[0;32m/anaconda3/lib/python3.7/site-packages/urllib3/contrib/pyopenssl.py\u001b[0m in \u001b[0;36mrecv_into\u001b[0;34m(self, *args, **kwargs)\u001b[0m\n\u001b[1;32m    293\u001b[0m         \u001b[0;32mtry\u001b[0m\u001b[0;34m:\u001b[0m\u001b[0;34m\u001b[0m\u001b[0;34m\u001b[0m\u001b[0m\n\u001b[0;32m--> 294\u001b[0;31m             \u001b[0;32mreturn\u001b[0m \u001b[0mself\u001b[0m\u001b[0;34m.\u001b[0m\u001b[0mconnection\u001b[0m\u001b[0;34m.\u001b[0m\u001b[0mrecv_into\u001b[0m\u001b[0;34m(\u001b[0m\u001b[0;34m*\u001b[0m\u001b[0margs\u001b[0m\u001b[0;34m,\u001b[0m \u001b[0;34m**\u001b[0m\u001b[0mkwargs\u001b[0m\u001b[0;34m)\u001b[0m\u001b[0;34m\u001b[0m\u001b[0;34m\u001b[0m\u001b[0m\n\u001b[0m\u001b[1;32m    295\u001b[0m         \u001b[0;32mexcept\u001b[0m \u001b[0mOpenSSL\u001b[0m\u001b[0;34m.\u001b[0m\u001b[0mSSL\u001b[0m\u001b[0;34m.\u001b[0m\u001b[0mSysCallError\u001b[0m \u001b[0;32mas\u001b[0m \u001b[0me\u001b[0m\u001b[0;34m:\u001b[0m\u001b[0;34m\u001b[0m\u001b[0;34m\u001b[0m\u001b[0m\n",
      "\u001b[0;32m/anaconda3/lib/python3.7/site-packages/OpenSSL/SSL.py\u001b[0m in \u001b[0;36mrecv_into\u001b[0;34m(self, buffer, nbytes, flags)\u001b[0m\n\u001b[1;32m   1821\u001b[0m             \u001b[0mresult\u001b[0m \u001b[0;34m=\u001b[0m \u001b[0m_lib\u001b[0m\u001b[0;34m.\u001b[0m\u001b[0mSSL_read\u001b[0m\u001b[0;34m(\u001b[0m\u001b[0mself\u001b[0m\u001b[0;34m.\u001b[0m\u001b[0m_ssl\u001b[0m\u001b[0;34m,\u001b[0m \u001b[0mbuf\u001b[0m\u001b[0;34m,\u001b[0m \u001b[0mnbytes\u001b[0m\u001b[0;34m)\u001b[0m\u001b[0;34m\u001b[0m\u001b[0;34m\u001b[0m\u001b[0m\n\u001b[0;32m-> 1822\u001b[0;31m         \u001b[0mself\u001b[0m\u001b[0;34m.\u001b[0m\u001b[0m_raise_ssl_error\u001b[0m\u001b[0;34m(\u001b[0m\u001b[0mself\u001b[0m\u001b[0;34m.\u001b[0m\u001b[0m_ssl\u001b[0m\u001b[0;34m,\u001b[0m \u001b[0mresult\u001b[0m\u001b[0;34m)\u001b[0m\u001b[0;34m\u001b[0m\u001b[0;34m\u001b[0m\u001b[0m\n\u001b[0m\u001b[1;32m   1823\u001b[0m \u001b[0;34m\u001b[0m\u001b[0m\n",
      "\u001b[0;32m/anaconda3/lib/python3.7/site-packages/OpenSSL/SSL.py\u001b[0m in \u001b[0;36m_raise_ssl_error\u001b[0;34m(self, ssl, result)\u001b[0m\n\u001b[1;32m   1621\u001b[0m         \u001b[0;32mif\u001b[0m \u001b[0merror\u001b[0m \u001b[0;34m==\u001b[0m \u001b[0m_lib\u001b[0m\u001b[0;34m.\u001b[0m\u001b[0mSSL_ERROR_WANT_READ\u001b[0m\u001b[0;34m:\u001b[0m\u001b[0;34m\u001b[0m\u001b[0;34m\u001b[0m\u001b[0m\n\u001b[0;32m-> 1622\u001b[0;31m             \u001b[0;32mraise\u001b[0m \u001b[0mWantReadError\u001b[0m\u001b[0;34m(\u001b[0m\u001b[0;34m)\u001b[0m\u001b[0;34m\u001b[0m\u001b[0;34m\u001b[0m\u001b[0m\n\u001b[0m\u001b[1;32m   1623\u001b[0m         \u001b[0;32melif\u001b[0m \u001b[0merror\u001b[0m \u001b[0;34m==\u001b[0m \u001b[0m_lib\u001b[0m\u001b[0;34m.\u001b[0m\u001b[0mSSL_ERROR_WANT_WRITE\u001b[0m\u001b[0;34m:\u001b[0m\u001b[0;34m\u001b[0m\u001b[0;34m\u001b[0m\u001b[0m\n",
      "\u001b[0;31mWantReadError\u001b[0m: ",
      "\nDuring handling of the above exception, another exception occurred:\n",
      "\u001b[0;31mKeyboardInterrupt\u001b[0m                         Traceback (most recent call last)",
      "\u001b[0;32m<ipython-input-2-9e2d0c0d2301>\u001b[0m in \u001b[0;36m<module>\u001b[0;34m\u001b[0m\n\u001b[1;32m     63\u001b[0m \u001b[0;34m\u001b[0m\u001b[0m\n\u001b[1;32m     64\u001b[0m \u001b[0;31m#print('Pulling down data.....')\u001b[0m\u001b[0;34m\u001b[0m\u001b[0;34m\u001b[0m\u001b[0;34m\u001b[0m\u001b[0m\n\u001b[0;32m---> 65\u001b[0;31m \u001b[0mstream\u001b[0m\u001b[0;34m.\u001b[0m\u001b[0mfilter\u001b[0m\u001b[0;34m(\u001b[0m\u001b[0mtrack\u001b[0m\u001b[0;34m=\u001b[0m\u001b[0;34m[\u001b[0m\u001b[0;34m\"Brexit\"\u001b[0m\u001b[0;34m]\u001b[0m\u001b[0;34m,\u001b[0m\u001b[0mlanguages\u001b[0m\u001b[0;34m=\u001b[0m\u001b[0;34m[\u001b[0m\u001b[0;34m\"en\"\u001b[0m\u001b[0;34m]\u001b[0m\u001b[0;34m)\u001b[0m\u001b[0;34m\u001b[0m\u001b[0;34m\u001b[0m\u001b[0m\n\u001b[0m\u001b[1;32m     66\u001b[0m \u001b[0;34m\u001b[0m\u001b[0m\n\u001b[1;32m     67\u001b[0m \u001b[0;34m\u001b[0m\u001b[0m\n",
      "\u001b[0;32m/anaconda3/lib/python3.7/site-packages/tweepy/streaming.py\u001b[0m in \u001b[0;36mfilter\u001b[0;34m(self, follow, track, is_async, locations, stall_warnings, languages, encoding, filter_level)\u001b[0m\n\u001b[1;32m    451\u001b[0m             \u001b[0mself\u001b[0m\u001b[0;34m.\u001b[0m\u001b[0mbody\u001b[0m\u001b[0;34m[\u001b[0m\u001b[0;34m'filter_level'\u001b[0m\u001b[0;34m]\u001b[0m \u001b[0;34m=\u001b[0m \u001b[0mfilter_level\u001b[0m\u001b[0;34m.\u001b[0m\u001b[0mencode\u001b[0m\u001b[0;34m(\u001b[0m\u001b[0mencoding\u001b[0m\u001b[0;34m)\u001b[0m\u001b[0;34m\u001b[0m\u001b[0;34m\u001b[0m\u001b[0m\n\u001b[1;32m    452\u001b[0m         \u001b[0mself\u001b[0m\u001b[0;34m.\u001b[0m\u001b[0msession\u001b[0m\u001b[0;34m.\u001b[0m\u001b[0mparams\u001b[0m \u001b[0;34m=\u001b[0m \u001b[0;34m{\u001b[0m\u001b[0;34m'delimited'\u001b[0m\u001b[0;34m:\u001b[0m \u001b[0;34m'length'\u001b[0m\u001b[0;34m}\u001b[0m\u001b[0;34m\u001b[0m\u001b[0;34m\u001b[0m\u001b[0m\n\u001b[0;32m--> 453\u001b[0;31m         \u001b[0mself\u001b[0m\u001b[0;34m.\u001b[0m\u001b[0m_start\u001b[0m\u001b[0;34m(\u001b[0m\u001b[0mis_async\u001b[0m\u001b[0;34m)\u001b[0m\u001b[0;34m\u001b[0m\u001b[0;34m\u001b[0m\u001b[0m\n\u001b[0m\u001b[1;32m    454\u001b[0m \u001b[0;34m\u001b[0m\u001b[0m\n\u001b[1;32m    455\u001b[0m     def sitestream(self, follow, stall_warnings=False,\n",
      "\u001b[0;32m/anaconda3/lib/python3.7/site-packages/tweepy/streaming.py\u001b[0m in \u001b[0;36m_start\u001b[0;34m(self, is_async)\u001b[0m\n\u001b[1;32m    366\u001b[0m             \u001b[0mself\u001b[0m\u001b[0;34m.\u001b[0m\u001b[0m_thread\u001b[0m\u001b[0;34m.\u001b[0m\u001b[0mstart\u001b[0m\u001b[0;34m(\u001b[0m\u001b[0;34m)\u001b[0m\u001b[0;34m\u001b[0m\u001b[0;34m\u001b[0m\u001b[0m\n\u001b[1;32m    367\u001b[0m         \u001b[0;32melse\u001b[0m\u001b[0;34m:\u001b[0m\u001b[0;34m\u001b[0m\u001b[0;34m\u001b[0m\u001b[0m\n\u001b[0;32m--> 368\u001b[0;31m             \u001b[0mself\u001b[0m\u001b[0;34m.\u001b[0m\u001b[0m_run\u001b[0m\u001b[0;34m(\u001b[0m\u001b[0;34m)\u001b[0m\u001b[0;34m\u001b[0m\u001b[0;34m\u001b[0m\u001b[0m\n\u001b[0m\u001b[1;32m    369\u001b[0m \u001b[0;34m\u001b[0m\u001b[0m\n\u001b[1;32m    370\u001b[0m     \u001b[0;32mdef\u001b[0m \u001b[0mon_closed\u001b[0m\u001b[0;34m(\u001b[0m\u001b[0mself\u001b[0m\u001b[0;34m,\u001b[0m \u001b[0mresp\u001b[0m\u001b[0;34m)\u001b[0m\u001b[0;34m:\u001b[0m\u001b[0;34m\u001b[0m\u001b[0;34m\u001b[0m\u001b[0m\n",
      "\u001b[0;32m/anaconda3/lib/python3.7/site-packages/tweepy/streaming.py\u001b[0m in \u001b[0;36m_run\u001b[0;34m(self)\u001b[0m\n\u001b[1;32m    267\u001b[0m                     \u001b[0mself\u001b[0m\u001b[0;34m.\u001b[0m\u001b[0msnooze_time\u001b[0m \u001b[0;34m=\u001b[0m \u001b[0mself\u001b[0m\u001b[0;34m.\u001b[0m\u001b[0msnooze_time_step\u001b[0m\u001b[0;34m\u001b[0m\u001b[0;34m\u001b[0m\u001b[0m\n\u001b[1;32m    268\u001b[0m                     \u001b[0mself\u001b[0m\u001b[0;34m.\u001b[0m\u001b[0mlistener\u001b[0m\u001b[0;34m.\u001b[0m\u001b[0mon_connect\u001b[0m\u001b[0;34m(\u001b[0m\u001b[0;34m)\u001b[0m\u001b[0;34m\u001b[0m\u001b[0;34m\u001b[0m\u001b[0m\n\u001b[0;32m--> 269\u001b[0;31m                     \u001b[0mself\u001b[0m\u001b[0;34m.\u001b[0m\u001b[0m_read_loop\u001b[0m\u001b[0;34m(\u001b[0m\u001b[0mresp\u001b[0m\u001b[0;34m)\u001b[0m\u001b[0;34m\u001b[0m\u001b[0;34m\u001b[0m\u001b[0m\n\u001b[0m\u001b[1;32m    270\u001b[0m             \u001b[0;32mexcept\u001b[0m \u001b[0;34m(\u001b[0m\u001b[0mTimeout\u001b[0m\u001b[0;34m,\u001b[0m \u001b[0mssl\u001b[0m\u001b[0;34m.\u001b[0m\u001b[0mSSLError\u001b[0m\u001b[0;34m)\u001b[0m \u001b[0;32mas\u001b[0m \u001b[0mexc\u001b[0m\u001b[0;34m:\u001b[0m\u001b[0;34m\u001b[0m\u001b[0;34m\u001b[0m\u001b[0m\n\u001b[1;32m    271\u001b[0m                 \u001b[0;31m# This is still necessary, as a SSLError can actually be\u001b[0m\u001b[0;34m\u001b[0m\u001b[0;34m\u001b[0m\u001b[0;34m\u001b[0m\u001b[0m\n",
      "\u001b[0;32m/anaconda3/lib/python3.7/site-packages/tweepy/streaming.py\u001b[0m in \u001b[0;36m_read_loop\u001b[0;34m(self, resp)\u001b[0m\n\u001b[1;32m    317\u001b[0m             \u001b[0mlength\u001b[0m \u001b[0;34m=\u001b[0m \u001b[0;36m0\u001b[0m\u001b[0;34m\u001b[0m\u001b[0;34m\u001b[0m\u001b[0m\n\u001b[1;32m    318\u001b[0m             \u001b[0;32mwhile\u001b[0m \u001b[0;32mnot\u001b[0m \u001b[0mresp\u001b[0m\u001b[0;34m.\u001b[0m\u001b[0mraw\u001b[0m\u001b[0;34m.\u001b[0m\u001b[0mclosed\u001b[0m\u001b[0;34m:\u001b[0m\u001b[0;34m\u001b[0m\u001b[0;34m\u001b[0m\u001b[0m\n\u001b[0;32m--> 319\u001b[0;31m                 \u001b[0mline\u001b[0m \u001b[0;34m=\u001b[0m \u001b[0mbuf\u001b[0m\u001b[0;34m.\u001b[0m\u001b[0mread_line\u001b[0m\u001b[0;34m(\u001b[0m\u001b[0;34m)\u001b[0m\u001b[0;34m\u001b[0m\u001b[0;34m\u001b[0m\u001b[0m\n\u001b[0m\u001b[1;32m    320\u001b[0m                 \u001b[0mstripped_line\u001b[0m \u001b[0;34m=\u001b[0m \u001b[0mline\u001b[0m\u001b[0;34m.\u001b[0m\u001b[0mstrip\u001b[0m\u001b[0;34m(\u001b[0m\u001b[0;34m)\u001b[0m \u001b[0;32mif\u001b[0m \u001b[0mline\u001b[0m \u001b[0;32melse\u001b[0m \u001b[0mline\u001b[0m \u001b[0;31m# line is sometimes None so we need to check here\u001b[0m\u001b[0;34m\u001b[0m\u001b[0;34m\u001b[0m\u001b[0m\n\u001b[1;32m    321\u001b[0m                 \u001b[0;32mif\u001b[0m \u001b[0;32mnot\u001b[0m \u001b[0mstripped_line\u001b[0m\u001b[0;34m:\u001b[0m\u001b[0;34m\u001b[0m\u001b[0;34m\u001b[0m\u001b[0m\n",
      "\u001b[0;32m/anaconda3/lib/python3.7/site-packages/tweepy/streaming.py\u001b[0m in \u001b[0;36mread_line\u001b[0;34m(self, sep)\u001b[0m\n\u001b[1;32m    179\u001b[0m             \u001b[0;32melse\u001b[0m\u001b[0;34m:\u001b[0m\u001b[0;34m\u001b[0m\u001b[0;34m\u001b[0m\u001b[0m\n\u001b[1;32m    180\u001b[0m                 \u001b[0mstart\u001b[0m \u001b[0;34m=\u001b[0m \u001b[0mlen\u001b[0m\u001b[0;34m(\u001b[0m\u001b[0mself\u001b[0m\u001b[0;34m.\u001b[0m\u001b[0m_buffer\u001b[0m\u001b[0;34m)\u001b[0m\u001b[0;34m\u001b[0m\u001b[0;34m\u001b[0m\u001b[0m\n\u001b[0;32m--> 181\u001b[0;31m             \u001b[0mself\u001b[0m\u001b[0;34m.\u001b[0m\u001b[0m_buffer\u001b[0m \u001b[0;34m+=\u001b[0m \u001b[0mself\u001b[0m\u001b[0;34m.\u001b[0m\u001b[0m_stream\u001b[0m\u001b[0;34m.\u001b[0m\u001b[0mread\u001b[0m\u001b[0;34m(\u001b[0m\u001b[0mself\u001b[0m\u001b[0;34m.\u001b[0m\u001b[0m_chunk_size\u001b[0m\u001b[0;34m)\u001b[0m\u001b[0;34m\u001b[0m\u001b[0;34m\u001b[0m\u001b[0m\n\u001b[0m\u001b[1;32m    182\u001b[0m         \u001b[0;32mreturn\u001b[0m \u001b[0msix\u001b[0m\u001b[0;34m.\u001b[0m\u001b[0mb\u001b[0m\u001b[0;34m(\u001b[0m\u001b[0;34m''\u001b[0m\u001b[0;34m)\u001b[0m\u001b[0;34m\u001b[0m\u001b[0;34m\u001b[0m\u001b[0m\n\u001b[1;32m    183\u001b[0m \u001b[0;34m\u001b[0m\u001b[0m\n",
      "\u001b[0;32m/anaconda3/lib/python3.7/site-packages/urllib3/response.py\u001b[0m in \u001b[0;36mread\u001b[0;34m(self, amt, decode_content, cache_content)\u001b[0m\n\u001b[1;32m    440\u001b[0m             \u001b[0;32melse\u001b[0m\u001b[0;34m:\u001b[0m\u001b[0;34m\u001b[0m\u001b[0;34m\u001b[0m\u001b[0m\n\u001b[1;32m    441\u001b[0m                 \u001b[0mcache_content\u001b[0m \u001b[0;34m=\u001b[0m \u001b[0;32mFalse\u001b[0m\u001b[0;34m\u001b[0m\u001b[0;34m\u001b[0m\u001b[0m\n\u001b[0;32m--> 442\u001b[0;31m                 \u001b[0mdata\u001b[0m \u001b[0;34m=\u001b[0m \u001b[0mself\u001b[0m\u001b[0;34m.\u001b[0m\u001b[0m_fp\u001b[0m\u001b[0;34m.\u001b[0m\u001b[0mread\u001b[0m\u001b[0;34m(\u001b[0m\u001b[0mamt\u001b[0m\u001b[0;34m)\u001b[0m\u001b[0;34m\u001b[0m\u001b[0;34m\u001b[0m\u001b[0m\n\u001b[0m\u001b[1;32m    443\u001b[0m                 \u001b[0;32mif\u001b[0m \u001b[0mamt\u001b[0m \u001b[0;34m!=\u001b[0m \u001b[0;36m0\u001b[0m \u001b[0;32mand\u001b[0m \u001b[0;32mnot\u001b[0m \u001b[0mdata\u001b[0m\u001b[0;34m:\u001b[0m  \u001b[0;31m# Platform-specific: Buggy versions of Python.\u001b[0m\u001b[0;34m\u001b[0m\u001b[0;34m\u001b[0m\u001b[0m\n\u001b[1;32m    444\u001b[0m                     \u001b[0;31m# Close the connection when no data is returned\u001b[0m\u001b[0;34m\u001b[0m\u001b[0;34m\u001b[0m\u001b[0;34m\u001b[0m\u001b[0m\n",
      "\u001b[0;32m/anaconda3/lib/python3.7/http/client.py\u001b[0m in \u001b[0;36mread\u001b[0;34m(self, amt)\u001b[0m\n\u001b[1;32m    445\u001b[0m             \u001b[0;31m# Amount is given, implement using readinto\u001b[0m\u001b[0;34m\u001b[0m\u001b[0;34m\u001b[0m\u001b[0;34m\u001b[0m\u001b[0m\n\u001b[1;32m    446\u001b[0m             \u001b[0mb\u001b[0m \u001b[0;34m=\u001b[0m \u001b[0mbytearray\u001b[0m\u001b[0;34m(\u001b[0m\u001b[0mamt\u001b[0m\u001b[0;34m)\u001b[0m\u001b[0;34m\u001b[0m\u001b[0;34m\u001b[0m\u001b[0m\n\u001b[0;32m--> 447\u001b[0;31m             \u001b[0mn\u001b[0m \u001b[0;34m=\u001b[0m \u001b[0mself\u001b[0m\u001b[0;34m.\u001b[0m\u001b[0mreadinto\u001b[0m\u001b[0;34m(\u001b[0m\u001b[0mb\u001b[0m\u001b[0;34m)\u001b[0m\u001b[0;34m\u001b[0m\u001b[0;34m\u001b[0m\u001b[0m\n\u001b[0m\u001b[1;32m    448\u001b[0m             \u001b[0;32mreturn\u001b[0m \u001b[0mmemoryview\u001b[0m\u001b[0;34m(\u001b[0m\u001b[0mb\u001b[0m\u001b[0;34m)\u001b[0m\u001b[0;34m[\u001b[0m\u001b[0;34m:\u001b[0m\u001b[0mn\u001b[0m\u001b[0;34m]\u001b[0m\u001b[0;34m.\u001b[0m\u001b[0mtobytes\u001b[0m\u001b[0;34m(\u001b[0m\u001b[0;34m)\u001b[0m\u001b[0;34m\u001b[0m\u001b[0;34m\u001b[0m\u001b[0m\n\u001b[1;32m    449\u001b[0m         \u001b[0;32melse\u001b[0m\u001b[0;34m:\u001b[0m\u001b[0;34m\u001b[0m\u001b[0;34m\u001b[0m\u001b[0m\n",
      "\u001b[0;32m/anaconda3/lib/python3.7/http/client.py\u001b[0m in \u001b[0;36mreadinto\u001b[0;34m(self, b)\u001b[0m\n\u001b[1;32m    479\u001b[0m \u001b[0;34m\u001b[0m\u001b[0m\n\u001b[1;32m    480\u001b[0m         \u001b[0;32mif\u001b[0m \u001b[0mself\u001b[0m\u001b[0;34m.\u001b[0m\u001b[0mchunked\u001b[0m\u001b[0;34m:\u001b[0m\u001b[0;34m\u001b[0m\u001b[0;34m\u001b[0m\u001b[0m\n\u001b[0;32m--> 481\u001b[0;31m             \u001b[0;32mreturn\u001b[0m \u001b[0mself\u001b[0m\u001b[0;34m.\u001b[0m\u001b[0m_readinto_chunked\u001b[0m\u001b[0;34m(\u001b[0m\u001b[0mb\u001b[0m\u001b[0;34m)\u001b[0m\u001b[0;34m\u001b[0m\u001b[0;34m\u001b[0m\u001b[0m\n\u001b[0m\u001b[1;32m    482\u001b[0m \u001b[0;34m\u001b[0m\u001b[0m\n\u001b[1;32m    483\u001b[0m         \u001b[0;32mif\u001b[0m \u001b[0mself\u001b[0m\u001b[0;34m.\u001b[0m\u001b[0mlength\u001b[0m \u001b[0;32mis\u001b[0m \u001b[0;32mnot\u001b[0m \u001b[0;32mNone\u001b[0m\u001b[0;34m:\u001b[0m\u001b[0;34m\u001b[0m\u001b[0;34m\u001b[0m\u001b[0m\n",
      "\u001b[0;32m/anaconda3/lib/python3.7/http/client.py\u001b[0m in \u001b[0;36m_readinto_chunked\u001b[0;34m(self, b)\u001b[0m\n\u001b[1;32m    574\u001b[0m         \u001b[0;32mtry\u001b[0m\u001b[0;34m:\u001b[0m\u001b[0;34m\u001b[0m\u001b[0;34m\u001b[0m\u001b[0m\n\u001b[1;32m    575\u001b[0m             \u001b[0;32mwhile\u001b[0m \u001b[0;32mTrue\u001b[0m\u001b[0;34m:\u001b[0m\u001b[0;34m\u001b[0m\u001b[0;34m\u001b[0m\u001b[0m\n\u001b[0;32m--> 576\u001b[0;31m                 \u001b[0mchunk_left\u001b[0m \u001b[0;34m=\u001b[0m \u001b[0mself\u001b[0m\u001b[0;34m.\u001b[0m\u001b[0m_get_chunk_left\u001b[0m\u001b[0;34m(\u001b[0m\u001b[0;34m)\u001b[0m\u001b[0;34m\u001b[0m\u001b[0;34m\u001b[0m\u001b[0m\n\u001b[0m\u001b[1;32m    577\u001b[0m                 \u001b[0;32mif\u001b[0m \u001b[0mchunk_left\u001b[0m \u001b[0;32mis\u001b[0m \u001b[0;32mNone\u001b[0m\u001b[0;34m:\u001b[0m\u001b[0;34m\u001b[0m\u001b[0;34m\u001b[0m\u001b[0m\n\u001b[1;32m    578\u001b[0m                     \u001b[0;32mreturn\u001b[0m \u001b[0mtotal_bytes\u001b[0m\u001b[0;34m\u001b[0m\u001b[0;34m\u001b[0m\u001b[0m\n",
      "\u001b[0;32m/anaconda3/lib/python3.7/http/client.py\u001b[0m in \u001b[0;36m_get_chunk_left\u001b[0;34m(self)\u001b[0m\n\u001b[1;32m    542\u001b[0m                 \u001b[0mself\u001b[0m\u001b[0;34m.\u001b[0m\u001b[0m_safe_read\u001b[0m\u001b[0;34m(\u001b[0m\u001b[0;36m2\u001b[0m\u001b[0;34m)\u001b[0m  \u001b[0;31m# toss the CRLF at the end of the chunk\u001b[0m\u001b[0;34m\u001b[0m\u001b[0;34m\u001b[0m\u001b[0m\n\u001b[1;32m    543\u001b[0m             \u001b[0;32mtry\u001b[0m\u001b[0;34m:\u001b[0m\u001b[0;34m\u001b[0m\u001b[0;34m\u001b[0m\u001b[0m\n\u001b[0;32m--> 544\u001b[0;31m                 \u001b[0mchunk_left\u001b[0m \u001b[0;34m=\u001b[0m \u001b[0mself\u001b[0m\u001b[0;34m.\u001b[0m\u001b[0m_read_next_chunk_size\u001b[0m\u001b[0;34m(\u001b[0m\u001b[0;34m)\u001b[0m\u001b[0;34m\u001b[0m\u001b[0;34m\u001b[0m\u001b[0m\n\u001b[0m\u001b[1;32m    545\u001b[0m             \u001b[0;32mexcept\u001b[0m \u001b[0mValueError\u001b[0m\u001b[0;34m:\u001b[0m\u001b[0;34m\u001b[0m\u001b[0;34m\u001b[0m\u001b[0m\n\u001b[1;32m    546\u001b[0m                 \u001b[0;32mraise\u001b[0m \u001b[0mIncompleteRead\u001b[0m\u001b[0;34m(\u001b[0m\u001b[0;34mb''\u001b[0m\u001b[0;34m)\u001b[0m\u001b[0;34m\u001b[0m\u001b[0;34m\u001b[0m\u001b[0m\n",
      "\u001b[0;32m/anaconda3/lib/python3.7/http/client.py\u001b[0m in \u001b[0;36m_read_next_chunk_size\u001b[0;34m(self)\u001b[0m\n\u001b[1;32m    502\u001b[0m     \u001b[0;32mdef\u001b[0m \u001b[0m_read_next_chunk_size\u001b[0m\u001b[0;34m(\u001b[0m\u001b[0mself\u001b[0m\u001b[0;34m)\u001b[0m\u001b[0;34m:\u001b[0m\u001b[0;34m\u001b[0m\u001b[0;34m\u001b[0m\u001b[0m\n\u001b[1;32m    503\u001b[0m         \u001b[0;31m# Read the next chunk size from the file\u001b[0m\u001b[0;34m\u001b[0m\u001b[0;34m\u001b[0m\u001b[0;34m\u001b[0m\u001b[0m\n\u001b[0;32m--> 504\u001b[0;31m         \u001b[0mline\u001b[0m \u001b[0;34m=\u001b[0m \u001b[0mself\u001b[0m\u001b[0;34m.\u001b[0m\u001b[0mfp\u001b[0m\u001b[0;34m.\u001b[0m\u001b[0mreadline\u001b[0m\u001b[0;34m(\u001b[0m\u001b[0m_MAXLINE\u001b[0m \u001b[0;34m+\u001b[0m \u001b[0;36m1\u001b[0m\u001b[0;34m)\u001b[0m\u001b[0;34m\u001b[0m\u001b[0;34m\u001b[0m\u001b[0m\n\u001b[0m\u001b[1;32m    505\u001b[0m         \u001b[0;32mif\u001b[0m \u001b[0mlen\u001b[0m\u001b[0;34m(\u001b[0m\u001b[0mline\u001b[0m\u001b[0;34m)\u001b[0m \u001b[0;34m>\u001b[0m \u001b[0m_MAXLINE\u001b[0m\u001b[0;34m:\u001b[0m\u001b[0;34m\u001b[0m\u001b[0;34m\u001b[0m\u001b[0m\n\u001b[1;32m    506\u001b[0m             \u001b[0;32mraise\u001b[0m \u001b[0mLineTooLong\u001b[0m\u001b[0;34m(\u001b[0m\u001b[0;34m\"chunk size\"\u001b[0m\u001b[0;34m)\u001b[0m\u001b[0;34m\u001b[0m\u001b[0;34m\u001b[0m\u001b[0m\n",
      "\u001b[0;32m/anaconda3/lib/python3.7/socket.py\u001b[0m in \u001b[0;36mreadinto\u001b[0;34m(self, b)\u001b[0m\n\u001b[1;32m    587\u001b[0m         \u001b[0;32mwhile\u001b[0m \u001b[0;32mTrue\u001b[0m\u001b[0;34m:\u001b[0m\u001b[0;34m\u001b[0m\u001b[0;34m\u001b[0m\u001b[0m\n\u001b[1;32m    588\u001b[0m             \u001b[0;32mtry\u001b[0m\u001b[0;34m:\u001b[0m\u001b[0;34m\u001b[0m\u001b[0;34m\u001b[0m\u001b[0m\n\u001b[0;32m--> 589\u001b[0;31m                 \u001b[0;32mreturn\u001b[0m \u001b[0mself\u001b[0m\u001b[0;34m.\u001b[0m\u001b[0m_sock\u001b[0m\u001b[0;34m.\u001b[0m\u001b[0mrecv_into\u001b[0m\u001b[0;34m(\u001b[0m\u001b[0mb\u001b[0m\u001b[0;34m)\u001b[0m\u001b[0;34m\u001b[0m\u001b[0;34m\u001b[0m\u001b[0m\n\u001b[0m\u001b[1;32m    590\u001b[0m             \u001b[0;32mexcept\u001b[0m \u001b[0mtimeout\u001b[0m\u001b[0;34m:\u001b[0m\u001b[0;34m\u001b[0m\u001b[0;34m\u001b[0m\u001b[0m\n\u001b[1;32m    591\u001b[0m                 \u001b[0mself\u001b[0m\u001b[0;34m.\u001b[0m\u001b[0m_timeout_occurred\u001b[0m \u001b[0;34m=\u001b[0m \u001b[0;32mTrue\u001b[0m\u001b[0;34m\u001b[0m\u001b[0;34m\u001b[0m\u001b[0m\n",
      "\u001b[0;32m/anaconda3/lib/python3.7/site-packages/urllib3/contrib/pyopenssl.py\u001b[0m in \u001b[0;36mrecv_into\u001b[0;34m(self, *args, **kwargs)\u001b[0m\n\u001b[1;32m    304\u001b[0m                 \u001b[0;32mraise\u001b[0m\u001b[0;34m\u001b[0m\u001b[0;34m\u001b[0m\u001b[0m\n\u001b[1;32m    305\u001b[0m         \u001b[0;32mexcept\u001b[0m \u001b[0mOpenSSL\u001b[0m\u001b[0;34m.\u001b[0m\u001b[0mSSL\u001b[0m\u001b[0;34m.\u001b[0m\u001b[0mWantReadError\u001b[0m\u001b[0;34m:\u001b[0m\u001b[0;34m\u001b[0m\u001b[0;34m\u001b[0m\u001b[0m\n\u001b[0;32m--> 306\u001b[0;31m             \u001b[0;32mif\u001b[0m \u001b[0;32mnot\u001b[0m \u001b[0mutil\u001b[0m\u001b[0;34m.\u001b[0m\u001b[0mwait_for_read\u001b[0m\u001b[0;34m(\u001b[0m\u001b[0mself\u001b[0m\u001b[0;34m.\u001b[0m\u001b[0msocket\u001b[0m\u001b[0;34m,\u001b[0m \u001b[0mself\u001b[0m\u001b[0;34m.\u001b[0m\u001b[0msocket\u001b[0m\u001b[0;34m.\u001b[0m\u001b[0mgettimeout\u001b[0m\u001b[0;34m(\u001b[0m\u001b[0;34m)\u001b[0m\u001b[0;34m)\u001b[0m\u001b[0;34m:\u001b[0m\u001b[0;34m\u001b[0m\u001b[0;34m\u001b[0m\u001b[0m\n\u001b[0m\u001b[1;32m    307\u001b[0m                 \u001b[0;32mraise\u001b[0m \u001b[0mtimeout\u001b[0m\u001b[0;34m(\u001b[0m\u001b[0;34m'The read operation timed out'\u001b[0m\u001b[0;34m)\u001b[0m\u001b[0;34m\u001b[0m\u001b[0;34m\u001b[0m\u001b[0m\n\u001b[1;32m    308\u001b[0m             \u001b[0;32melse\u001b[0m\u001b[0;34m:\u001b[0m\u001b[0;34m\u001b[0m\u001b[0;34m\u001b[0m\u001b[0m\n",
      "\u001b[0;32m/anaconda3/lib/python3.7/site-packages/urllib3/util/wait.py\u001b[0m in \u001b[0;36mwait_for_read\u001b[0;34m(sock, timeout)\u001b[0m\n\u001b[1;32m    141\u001b[0m     \u001b[0mReturns\u001b[0m \u001b[0;32mTrue\u001b[0m \u001b[0;32mif\u001b[0m \u001b[0mthe\u001b[0m \u001b[0msocket\u001b[0m \u001b[0;32mis\u001b[0m \u001b[0mreadable\u001b[0m\u001b[0;34m,\u001b[0m \u001b[0;32mor\u001b[0m \u001b[0;32mFalse\u001b[0m \u001b[0;32mif\u001b[0m \u001b[0mthe\u001b[0m \u001b[0mtimeout\u001b[0m \u001b[0mexpired\u001b[0m\u001b[0;34m.\u001b[0m\u001b[0;34m\u001b[0m\u001b[0;34m\u001b[0m\u001b[0m\n\u001b[1;32m    142\u001b[0m     \"\"\"\n\u001b[0;32m--> 143\u001b[0;31m     \u001b[0;32mreturn\u001b[0m \u001b[0mwait_for_socket\u001b[0m\u001b[0;34m(\u001b[0m\u001b[0msock\u001b[0m\u001b[0;34m,\u001b[0m \u001b[0mread\u001b[0m\u001b[0;34m=\u001b[0m\u001b[0;32mTrue\u001b[0m\u001b[0;34m,\u001b[0m \u001b[0mtimeout\u001b[0m\u001b[0;34m=\u001b[0m\u001b[0mtimeout\u001b[0m\u001b[0;34m)\u001b[0m\u001b[0;34m\u001b[0m\u001b[0;34m\u001b[0m\u001b[0m\n\u001b[0m\u001b[1;32m    144\u001b[0m \u001b[0;34m\u001b[0m\u001b[0m\n\u001b[1;32m    145\u001b[0m \u001b[0;34m\u001b[0m\u001b[0m\n",
      "\u001b[0;32m/anaconda3/lib/python3.7/site-packages/urllib3/util/wait.py\u001b[0m in \u001b[0;36mpoll_wait_for_socket\u001b[0;34m(sock, read, write, timeout)\u001b[0m\n\u001b[1;32m    102\u001b[0m         \u001b[0;32mreturn\u001b[0m \u001b[0mpoll_obj\u001b[0m\u001b[0;34m.\u001b[0m\u001b[0mpoll\u001b[0m\u001b[0;34m(\u001b[0m\u001b[0mt\u001b[0m\u001b[0;34m)\u001b[0m\u001b[0;34m\u001b[0m\u001b[0;34m\u001b[0m\u001b[0m\n\u001b[1;32m    103\u001b[0m \u001b[0;34m\u001b[0m\u001b[0m\n\u001b[0;32m--> 104\u001b[0;31m     \u001b[0;32mreturn\u001b[0m \u001b[0mbool\u001b[0m\u001b[0;34m(\u001b[0m\u001b[0m_retry_on_intr\u001b[0m\u001b[0;34m(\u001b[0m\u001b[0mdo_poll\u001b[0m\u001b[0;34m,\u001b[0m \u001b[0mtimeout\u001b[0m\u001b[0;34m)\u001b[0m\u001b[0;34m)\u001b[0m\u001b[0;34m\u001b[0m\u001b[0;34m\u001b[0m\u001b[0m\n\u001b[0m\u001b[1;32m    105\u001b[0m \u001b[0;34m\u001b[0m\u001b[0m\n\u001b[1;32m    106\u001b[0m \u001b[0;34m\u001b[0m\u001b[0m\n",
      "\u001b[0;32m/anaconda3/lib/python3.7/site-packages/urllib3/util/wait.py\u001b[0m in \u001b[0;36m_retry_on_intr\u001b[0;34m(fn, timeout)\u001b[0m\n\u001b[1;32m     40\u001b[0m     \u001b[0;31m# Modern Python, that retries syscalls by default\u001b[0m\u001b[0;34m\u001b[0m\u001b[0;34m\u001b[0m\u001b[0;34m\u001b[0m\u001b[0m\n\u001b[1;32m     41\u001b[0m     \u001b[0;32mdef\u001b[0m \u001b[0m_retry_on_intr\u001b[0m\u001b[0;34m(\u001b[0m\u001b[0mfn\u001b[0m\u001b[0;34m,\u001b[0m \u001b[0mtimeout\u001b[0m\u001b[0;34m)\u001b[0m\u001b[0;34m:\u001b[0m\u001b[0;34m\u001b[0m\u001b[0;34m\u001b[0m\u001b[0m\n\u001b[0;32m---> 42\u001b[0;31m         \u001b[0;32mreturn\u001b[0m \u001b[0mfn\u001b[0m\u001b[0;34m(\u001b[0m\u001b[0mtimeout\u001b[0m\u001b[0;34m)\u001b[0m\u001b[0;34m\u001b[0m\u001b[0;34m\u001b[0m\u001b[0m\n\u001b[0m\u001b[1;32m     43\u001b[0m \u001b[0;32melse\u001b[0m\u001b[0;34m:\u001b[0m\u001b[0;34m\u001b[0m\u001b[0;34m\u001b[0m\u001b[0m\n\u001b[1;32m     44\u001b[0m     \u001b[0;31m# Old and broken Pythons.\u001b[0m\u001b[0;34m\u001b[0m\u001b[0;34m\u001b[0m\u001b[0;34m\u001b[0m\u001b[0m\n",
      "\u001b[0;32m/anaconda3/lib/python3.7/site-packages/urllib3/util/wait.py\u001b[0m in \u001b[0;36mdo_poll\u001b[0;34m(t)\u001b[0m\n\u001b[1;32m    100\u001b[0m         \u001b[0;32mif\u001b[0m \u001b[0mt\u001b[0m \u001b[0;32mis\u001b[0m \u001b[0;32mnot\u001b[0m \u001b[0;32mNone\u001b[0m\u001b[0;34m:\u001b[0m\u001b[0;34m\u001b[0m\u001b[0;34m\u001b[0m\u001b[0m\n\u001b[1;32m    101\u001b[0m             \u001b[0mt\u001b[0m \u001b[0;34m*=\u001b[0m \u001b[0;36m1000\u001b[0m\u001b[0;34m\u001b[0m\u001b[0;34m\u001b[0m\u001b[0m\n\u001b[0;32m--> 102\u001b[0;31m         \u001b[0;32mreturn\u001b[0m \u001b[0mpoll_obj\u001b[0m\u001b[0;34m.\u001b[0m\u001b[0mpoll\u001b[0m\u001b[0;34m(\u001b[0m\u001b[0mt\u001b[0m\u001b[0;34m)\u001b[0m\u001b[0;34m\u001b[0m\u001b[0;34m\u001b[0m\u001b[0m\n\u001b[0m\u001b[1;32m    103\u001b[0m \u001b[0;34m\u001b[0m\u001b[0m\n\u001b[1;32m    104\u001b[0m     \u001b[0;32mreturn\u001b[0m \u001b[0mbool\u001b[0m\u001b[0;34m(\u001b[0m\u001b[0m_retry_on_intr\u001b[0m\u001b[0;34m(\u001b[0m\u001b[0mdo_poll\u001b[0m\u001b[0;34m,\u001b[0m \u001b[0mtimeout\u001b[0m\u001b[0;34m)\u001b[0m\u001b[0;34m)\u001b[0m\u001b[0;34m\u001b[0m\u001b[0;34m\u001b[0m\u001b[0m\n",
      "\u001b[0;31mKeyboardInterrupt\u001b[0m: "
     ]
    }
   ],
   "source": [
    "\n",
    "from ipywidgets import IntProgress\n",
    "from IPython.display import display\n",
    "from IPython.display import clear_output\n",
    "import time\n",
    "\n",
    "import sys\n",
    "# Import the necessary package to process data in JSON format\n",
    "try:\n",
    "    import json\n",
    "except ImportError:\n",
    "    import simplejson as json\n",
    "\n",
    "# Import the tweepy library\n",
    "import tweepy\n",
    "\n",
    "# Variables that contains the user credentials to access Twitter API \n",
    "# Captured earlier \n",
    "\n",
    "# Setup tweepy to authenticate with Twitter credentials:\n",
    "\n",
    "auth = tweepy.OAuthHandler(CONSUMER_KEY, CONSUMER_SECRET)\n",
    "auth.set_access_token(ACCESS_TOKEN, ACCESS_SECRET)\n",
    "\n",
    "# Create the api to connect to twitter with your creadentials\n",
    "api = tweepy.API(auth, wait_on_rate_limit=True, wait_on_rate_limit_notify=True, compression=True)\n",
    "\n",
    "status_array = []\n",
    "\n",
    "progress = 0\n",
    "max_count = 100000\n",
    "\n",
    "f = IntProgress(description='Processing:',min=0, max=max_count,) # instantiate the bar\n",
    "display(f) # display the bar\n",
    "\n",
    "\n",
    "\n",
    "class StreamListener(tweepy.StreamListener):\n",
    "    tweet_number=0   # class variable\n",
    "    \n",
    "\n",
    "\n",
    "    def on_status(self, status):\n",
    "        self.max_tweets=max_count # max number of tweets\n",
    "        self.tweet_number+=1   \n",
    "        f.value += 1 # signal to increment the progress bar\n",
    "        progress = (f.value/max_count) * 100\n",
    "        progress = format(progress, '.2f')\n",
    "        print('Progress: ' + str(progress) + \" %\")\n",
    "        clear_output(wait=True)\n",
    "        status_array.append(status._json)\n",
    "\n",
    "        if self.tweet_number>=self.max_tweets:\n",
    "            sys.exit('PROCESSING COMPLETE : '+str(self.max_tweets)+' tweets processed.')\n",
    "\n",
    "        \n",
    "    def on_error(self, status_code):\n",
    "        if status_code == 420:\n",
    "            return False\n",
    "\n",
    "stream_listener = StreamListener()\n",
    "stream = tweepy.Stream(auth=api.auth, listener=stream_listener)\n",
    "\n",
    "#print('Pulling down data.....')\n",
    "stream.filter(track=[\"Brexit\"],languages=[\"en\"])\n",
    "\n",
    "\n"
   ]
  },
  {
   "cell_type": "code",
   "execution_count": 39,
   "metadata": {
    "scrolled": true
   },
   "outputs": [
    {
     "ename": "KeyboardInterrupt",
     "evalue": "",
     "output_type": "error",
     "traceback": [
      "\u001b[0;31m---------------------------------------------------------------------------\u001b[0m",
      "\u001b[0;31mKeyboardInterrupt\u001b[0m                         Traceback (most recent call last)",
      "\u001b[0;32m<ipython-input-39-acb566f4f194>\u001b[0m in \u001b[0;36m<module>\u001b[0;34m\u001b[0m\n\u001b[1;32m     55\u001b[0m     \u001b[0mprint\u001b[0m\u001b[0;34m(\u001b[0m\u001b[0;34m'Progress: '\u001b[0m \u001b[0;34m+\u001b[0m \u001b[0mstr\u001b[0m\u001b[0;34m(\u001b[0m\u001b[0mprogress\u001b[0m\u001b[0;34m)\u001b[0m \u001b[0;34m+\u001b[0m \u001b[0;34m\" %\"\u001b[0m\u001b[0;34m)\u001b[0m\u001b[0;34m\u001b[0m\u001b[0;34m\u001b[0m\u001b[0m\n\u001b[1;32m     56\u001b[0m     \u001b[0mclear_output\u001b[0m\u001b[0;34m(\u001b[0m\u001b[0mwait\u001b[0m\u001b[0;34m=\u001b[0m\u001b[0;32mTrue\u001b[0m\u001b[0;34m)\u001b[0m\u001b[0;34m\u001b[0m\u001b[0;34m\u001b[0m\u001b[0m\n\u001b[0;32m---> 57\u001b[0;31m     \u001b[0mtime\u001b[0m\u001b[0;34m.\u001b[0m\u001b[0msleep\u001b[0m\u001b[0;34m(\u001b[0m\u001b[0;36m.1\u001b[0m\u001b[0;34m)\u001b[0m\u001b[0;34m\u001b[0m\u001b[0;34m\u001b[0m\u001b[0m\n\u001b[0m\u001b[1;32m     58\u001b[0m     \u001b[0mstatus_array\u001b[0m\u001b[0;34m.\u001b[0m\u001b[0mappend\u001b[0m\u001b[0;34m(\u001b[0m\u001b[0mtweet\u001b[0m\u001b[0;34m.\u001b[0m\u001b[0m_json\u001b[0m\u001b[0;34m)\u001b[0m\u001b[0;34m\u001b[0m\u001b[0;34m\u001b[0m\u001b[0m\n\u001b[1;32m     59\u001b[0m \u001b[0;34m\u001b[0m\u001b[0m\n",
      "\u001b[0;31mKeyboardInterrupt\u001b[0m: "
     ]
    }
   ],
   "source": [
    "\"\"\"\n",
    "# HISTORICAL DATA SWITCHED OFF (IF YOU SWITCH ON, THEN SWITCH STREAM OFF ABOVE)\n",
    "\n",
    "from ipywidgets import IntProgress\n",
    "from IPython.display import display\n",
    "from IPython.display import clear_output\n",
    "import time\n",
    "\n",
    "import sys\n",
    "# Import the necessary package to process data in JSON format\n",
    "try:\n",
    "    import json\n",
    "except ImportError:\n",
    "    import simplejson as json\n",
    "\n",
    "# Import the tweepy library\n",
    "import tweepy\n",
    "\n",
    "# Variables that contains the user credentials to access Twitter API \n",
    "# Captured earlier \n",
    "\n",
    "# Setup tweepy to authenticate with Twitter credentials:\n",
    "\n",
    "auth = tweepy.OAuthHandler(CONSUMER_KEY, CONSUMER_SECRET)\n",
    "auth.set_access_token(ACCESS_TOKEN, ACCESS_SECRET)\n",
    "\n",
    "# Create the api to connect to twitter with your creadentials\n",
    "api = tweepy.API(auth, wait_on_rate_limit=True, wait_on_rate_limit_notify=True, compression=True)\n",
    "\n",
    "\n",
    "\n",
    "\n",
    "\n",
    "\n",
    "\n",
    "\n",
    "\n",
    "status_array = []\n",
    "LOOP_COUNT = 0\n",
    "max_count = 100000\n",
    "\n",
    "\n",
    "# ------ENTER YOUR SERACH TERM HER E--------\n",
    "tweets = tweepy.Cursor(api.search, q='Brexit', count=int(max_count))\n",
    "\n",
    "# TRACK PROGRESS\n",
    "f = IntProgress(min=0, max=max_count) # instantiate the bar\n",
    "display(f) # display the bar\n",
    "progress = 0\n",
    "\n",
    "print('Pulling down data.....')                    \n",
    "for tweet in tweets.items(int(max_count)):\n",
    "    f.value+=1 # signal to increment the progress bar\n",
    "    progress = (f.value/max_count) * 100\n",
    "    progress = format(progress, '.2f')\n",
    "    print('Progress: ' + str(progress) + \" %\")\n",
    "    clear_output(wait=True)\n",
    "    time.sleep(.1)\n",
    "    status_array.append(tweet._json)\n",
    "\n",
    "\n",
    "\n",
    "print('Processing complete')\n",
    "\n",
    "\"\"\""
   ]
  },
  {
   "cell_type": "markdown",
   "metadata": {},
   "source": [
    "# QUICK STREAM"
   ]
  },
  {
   "cell_type": "code",
   "execution_count": 3,
   "metadata": {},
   "outputs": [
    {
     "name": "stdout",
     "output_type": "stream",
     "text": [
      "Number of records\n",
      "7366\n",
      "\n",
      "The data keys are : \n",
      "dict_keys(['created_at', 'id', 'id_str', 'text', 'source', 'truncated', 'in_reply_to_status_id', 'in_reply_to_status_id_str', 'in_reply_to_user_id', 'in_reply_to_user_id_str', 'in_reply_to_screen_name', 'user', 'geo', 'coordinates', 'place', 'contributors', 'is_quote_status', 'extended_tweet', 'quote_count', 'reply_count', 'retweet_count', 'favorite_count', 'entities', 'favorited', 'retweeted', 'possibly_sensitive', 'filter_level', 'lang', 'timestamp_ms'])\n",
      "\n"
     ]
    }
   ],
   "source": [
    "print('Number of records')\n",
    "print(len(status_array))\n",
    "print('')\n",
    "print('The data keys are : ')\n",
    "print(status_array[0].keys())\n",
    "print('')\n",
    "#print('An example element looks like: ')\n",
    "#print(status_array[0])"
   ]
  },
  {
   "cell_type": "markdown",
   "metadata": {},
   "source": [
    "# REPORT GENERATION\n",
    "This section allows me to pull the recently mined data into a file in raw format incase i need it later."
   ]
  },
  {
   "cell_type": "code",
   "execution_count": null,
   "metadata": {
    "collapsed": true,
    "scrolled": true
   },
   "outputs": [],
   "source": [
    "# REMOVE QUOTES TO ACTIVATE \n",
    "# append to filename\n",
    "\"\"\"\n",
    "currentDT = datetime.datetime.now()\n",
    "filename = \"data/streamout-\" + str(currentDT) + \".txt\"\n",
    "\n",
    "print(filename)\n",
    "\n",
    "with open(filename, 'w') as f:\n",
    "    for item in status_array:\n",
    "        f.write(\"%s\\n\" % item)\n",
    "f.close()\n",
    "\n",
    "\n",
    "# WRITE OUT FULL REPORT\n",
    "reportfile = \"reports/printout-\"+ str(currentDT) + \".txt\"\n",
    "descriptionfile = \"data/description/printout-\"+ str(currentDT) + \".txt\"\n",
    "tweetfile = \"data/tweet/printout-\"+ str(currentDT) + \".txt\"\n",
    "\n",
    "REPORTCOUNT = 0\n",
    "with open(reportfile, 'w') as f:\n",
    "    for y in range(0, len(status_array)):\n",
    "        REPORTCOUNT = REPORTCOUNT + 1\n",
    "        f.write('************************************************************\\n')\n",
    "        f.write(status_array[y]['text'])\n",
    "        f.write('------------------------------\\n')\n",
    "        f.write(status_array[y]['created_at'])\n",
    "        f.write('------------------------------\\n')\n",
    "        f.write(status_array[y]['user']['name'])\n",
    "        f.write('------------------------------\\n')\n",
    "        f.write(str(status_array[y]['user']['location']))\n",
    "        f.write('------------------------------\\n')\n",
    "        f.write(str(status_array[y]['user']['description']))\n",
    "        f.write('--------------REPLY COUNT----------------\\n|')\n",
    "        f.write(str(status_array[y]['reply_count']))\n",
    "        f.write('--------------RETWEET COUNT----------------\\n')\n",
    "        f.write(str(status_array[y]['retweet_count']))\n",
    "        f.write('--------------RETWEETED?----------------\\n')\n",
    "        f.write(str(status_array[y]['retweeted']))\n",
    "        f.write('--------------RETWEET COUNT----------------\\n')\n",
    "        f.write(str(status_array[y]['retweet_count']))\n",
    "        f.write('--------------FAVOURITED----------------\\n')\n",
    "        f.write(str(status_array[y]['favorited']))\n",
    "        f.write('--------------FAVOURITE COUNT----------------\\n')\n",
    "        f.write(str(status_array[y]['favorite_count']))\n",
    "        f.write('\\n')\n",
    "        f.write('\\n')\n",
    "    f.write('number of records are : ')\n",
    "    f.write(str(REPORTCOUNT))\n",
    "        \n",
    "f.close()\n",
    "    \n",
    "    \n",
    "# WRITE OUT ONLY DESCRIPTION\n",
    "    \n",
    "REPORTCOUNT = 0\n",
    "with open(descriptionfile, 'w') as f:\n",
    "    for y in range(0, len(status_array)):\n",
    "        REPORTCOUNT = REPORTCOUNT + 1\n",
    "        f.write('************************************************************\\n')\n",
    "        f.write(str(status_array[y]['user']['description']))\n",
    "        f.write('\\n')\n",
    "    f.write('number of records are : ')\n",
    "    f.write(str(REPORTCOUNT))\n",
    "        \n",
    "f.close()\n",
    "    \n",
    "\n",
    "# WRITE OUT ONLY TWEET\n",
    "    \n",
    "REPORTCOUNT = 0\n",
    "with open(tweetfile, 'w') as f:\n",
    "    for y in range(0, len(status_array)):\n",
    "        REPORTCOUNT = REPORTCOUNT + 1\n",
    "        f.write('************************************************************\\n')\n",
    "        f.write(status_array[y]['text'])\n",
    "        f.write('\\n')\n",
    "    f.write('number of records are : ')\n",
    "    f.write(str(REPORTCOUNT))\n",
    "        \n",
    "f.close()\n",
    "\n",
    "    \n",
    "    \n",
    "    \n",
    "    \n",
    "    \n",
    "print('=========================SAMPLE OUTPUT================================')\n",
    "print('************************************************************')\n",
    "print(status_array[0]['text'])\n",
    "print('------------------------------')\n",
    "print(status_array[0]['created_at'])\n",
    "print('------------------------------')\n",
    "print(status_array[0]['user']['name'])\n",
    "print('------------------------------')\n",
    "print(status_array[0]['user']['location'])\n",
    "print('------------------------------')\n",
    "print(status_array[0]['user']['description'])\n",
    "print('--------------REPLY COUNT----------------')\n",
    "print(status_array[0]['reply_count'])\n",
    "print('--------------RETWEET COUNT----------------')\n",
    "print(status_array[0]['retweet_count'])\n",
    "print('--------------RETWEETED?----------------') \n",
    "print(status_array[0]['retweeted'])\n",
    "print('--------------RETWEET COUNT----------------')\n",
    "print(status_array[0]['retweet_count'])\n",
    "print('--------------FAVOURITED----------------')\n",
    "print(status_array[0]['favorited'])\n",
    "print('--------------FAVOURITE COUNT----------------')\n",
    "print(status_array[0]['favorite_count'])\n",
    "\"\"\"\n"
   ]
  },
  {
   "cell_type": "markdown",
   "metadata": {},
   "source": [
    "## TWEET NUMERICAL ANALYSIS\n",
    "\n",
    "Change the below values to see how they rank in tweet frequency,  **YOU DON'T NEED TO WORRY ABOUT CASE SENSITIVITY IN WORDING**, that is covered in the code.\n",
    "\n",
    "```\n",
    "WORDONE=''\n",
    "WORDTWO=''\n",
    "WORDTHREE=''\n",
    "```"
   ]
  },
  {
   "cell_type": "code",
   "execution_count": 4,
   "metadata": {
    "scrolled": false
   },
   "outputs": [
    {
     "name": "stdout",
     "output_type": "stream",
     "text": [
      "Total count of words - BORIS :287               3.9%\n",
      "Total count of words - GOVE :188              3.9%\n",
      "Total count of words - ANDREA :38           0.52%\n",
      "Total count of words - MAY :515             6.99%\n",
      "Total count of words - TORY :479             6.5%\n",
      "Total count of words - LABOUR :420               5.7%\n",
      "Total count of words - LIB DEM :35            0.48%\n",
      "Total count of words - REFERENDUM :184           2.5%\n",
      "Total count of words - REMAIN :328             4.45%\n",
      "Total count of words - LEAVE :367               4.98%\n",
      "Total Number of Records: 7366\n",
      "\n",
      "Length of appended text array : 938811\n",
      "\n",
      "OrderedDict([('PARTY', 689), ('EU', 596), ('DEAL', 580), ('UK', 496), ('MINISTER', 328), ('TORY', 327), ('VOTED', 317), ('JOB', 303), ('PRIME', 289), ('LABOUR', 289), ('COULD', 283), ('PEOPLE', 280), ('PM', 268), ('THERE', 267), ('NEW', 265), ('RAAB', 264), ('SHOULD', 252), ('MAY', 242), ('NEXT', 240), ('NO-DEAL', 236)])\n"
     ]
    }
   ],
   "source": [
    "WORDONE='Boris'\n",
    "WORDTWO='Gove'\n",
    "WORDTHREE='Andrea'\n",
    "WORDFOUR = 'May'\n",
    "WORDFIVE = 'Tory'\n",
    "WORDSIX = 'Labour'\n",
    "WORDSEVEN = 'lib dem'\n",
    "WORDEIGHT = 'referendum'\n",
    "WORDNINE = 'remain'\n",
    "WORDTEN = 'leave'\n",
    "\n",
    "\n",
    "\n",
    "\n",
    "WORDONE= WORDONE.upper()\n",
    "WORDTWO= WORDTWO.upper()\n",
    "WORDTHREE=WORDTHREE.upper()\n",
    "WORDFOUR = WORDFOUR.upper()\n",
    "WORDFIVE = WORDFIVE.upper()\n",
    "WORDSIX = WORDSIX.upper()\n",
    "WORDSEVEN = WORDSEVEN.upper()\n",
    "WORDEIGHT = WORDEIGHT.upper()\n",
    "WORDNINE = WORDNINE.upper()\n",
    "WORDTEN = WORDTEN.upper()\n",
    "\n",
    "\n",
    "\n",
    "\n",
    "\n",
    "\n",
    "WORDONE_COUNT = 0\n",
    "WORDTWO_COUNT = 0 \n",
    "WORDTHREE_COUNT = 0 \n",
    "WORDFOUR_COUNT = 0\n",
    "WORDFIVE_COUNT = 0\n",
    "WORDSIX_COUNT = 0\n",
    "WORDSEVEN_COUNT= 0\n",
    "WORDEIGHT_COUNT= 0\n",
    "WORDNINE_COUNT = 0\n",
    "WORDTEN_COUNT = 0\n",
    "\n",
    "\n",
    "\n",
    "\n",
    "linecount = 0\n",
    "APPENDED_TEXT = \"\"\n",
    "\n",
    "\n",
    "\n",
    "for x in range(0, len(status_array)):\n",
    "    linecount = linecount + 1\n",
    "    text = str(status_array[x]['text']).upper()\n",
    "    APPENDED_TEXT = APPENDED_TEXT + str(text)\n",
    "    \n",
    "    \n",
    "    if str(text).count(str(WORDONE)) >= 1:\n",
    "        WORDONE_COUNT = WORDONE_COUNT + 1\n",
    "    if str(text).count(str(WORDTWO)) >= 1:\n",
    "        WORDTWO_COUNT = WORDTWO_COUNT + 1\n",
    "    if str(text).count(str(WORDTHREE)) >= 1:\n",
    "        WORDTHREE_COUNT = WORDTHREE_COUNT + 1\n",
    "    if str(text).count(str(WORDFOUR)) >= 1:\n",
    "        WORDFOUR_COUNT = WORDFOUR_COUNT + 1\n",
    "    if str(text).count(str(WORDFIVE)) >= 1:\n",
    "        WORDFIVE_COUNT = WORDFIVE_COUNT + 1\n",
    "    if str(text).count(str(WORDSIX)) >= 1:\n",
    "        WORDSIX_COUNT = WORDSIX_COUNT + 1\n",
    "    if str(text).count(str(WORDSEVEN)) >= 1:\n",
    "        WORDSEVEN_COUNT = WORDSEVEN_COUNT + 1\n",
    "    if str(text).count(str(WORDEIGHT)) >= 1:\n",
    "        WORDEIGHT_COUNT = WORDEIGHT_COUNT + 1\n",
    "    if str(text).count(str(WORDNINE)) >= 1:\n",
    "        WORDNINE_COUNT = WORDNINE_COUNT + 1\n",
    "    if str(text).count(str(WORDTEN)) >= 1:\n",
    "        WORDTEN_COUNT = WORDTEN_COUNT + 1\n",
    "\n",
    "      \n",
    " \n",
    "\n",
    "\n",
    "WORDONE_COUNT_PERCENT = round(((WORDONE_COUNT/len(status_array))*100),2)\n",
    "WORDTWO_COUNT_PERCENT  = round(((WORDONE_COUNT/len(status_array))*100),2)\n",
    "WORDTHREE_COUNT_PERCENT  = round(((WORDTHREE_COUNT/len(status_array))*100),2)\n",
    "WORDFOUR_COUNT_PERCENT  = round(((WORDFOUR_COUNT/len(status_array))*100),2)\n",
    "WORDFIVE_COUNT_PERCENT  = round(((WORDFIVE_COUNT/len(status_array))*100),2)\n",
    "WORDSIX_COUNT_PERCENT  = round(((WORDSIX_COUNT/len(status_array))*100),2)\n",
    "WORDSEVEN_COUNT_PERCENT  = round(((WORDSEVEN_COUNT/len(status_array))*100),2)\n",
    "WORDEIGHT_COUNT_PERCENT  = round(((WORDEIGHT_COUNT/len(status_array))*100),2)\n",
    "WORDNINE_COUNT_PERCENT  = round(((WORDNINE_COUNT/len(status_array))*100),2)\n",
    "WORDTEN_COUNT_PERCENT  = round(((WORDTEN_COUNT/len(status_array))*100),2)\n",
    "        \n",
    "print('Total count of words - ' + str(WORDONE) + ' :' + str(WORDONE_COUNT) + \"               \" + str(WORDONE_COUNT_PERCENT) + \"%\")\n",
    "print('Total count of words - ' + str(WORDTWO) + ' :' + str(WORDTWO_COUNT) + \"              \" + str(WORDTWO_COUNT_PERCENT)+ \"%\")\n",
    "print('Total count of words - ' + str(WORDTHREE) + ' :' + str(WORDTHREE_COUNT) + \"           \" + str(WORDTHREE_COUNT_PERCENT)+ \"%\")\n",
    "print('Total count of words - ' + str(WORDFOUR) + ' :' + str(WORDFOUR_COUNT) + \"             \" + str(WORDFOUR_COUNT_PERCENT)+ \"%\")\n",
    "print('Total count of words - ' + str(WORDFIVE) + ' :' + str(WORDFIVE_COUNT) + \"             \" + str(WORDFIVE_COUNT_PERCENT)+ \"%\")\n",
    "print('Total count of words - ' + str(WORDSIX) + ' :' + str(WORDSIX_COUNT) + \"               \" + str(WORDSIX_COUNT_PERCENT)+ \"%\")\n",
    "print('Total count of words - ' + str(WORDSEVEN) + ' :' + str(WORDSEVEN_COUNT) + \"            \" + str(WORDSEVEN_COUNT_PERCENT)+ \"%\")\n",
    "print('Total count of words - ' + str(WORDEIGHT) + ' :' + str(WORDEIGHT_COUNT) + \"           \" + str(WORDEIGHT_COUNT_PERCENT)+ \"%\")\n",
    "print('Total count of words - ' + str(WORDNINE) + ' :' + str(WORDNINE_COUNT) + \"             \" + str(WORDNINE_COUNT_PERCENT)+ \"%\")\n",
    "print('Total count of words - ' + str(WORDTEN) + ' :' + str(WORDTEN_COUNT) + \"               \" + str(WORDTEN_COUNT_PERCENT)+ \"%\")\n",
    "print('Total Number of Records: ' + str(linecount)) \n",
    "\n",
    "\n",
    "APPENDED_TEXT = APPENDED_TEXT.replace('#', '')\n",
    "APPENDED_TEXT = APPENDED_TEXT.replace('.', '')\n",
    "APPENDED_TEXT = APPENDED_TEXT.replace(',', '')\n",
    "APPENDED_TEXT = APPENDED_TEXT.replace(',', '')\n",
    "\n",
    "\n",
    "\n",
    "print('')\n",
    "\n",
    "print(\"Length of appended text array : \" + str(len(APPENDED_TEXT)))\n",
    "\n",
    "print('')\n",
    "from collections import Counter, OrderedDict\n",
    "DISC = APPENDED_TEXT.split()\n",
    "x = Counter(DISC)\n",
    "del x['⠀'],x['AND'],x['THE'],x['OF'],x['TO'],x['A'],x['IN'],x['&'],x['MY'],x['FOR'],x['I'],x['NOT'],x['IS'],x['ARE']\n",
    "del x['WITH'],x['ALL'],x['ON'],x['-'],x['YOU'],x['BY'],x['IT'],x['NO'],x['OR'],x['OWN'],x['THAT'],x['AT'],x['BE'],x['|'],x['WILL'],\n",
    "del x['BUT'],x['AN'],x['ABOUT'],x['AS'],x['FROM'],x['WHO'],x['ME'],x['WE'],x['HAVE'],x['OUR'],x['AM'],x['LIKE'],x['JUST']\n",
    "del x['THIS'],x['THEY'],x['IF'],x['HAS'],x['&AMP'],x['HAS'],x['CAN'],x['NOW'],x['SO'],x['ONLY'],x['WAS'],x['WHAT'],x['THEIR'],x['YOUR'],x['WOULD']\n",
    "del x['DO'],x['&AMP;'],x['ONE'],x['WANT'],x['BEEN'],x['THEM'],x['MORE'],x['TODAY'],x['GET'],x['WHEN'],x['COMMENT'],x['HER'],x['SHE'],x['FURTHER']\n",
    "del x['HE'],x['HIS'],x['OUT'],x['HOW'],x['BECAUSE'],x['HIM'],x['WHY'],x['THINK'],x[\"IT'S\"],x['TAKE'],x['OVER'],x[''],x[''],\n",
    "del x['END'], x['ALSO'],x['SINCE'],x['END'],x['THAT'],x['UP'],x['IT’S'],x['SEE']\n",
    "\n",
    "#SPECIAL DELETE \n",
    "del x['BREXIT']\n",
    "\n",
    "large_top_tweets = OrderedDict(x.most_common(50))\n",
    "top_tweets = OrderedDict(x.most_common(20))\n",
    "print(top_tweets)\n",
    "\n",
    "\n"
   ]
  },
  {
   "cell_type": "code",
   "execution_count": 7,
   "metadata": {},
   "outputs": [
    {
     "data": {
      "image/png": "[encoded data removed]",
      "text/plain": [
       "<Figure size 1440x720 with 1 Axes>"
      ]
     },
     "metadata": {
      "needs_background": "light"
     },
     "output_type": "display_data"
    }
   ],
   "source": [
    "import os\n",
    "import matplotlib.pyplot as plt\n",
    "\n",
    "E = top_tweets\n",
    "one = (0.1, 0.1, 0.1, 0.1)\n",
    "two = (0.1, 0.1, 0.1, 0.1)\n",
    "three = (0.1, 0.1, 0.1, 0.1)\n",
    "four= (0.1, 0.1, 0.1, 0.1)\n",
    "five= (0.1, 0.1, 0.1, 0.1)\n",
    "six= (0.1, 0.1, 0.1, 0.1)\n",
    "seven= (0.1, 0.1, 0.1, 0.1)\n",
    "eight= (0.1, 0.1, 0.1, 0.1)\n",
    "nine= (0.1, 0.1, 0.1, 0.1)\n",
    "ten= (0.1, 0.1, 0.1, 0.1)\n",
    "eleven= (0.1, 0.1, 0.1, 0.1)\n",
    "twelve= (0.1, 0.1, 0.1, 0.1)\n",
    "thirteen= (0.1, 0.1, 0.1, 0.1)\n",
    "fourteen= (0.1, 0.1, 0.1, 0.1)\n",
    "fithteen= (0.1, 0.1, 0.1, 0.1)\n",
    "sixteen= (0.1, 0.1, 0.1, 0.1)\n",
    "seventeen= (0.1, 0.1, 0.1, 0.1)\n",
    "eighteen= (0.1, 0.1, 0.1, 0.1)\n",
    "nineteen= (0.1, 0.1, 0.1, 0.1)\n",
    "twenty= (0.1, 0.1, 0.1, 0.1)\n",
    "\n",
    "\n",
    "\n",
    "color_last = [one, two,three,four,five,six,seven,eight,nine,ten,eleven,twelve,thirteen,fourteen,fithteen,sixteen,seventeen,eighteen,nineteen,twenty]\n",
    "color = (0.1, 0.1, 0.1, 0.1)\n",
    "plt.bar(range(len(E)), list(E.values()), align='center', color=color_last,  edgecolor='blue')\n",
    "\n",
    "plt.xticks(range(len(E)), list(E.keys()), rotation='vertical', fontsize=20)\n",
    "plt.title(\"Most Frequently Tweeted Words\", fontsize=30)\n",
    "plt.ylabel('Number of Occurrences (thousands)', fontsize=20 )\n",
    "plt.xlabel('Tweeted term by Frequency', horizontalalignment='left', position=(0,25),fontsize=18)\n",
    "plt.rcParams[\"figure.figsize\"] = (20,10)\n",
    "os.remove(\"TWEETS.png\")\n",
    "plt.savefig(\"TWEETS\", bbox_inches=\"tight\")\n",
    "plt.show()\n"
   ]
  },
  {
   "cell_type": "markdown",
   "metadata": {},
   "source": [
    "# TWEET COMPARISON"
   ]
  },
  {
   "cell_type": "code",
   "execution_count": 8,
   "metadata": {},
   "outputs": [
    {
     "data": {
      "image/png": "[encoded data removed]",
      "text/plain": [
       "<Figure size 1440x720 with 1 Axes>"
      ]
     },
     "metadata": {
      "needs_background": "light"
     },
     "output_type": "display_data"
    }
   ],
   "source": [
    "import matplotlib.pyplot as plt\n",
    "B = {str(WORDONE):int(WORDONE_COUNT), \n",
    "     str(WORDTWO):int(WORDTWO_COUNT),\n",
    "    str(WORDTHREE):int(WORDTHREE_COUNT),\n",
    "    str(WORDFOUR):int(WORDFOUR_COUNT),\n",
    "    str(WORDFIVE):int(WORDFIVE_COUNT)}\n",
    "\n",
    "\n",
    "\n",
    "plt.bar(range(len(B)), list(B.values()), align='center', alpha=0.5, color=('#ff8c66'),  edgecolor='blue')\n",
    "\n",
    "plt.xticks(range(len(B)), list(B.keys()), rotation='horizontal', fontsize=20)\n",
    "plt.title(\"Tweet Popular Tweet Word Comparison\", fontsize=30)\n",
    "plt.ylabel('Number of Occurrences (thousands)', fontsize=18)\n",
    "#plt.xlabel('These are the words in which Tweeters describe themselves', horizontalalignment='left', position=(0,25), fontsize=18)\n",
    "plt.rcParams[\"figure.figsize\"] = (20,10)\n",
    "#plt.savefig(\"BESPOKE\", bbox_inches=\"tight\")\n",
    "os.remove(\"comparetweets.png\")\n",
    "\n",
    "plt.savefig(\"comparetweets\")\n",
    "plt.show()"
   ]
  },
  {
   "cell_type": "markdown",
   "metadata": {},
   "source": [
    "## USER DESCRIPTION NUMERICAL ANALYSIS\n",
    "\n",
    "Change the below values to see how they rank in tweet frequency **YOU DON'T NEED TO WORRY ABOUT CASE SENSITIVITY IN WORDING**, that is covered in the code."
   ]
  },
  {
   "cell_type": "code",
   "execution_count": 10,
   "metadata": {},
   "outputs": [
    {
     "name": "stdout",
     "output_type": "stream",
     "text": [
      "Total count of words - BORIS :21\n",
      "Total count of words - GOVE :83\n",
      "Total count of words - ANDREA :2\n",
      "Total count of words - MAY :97\n",
      "Total count of words - TORY :223\n",
      "Total count of words - LABOUR :174\n",
      "Total count of words - LIB DEM :16\n",
      "Total count of words - REFERENDUM :33\n",
      "Total count of words - REMAIN :234\n",
      "Total count of words - BREXIT :1122\n",
      "Total Number of Records: 7366\n",
      "\n",
      "OrderedDict([('BREXIT', 557), ('LOVE', 331), ('EU', 294), ('POLITICS', 259), ('VIEWS', 240), ('FAN', 208), ('MUSIC', 198), ('LOVER', 180), ('SUPPORTER', 175), ('HATE', 169), ('LIFE', 168), ('UK', 164), ('PARTY', 159), ('PEOPLE', 159), ('PROUD', 149), ('RIGHT', 141), ('EUROPEAN', 139), ('FBPE', 137), ('PRO', 132), ('BRITISH', 124)])\n"
     ]
    }
   ],
   "source": [
    "WORDONE='Boris'\n",
    "WORDTWO='Gove'\n",
    "WORDTHREE='Andrea'\n",
    "WORDFOUR = 'May'\n",
    "WORDFIVE = 'Tory'\n",
    "WORDSIX = 'Labour'\n",
    "WORDSEVEN = 'lib dem'\n",
    "WORDEIGHT = 'referendum'\n",
    "WORDNINE = 'remain'\n",
    "WORDTEN = 'brexit'\n",
    "\n",
    "\n",
    "\n",
    "\n",
    "WORDONE= WORDONE.upper()\n",
    "WORDTWO= WORDTWO.upper()\n",
    "WORDTHREE=WORDTHREE.upper()\n",
    "WORDFOUR = WORDFOUR.upper()\n",
    "WORDFIVE = WORDFIVE.upper()\n",
    "WORDSIX = WORDSIX.upper()\n",
    "WORDSEVEN = WORDSEVEN.upper()\n",
    "WORDEIGHT = WORDEIGHT.upper()\n",
    "WORDNINE = WORDNINE.upper()\n",
    "WORDTEN = WORDTEN.upper()\n",
    "\n",
    "\n",
    "\n",
    "\n",
    "\n",
    "\n",
    "WORDONE_COUNT = 0\n",
    "WORDTWO_COUNT = 0 \n",
    "WORDTHREE_COUNT = 0 \n",
    "WORDFOUR_COUNT = 0\n",
    "WORDFIVE_COUNT = 0\n",
    "WORDSIX_COUNT = 0\n",
    "WORDSEVEN_COUNT= 0\n",
    "WORDEIGHT_COUNT= 0\n",
    "WORDNINE_COUNT = 0\n",
    "WORDTEN_COUNT = 0\n",
    "\n",
    "\n",
    "linecount = 0\n",
    "APPENDED_DESCRIPTION = \"\"\n",
    "\n",
    "\n",
    "\n",
    "for x in range(0, len(status_array)):\n",
    "    linecount = linecount + 1\n",
    "    description = str(status_array[x]['user']['description']).upper()\n",
    "    APPENDED_DESCRIPTION = APPENDED_DESCRIPTION + str(description)\n",
    "    \n",
    "    \n",
    "    if str(description).count(str(WORDONE)) >= 1:\n",
    "        WORDONE_COUNT = WORDONE_COUNT + 1\n",
    "    if str(description).count(str(WORDTWO)) >= 1:\n",
    "        WORDTWO_COUNT = WORDTWO_COUNT + 1\n",
    "    if str(description).count(str(WORDTHREE)) >= 1:\n",
    "        WORDTHREE_COUNT = WORDTHREE_COUNT + 1\n",
    "    if str(description).count(str(WORDFOUR)) >= 1:\n",
    "        WORDFOUR_COUNT = WORDFOUR_COUNT + 1\n",
    "    if str(description).count(str(WORDFIVE)) >= 1:\n",
    "        WORDFIVE_COUNT = WORDFIVE_COUNT + 1\n",
    "    if str(description).count(str(WORDSIX)) >= 1:\n",
    "        WORDSIX_COUNT = WORDSIX_COUNT + 1\n",
    "    if str(description).count(str(WORDSEVEN)) >= 1:\n",
    "        WORDSEVEN_COUNT = WORDSEVEN_COUNT + 1\n",
    "    if str(description).count(str(WORDEIGHT)) >= 1:\n",
    "        WORDEIGHT_COUNT = WORDEIGHT_COUNT + 1\n",
    "    if str(description).count(str(WORDNINE)) >= 1:\n",
    "        WORDNINE_COUNT = WORDNINE_COUNT + 1\n",
    "    if str(description).count(str(WORDTEN)) >= 1:\n",
    "        WORDTEN_COUNT = WORDTEN_COUNT + 1\n",
    "\n",
    "      \n",
    "      \n",
    "        \n",
    "print('Total count of words - ' + str(WORDONE) + ' :' + str(WORDONE_COUNT))\n",
    "print('Total count of words - ' + str(WORDTWO) + ' :' + str(WORDTWO_COUNT))\n",
    "print('Total count of words - ' + str(WORDTHREE) + ' :' + str(WORDTHREE_COUNT))\n",
    "print('Total count of words - ' + str(WORDFOUR) + ' :' + str(WORDFOUR_COUNT))\n",
    "print('Total count of words - ' + str(WORDFIVE) + ' :' + str(WORDFIVE_COUNT))\n",
    "print('Total count of words - ' + str(WORDSIX) + ' :' + str(WORDSIX_COUNT))\n",
    "print('Total count of words - ' + str(WORDSEVEN) + ' :' + str(WORDSEVEN_COUNT))\n",
    "print('Total count of words - ' + str(WORDEIGHT) + ' :' + str(WORDEIGHT_COUNT))\n",
    "print('Total count of words - ' + str(WORDNINE) + ' :' + str(WORDNINE_COUNT))\n",
    "print('Total count of words - ' + str(WORDTEN) + ' :' + str(WORDTEN_COUNT))\n",
    "print('Total Number of Records: ' + str(linecount)) \n",
    "\n",
    "\n",
    "APPENDED_DESCRIPTION = APPENDED_DESCRIPTION.replace('#', '')\n",
    "APPENDED_DESCRIPTION = APPENDED_DESCRIPTION.replace('.', '')\n",
    "APPENDED_DESCRIPTION = APPENDED_DESCRIPTION.replace(',', '')\n",
    "APPENDED_DESCRIPTION = APPENDED_DESCRIPTION.replace(',', '')\n",
    "\n",
    "\n",
    "\n",
    "\n",
    "from collections import Counter, OrderedDict\n",
    "DISC = APPENDED_DESCRIPTION.split()\n",
    "x = Counter(DISC)\n",
    "del x['⠀'],x['AND'],x['THE'],x['OF'],x['TO'],x['A'],x['IN'],x['&'],x['MY'],x['FOR'],x['I'],x['NOT'],x['IS'],x['ARE']\n",
    "del x['WITH'],x['ALL'],x['ON'],x['-'],x['YOU'],x['BY'],x['IT'],x['NO'],x['OR'],x['OWN'],x['THAT'],x['AT'],x['BE'],x['|'],x['WILL'],\n",
    "del x['BUT'],x['AN'],x['ABOUT'],x['AS'],x['FROM'],x['WHO'],x['ME'],x['WE'],x['HAVE'],x['OUR'],x['AM'],x['LIKE'],x['JUST']\n",
    "del x['THIS'],x['THEY'],x['IF'],x['HAS'],x['&AMP'],x['HAS'],x['CAN'],x['NOW'],x['SO'],x['ONLY'],x['WAS'],x['WHAT'],x['THEIR'],x['YOUR'],x['WOULD']\n",
    "del x['DO'],x['&AMP;'],x['ONE'],x['WANT'],x['BEEN'],x['THEM'],x['MORE'],x['/'],x['•'],x[\"I'M\"],x[''],x['']\n",
    "\n",
    "large_bio_desc = OrderedDict(x.most_common(50))\n",
    "top_bio_desc = OrderedDict(x.most_common(20))\n",
    "print('')\n",
    "print(top_bio_desc)\n"
   ]
  },
  {
   "cell_type": "markdown",
   "metadata": {},
   "source": [
    "## BIO TERM COMPARISON"
   ]
  },
  {
   "cell_type": "code",
   "execution_count": 11,
   "metadata": {
    "scrolled": false
   },
   "outputs": [
    {
     "data": {
      "image/png": "[encoded data removed]",
      "text/plain": [
       "<Figure size 1440x720 with 1 Axes>"
      ]
     },
     "metadata": {
      "needs_background": "light"
     },
     "output_type": "display_data"
    }
   ],
   "source": [
    "import matplotlib.pyplot as plt\n",
    "B = {str(WORDONE):int(WORDONE_COUNT), \n",
    "     str(WORDTWO):int(WORDTWO_COUNT),\n",
    "    str(WORDTHREE):int(WORDTHREE_COUNT),\n",
    "    str(WORDFOUR):int(WORDFOUR_COUNT),\n",
    "    str(WORDFIVE):int(WORDFIVE_COUNT)}\n",
    "\n",
    "\n",
    "\n",
    "plt.bar(range(len(B)), list(B.values()), align='center', alpha=0.5, color=('#ff8c66'),  edgecolor='blue')\n",
    "\n",
    "plt.xticks(range(len(B)), list(B.keys()), rotation='horizontal')\n",
    "plt.title(\"Tweeters Bio - Most popular Self Description\", fontsize=30)\n",
    "plt.ylabel('Number of Occurrences (thousands)', fontsize=18)\n",
    "#plt.xlabel('These are the words in which Tweeters describe themselves', horizontalalignment='left', position=(0,25), fontsize=18)\n",
    "plt.rcParams[\"figure.figsize\"] = (20,10)\n",
    "#plt.savefig(\"BESPOKE\", bbox_inches=\"tight\")\n",
    "os.remove(\"COMPARE.png\")\n",
    "plt.savefig(\"COMPARE\")\n",
    "plt.show()"
   ]
  },
  {
   "cell_type": "code",
   "execution_count": 12,
   "metadata": {},
   "outputs": [
    {
     "data": {
      "image/png": "[encoded data removed]",
      "text/plain": [
       "<Figure size 1440x720 with 1 Axes>"
      ]
     },
     "metadata": {
      "needs_background": "light"
     },
     "output_type": "display_data"
    }
   ],
   "source": [
    "import matplotlib.pyplot as plt\n",
    "\n",
    "D = top_bio_desc\n",
    "\n",
    "plt.bar(range(len(D)), list(D.values()), align='center', color=(0.1, 0.5, 1, 0.1),  edgecolor='blue')\n",
    "\n",
    "plt.xticks(range(len(D)), list(D.keys()), rotation='vertical', fontsize=20)\n",
    "plt.title(\"Tweeters Bio - Most popular Self Description\", fontsize=30)\n",
    "plt.ylabel('Number of Occurrences (thousands)', fontsize=18)\n",
    "plt.xlabel('These are the words in which Tweeters describe themselves', horizontalalignment='left', position=(0,25), fontsize=18)\n",
    "plt.rcParams[\"figure.figsize\"] = (20,10)\n",
    "os.remove(\"BIO.png\")\n",
    "plt.savefig(\"BIO\", bbox_inches=\"tight\")\n",
    "plt.show()"
   ]
  },
  {
   "cell_type": "markdown",
   "metadata": {
    "collapsed": true
   },
   "source": [
    "# SENTIMENT ANALYSIS \n",
    "\n",
    "The sentiment property returns a named tuple of the form Sentiment (polarity, subjectivity). The polarity score is a float within the range [-1.0, 1.0]. The subjectivity is a float within the range [0.0, 1.0] where 0.0 is very objective and 1.0 is very subjective.\n",
    "\n",
    "# Now the Theory\n",
    "Thanks to Siraj Raval and freecode camp for the sample here\n",
    "\n",
    "TextBlob\n",
    "TextBlob is a Python (2 and 3) library for processing textual data. It provides a simple API for diving into common natural language processing (NLP) tasks such as part-of-speech tagging, noun phrase extraction, sentiment analysis, classification, translation, and more.\n",
    "\n",
    "A textblob can be created in the following way (example, and not part of the original code):\n",
    "\n",
    "example = TextBlob(\"Python is a high-level, general-purpose programming language.\")\n",
    "And tokenization can be performed by the following methods:\n",
    "words: returns the words of text\n",
    "\n",
    "usage:\n",
    "\n",
    "example.words\n",
    "sentences: returns the sentences of text\n",
    "\n",
    "usage:\n",
    "\n",
    "example.sentences\n"
   ]
  },
  {
   "cell_type": "code",
   "execution_count": 13,
   "metadata": {},
   "outputs": [],
   "source": [
    "from textblob import TextBlob\n",
    "import tweepy\n",
    "\n",
    "\n",
    "auth = tweepy.OAuthHandler(CONSUMER_KEY, CONSUMER_SECRET)\n",
    "auth.set_access_token(ACCESS_TOKEN, ACCESS_SECRET)\n",
    "api = tweepy.API(auth)"
   ]
  },
  {
   "cell_type": "code",
   "execution_count": 14,
   "metadata": {},
   "outputs": [],
   "source": [
    "public_tweets = api.search('Brexit')"
   ]
  },
  {
   "cell_type": "code",
   "execution_count": 15,
   "metadata": {},
   "outputs": [
    {
     "name": "stdout",
     "output_type": "stream",
     "text": [
      "Mr. Bean is back.\n",
      "Michael Gove announces he is running to be prime minister https://t.co/nSXCQkFmkp\n",
      "Sentiment(polarity=0.0, subjectivity=0.0)\n",
      "objective\n",
      "\n",
      "\n",
      "RT @MarcusJBall: #BallVJohnson\n",
      "\n",
      "(@MarcusJBall V @BorisJohnson)\n",
      "\n",
      "Our prosecution case’s first day in court is officially 2pm on May 14th at…\n",
      "Sentiment(polarity=0.25, subjectivity=0.3333333333333333)\n",
      "Subjective\n",
      "\n",
      "\n",
      "RT @SocialM85897394: European planemaker Airbus wants to stay in the UK whatever the outcome of Brexit, as the country is \"a very important…\n",
      "Sentiment(polarity=0.13333333333333333, subjectivity=0.13333333333333333)\n",
      "Subjective\n",
      "\n",
      "\n",
      "RT @ToryFibs: Tom Watson \n",
      "\n",
      "• 2014: I demand an EU  referendum \n",
      "• 2016: I want to end free movement \n",
      "• 2018: Labour is the party of soft Bre…\n",
      "Sentiment(polarity=0.25, subjectivity=0.575)\n",
      "Subjective\n",
      "\n",
      "\n",
      "RT @NHSMillion: Boris Johnson is a danger to our NHS and should not be allowed anywhere near the Prime Minister job - please RT if you agre…\n",
      "Sentiment(polarity=0.1, subjectivity=0.4)\n",
      "Subjective\n",
      "\n",
      "\n",
      "https://t.co/6yVilF2PvB\n",
      "Sentiment(polarity=0.0, subjectivity=0.0)\n",
      "objective\n",
      "\n",
      "\n",
      "RT @gavinesler: What? Can we no longer organise a free and fair vote in our country in which those entitled to vote are able to do so? What…\n",
      "Sentiment(polarity=0.5333333333333333, subjectivity=0.775)\n",
      "Subjective\n",
      "\n",
      "\n",
      "RT @SocialM85897394: 👇👇👇  The BBC and Sky News gave Airbus headlines for weeks after it said it may pull out of Britain because of Brexit.…\n",
      "Sentiment(polarity=0.0, subjectivity=0.0)\n",
      "objective\n",
      "\n",
      "\n",
      "@scrumpy54 @LeaveMnsLeave @Telegraph Leaving aside that the forecasts might well come true after Brexit even if not… https://t.co/rw46SWeKcf\n",
      "Sentiment(polarity=0.35, subjectivity=0.65)\n",
      "Subjective\n",
      "\n",
      "\n",
      "RT @AngusRobertson: Dear Scotland, We are now facing Boris Johnson as Prime Minister and hard Brexit despite not voting for either. Is this…\n",
      "Sentiment(polarity=-0.2916666666666667, subjectivity=0.5416666666666666)\n",
      "Negatively subjective\n",
      "\n",
      "\n",
      "RT @bbradleymp: 3. I said to Barwell that there was no compromise that would  keep both #remainers and #leavers happy. That we could not ke…\n",
      "Sentiment(polarity=0.65, subjectivity=1.0)\n",
      "Subjective\n",
      "\n",
      "\n",
      "RT @EdwardJDavey: Hugely concerning\n",
      "\n",
      "Farage’s best friends seem to be brexit bots: a social propaganda programme to make nationalist populi…\n",
      "Sentiment(polarity=0.33333333333333337, subjectivity=0.3416666666666667)\n",
      "Subjective\n",
      "\n",
      "\n",
      "objective_tweets : 3\n",
      "subjective_tweets : 8\n",
      "negitively_subjective tweets: 1\n"
     ]
    }
   ],
   "source": [
    "objective_tweet=0\n",
    "subjective_tweet=0\n",
    "negitively_subjective=0\n",
    "for tweet in public_tweets:\n",
    "    print(tweet.text)\n",
    "    analysis = TextBlob(tweet.text)\n",
    "    print(analysis.sentiment)\n",
    "    if analysis.sentiment[0]>0:\n",
    "       subjective_tweet = subjective_tweet + 1\n",
    "       print('Subjective')\n",
    "    elif analysis.sentiment[0]<0:\n",
    "       negitively_subjective = negitively_subjective  + 1\n",
    "       print('Negatively subjective')\n",
    "    else:\n",
    "       objective_tweet = objective_tweet + 1\n",
    "       print('objective')\n",
    "    print('\\n')\n",
    "    \n",
    "print('objective_tweets : '+str(objective_tweet))\n",
    "print('subjective_tweets : '+str(subjective_tweet))\n",
    "print('negitively_subjective tweets: '+str(negitively_subjective))"
   ]
  },
  {
   "cell_type": "markdown",
   "metadata": {
    "collapsed": true
   },
   "source": [
    "# SAMPLE"
   ]
  },
  {
   "cell_type": "code",
   "execution_count": 16,
   "metadata": {},
   "outputs": [
    {
     "data": {
      "text/plain": [
       "\"RT @ColeEcon101: @notracesms agree, it's good strategy also:\\nif what you say is correct and they get ignored in future negotiations, they c…\""
      ]
     },
     "execution_count": 16,
     "metadata": {},
     "output_type": "execute_result"
    }
   ],
   "source": [
    "status_array[5000]['text']"
   ]
  },
  {
   "cell_type": "markdown",
   "metadata": {},
   "source": [
    "# MOST REFERENCED PEOPLE"
   ]
  },
  {
   "cell_type": "code",
   "execution_count": 17,
   "metadata": {},
   "outputs": [
    {
     "name": "stdout",
     "output_type": "stream",
     "text": [
      "Number of times users were quoted :9217\n",
      "Most quoted users are : OrderedDict([('DominicRaab', 193), ('carolecadwalla', 183), ('Telegraph', 152), ('mrjamesob', 119), ('BBC', 114)])\n",
      "\n"
     ]
    }
   ],
   "source": [
    "quote_count = 0\n",
    "quoted_users = []\n",
    "\n",
    "# USING FOLLOWING REDUCES TO ONLY IF QUOTED if status_array[current]['is_quote_status'] == True: \n",
    "\n",
    "for current in range(0, len(status_array)):\n",
    "    \"\"\"If quoted, then check mentions and append mention screen names to array\"\"\"\n",
    "    \n",
    "    if status_array[current]['entities']['user_mentions'] is not None:\n",
    "        for y in range(0, len(status_array[current]['entities']['user_mentions'])):\n",
    "            quoted_users.append(status_array[current]['entities']['user_mentions'][y]['screen_name'])\n",
    "\n",
    "                \n",
    "print(\"Number of times users were quoted :\" + str(len(quoted_users)))\n",
    "       \n",
    "quoteCounter = Counter(quoted_users)\n",
    "quoteCounted = OrderedDict(quoteCounter.most_common(5))\n",
    "\n",
    "\n",
    "print(\"Most quoted users are : \" + str(quoteCounted) + \"\\n\")   \n",
    "    \n",
    "reference_items = list(quoteCounted.items())\n",
    "\n"
   ]
  },
  {
   "cell_type": "markdown",
   "metadata": {
    "collapsed": true
   },
   "source": [
    "# GOOGLE TRENDS "
   ]
  },
  {
   "cell_type": "code",
   "execution_count": 18,
   "metadata": {},
   "outputs": [
    {
     "data": {
      "text/plain": [
       "\"\\nimport csv\\nimport matplotlib.pyplot as plt; plt.rcdefaults()\\nimport numpy as np\\nimport matplotlib.pyplot as plt\\n\\nwith open('multiTimeline.csv', newline='') as csvfile:\\n    data = list(csv.reader(csvfile))\\ngoogle =data[3:]\\n\\ndates = []\\nvalues = []\\nfor x in range(0, len(google)):\\n    dates.append(str(google[x][0]))\\n    values.append(google[x][1])\\n    \\n\\n\\n\\ny_pos = np.arange(len(dates))\\n\\n\\nplt.plot(y_pos, values)\\n\\nplt.title('Google Trend Over time')\\nplt.ylabel('Popularity as % of Max')\\nplt.xticks(y_pos, dates, fontsize=10, rotation=30)\\nplt.locator_params(axis='x', nbins=6)\\n\\nplt.show()\\n\""
      ]
     },
     "execution_count": 18,
     "metadata": {},
     "output_type": "execute_result"
    }
   ],
   "source": [
    "\"\"\"\n",
    "import csv\n",
    "import matplotlib.pyplot as plt; plt.rcdefaults()\n",
    "import numpy as np\n",
    "import matplotlib.pyplot as plt\n",
    "\n",
    "with open('multiTimeline.csv', newline='') as csvfile:\n",
    "    data = list(csv.reader(csvfile))\n",
    "google =data[3:]\n",
    "\n",
    "dates = []\n",
    "values = []\n",
    "for x in range(0, len(google)):\n",
    "    dates.append(str(google[x][0]))\n",
    "    values.append(google[x][1])\n",
    "    \n",
    "\n",
    "\n",
    "\n",
    "y_pos = np.arange(len(dates))\n",
    "\n",
    "\n",
    "plt.plot(y_pos, values)\n",
    "\n",
    "plt.title('Google Trend Over time')\n",
    "plt.ylabel('Popularity as % of Max')\n",
    "plt.xticks(y_pos, dates, fontsize=10, rotation=30)\n",
    "plt.locator_params(axis='x', nbins=6)\n",
    "\n",
    "plt.show()\n",
    "\"\"\""
   ]
  },
  {
   "cell_type": "code",
   "execution_count": 19,
   "metadata": {},
   "outputs": [
    {
     "data": {
      "text/plain": [
       "'\\nimport csv\\nimport matplotlib.pyplot as plt; plt.rcdefaults()\\nimport numpy as np\\nimport matplotlib.pyplot as plt\\n\\nwith open(\\'geoMap.csv\\', newline=\\'\\') as csvfile:\\n    data = list(csv.reader(csvfile))\\ngoogle =data[3:]\\n\\nplaces = []\\nvalues = []\\nfor x in range(0, len(google)):\\n    places.append(str(google[x][0]))\\n    values.append(google[x][1])\\n    \\nplaces = places[0:5]\\nvalues = values[0:5]\\n\\n# this is for plotting purpose\\nindex = np.arange(len(places))\\nplt.barh(index, values)\\nplt.ylabel(\\'District\\', fontsize=10)\\nplt.xlabel(\\'Proportion Index\\', fontsize=10)\\nplt.yticks(index, places, fontsize=10, rotation=0)\\nplt.title(\\'Interest by subregion\\')\\nplt.savefig(\"gcompare\")\\nplt.show()\\n\\n'"
      ]
     },
     "execution_count": 19,
     "metadata": {},
     "output_type": "execute_result"
    }
   ],
   "source": [
    "\"\"\"\n",
    "import csv\n",
    "import matplotlib.pyplot as plt; plt.rcdefaults()\n",
    "import numpy as np\n",
    "import matplotlib.pyplot as plt\n",
    "\n",
    "with open('geoMap.csv', newline='') as csvfile:\n",
    "    data = list(csv.reader(csvfile))\n",
    "google =data[3:]\n",
    "\n",
    "places = []\n",
    "values = []\n",
    "for x in range(0, len(google)):\n",
    "    places.append(str(google[x][0]))\n",
    "    values.append(google[x][1])\n",
    "    \n",
    "places = places[0:5]\n",
    "values = values[0:5]\n",
    "\n",
    "# this is for plotting purpose\n",
    "index = np.arange(len(places))\n",
    "plt.barh(index, values)\n",
    "plt.ylabel('District', fontsize=10)\n",
    "plt.xlabel('Proportion Index', fontsize=10)\n",
    "plt.yticks(index, places, fontsize=10, rotation=0)\n",
    "plt.title('Interest by subregion')\n",
    "plt.savefig(\"gcompare\")\n",
    "plt.show()\n",
    "\n",
    "\"\"\""
   ]
  },
  {
   "cell_type": "markdown",
   "metadata": {},
   "source": [
    "# SCAN A TWEET FOR A GIVEN BIO "
   ]
  },
  {
   "cell_type": "code",
   "execution_count": 31,
   "metadata": {},
   "outputs": [
    {
     "name": "stdout",
     "output_type": "stream",
     "text": [
      "Number of matching tweets: 31\n",
      "Top 50 terms in their tweets: OrderedDict([('BREXIT', 9), ('THING', 7), ('HER', 6), ('EVER', 5), ('HAPPENED', 5), ('CONSERVATIVE', 5), ('REST', 5), ('UK', 5), ('MAY', 4), ('SHOULD', 4), ('PARTY.\"', 4), ('PARTY:', 4), ('\"HOLD', 4), ('WORST', 4), ('STAND', 3), ('TORY', 3), ('SHE', 3), ('\"I\\'M', 3), ('RT', 2), ('PHILIP', 2), ('IT.', 2), ('HOW', 2), ('EXPOSED', 2), ('ITS', 2), ('@OHBROKENBRITAIN:', 2), ('UNDER', 2), ('ANY', 2), ('CIRCUMSTANCES', 2), ('LET', 2), ('SIGN', 2), ('ANYTHING', 2), ('WHILST', 2), ('OVER', 2), ('THERE!', 2), ('BBC', 2), ('HOST', 2), ('REVEALS', 2), ('TWO', 2), ('SHOCK', 2), ('MEETINGS', 2), ('IN…RT', 2), ('EU', 2), ('COULD', 2), ('#BREXIT', 2), ('PRIME', 2), ('@KURLYKRISSY:', 2), ('EVERYTHING', 2), ('CROSSED', 2), ('TODAY', 2), ('@GERARDBATTENMEP', 2)])\n"
     ]
    }
   ],
   "source": [
    "from collections import Counter, OrderedDict\n",
    "#PICK ONE \n",
    "\n",
    "CHOSEN_BIO_WORD = 'UKIP'\n",
    "\n",
    "\n",
    "CHOSEN_BIO_WORD = CHOSEN_BIO_WORD.upper()\n",
    "\n",
    "\n",
    "TARGETARRAY = []\n",
    "TARGETTWEET = \"\"\n",
    "linecount = 0\n",
    "for x in range(0, len(status_array)):\n",
    "    text = str(status_array[x]['text']).upper()\n",
    "    description = str(status_array[x]['user']['description']).upper()\n",
    "   \n",
    "    if str(description).count(str(CHOSEN_BIO_WORD)) >= 1:\n",
    "        TARGETARRAY.append(status_array[x])\n",
    "        TARGETTWEET = TARGETTWEET +  str(status_array[x]['text']).upper()\n",
    "\n",
    "\n",
    "\n",
    "DISC = TARGETTWEET.split()\n",
    "x = Counter(DISC)\n",
    "del x['⠀'],x['AND'],x['THE'],x['OF'],x['TO'],x['A'],x['IN'],x['&'],x['MY'],x['FOR'],x['I'],x['NOT'],x['IS'],x['ARE']\n",
    "del x['WITH'],x['ALL'],x['ON'],x['-'],x['YOU'],x['BY'],x['IT'],x['NO'],x['OR'],x['OWN'],x['THAT'],x['AT'],x['BE'],x['|'],x['WILL'],\n",
    "del x['BUT'],x['AN'],x['ABOUT'],x['AS'],x['FROM'],x['WHO'],x['ME'],x['WE'],x['HAVE'],x['OUR'],x['AM'],x['LIKE'],x['JUST']\n",
    "del x['THIS'],x['THEY'],x['IF'],x['HAS'],x['&AMP'],x['HAS'],x['CAN'],x['NOW'],x['SO'],x['ONLY'],x['WAS'],x['WHAT'],x['THEIR'],x['YOUR'],x['WOULD']\n",
    "del x['DO'],x['&AMP;'],x['ONE'],x['WANT'],x['BEEN'],x['THEM'],x['MORE'],x['/'],x['•'],x[\"I'M\"],x[''],x['']\n",
    "\n",
    "refinedTWEETS = OrderedDict(x.most_common(50))\n",
    "print(\"Number of matching tweets: \" + str(len(TARGETARRAY)))\n",
    "print(\"Top 50 terms in their tweets: \" + str(refinedTWEETS))"
   ]
  },
  {
   "cell_type": "markdown",
   "metadata": {},
   "source": [
    "# SCAN BIO FOR GIVEN TWEET"
   ]
  },
  {
   "cell_type": "code",
   "execution_count": 32,
   "metadata": {},
   "outputs": [
    {
     "name": "stdout",
     "output_type": "stream",
     "text": [
      "Number of matching tweets: 30\n",
      "Top 50 terms in their bio: OrderedDict([('~', 21), ('UKIP', 5), ('ATHLETIC', 3), ('#WAFC', 3), ('MEMBER', 3), ('ACTIVIST', 3), ('@UKIP', 3), ('#TEAMGERARDBATTEN', 3), ('#BREXIT', 3), ('#UKIP', 3), ('@GERARDBATTENMEP', 3), ('#FORTHENATION', 3), ('JOIN', 3), ('#THEPEOPLESARMY', 3), ('HATE', 3), ('WORLD', 2), ('ANTI-W.', 2), ('CHANGE', 2), ('MIND', 2), ('TAKE', 2), ('THERE', 2), ('EVERYWHERE', 2), ('RTW', 2), ('💓', 2), (\"DOESN'T\", 2), ('NECESSARILY', 2), ('MEAN', 2), ('AGREEMENT.', 2), ('ENGLISH,', 2), ('BRITISH', 2), ('☺', 2), ('TROPHY', 2), ('HUNTING!!!', 2), ('ANIMAL', 2), ('FREE', 2), ('GREAT', 2), ('COMMON', 2), ('FAIRER', 2), ('NEWS', 2), ('WHITE', 1), ('ORANGE', 1), ('SHRINE', 1), ('SAINSBURYS', 1), ('BASICS.', 1), ('BIG', 1), ('SHOP', 1), ('ALDI.', 1), ('CHANGES,', 1), ('US', 1), ('IT.NONEWIGAN', 1)])\n"
     ]
    }
   ],
   "source": [
    "from collections import Counter, OrderedDict\n",
    "#PICK ONE \n",
    "\n",
    "CHOSEN_TWEET_WORD = 'UKIP'\n",
    "\n",
    "\n",
    "CHOSEN_TWEET_WORD = CHOSEN_TWEET_WORD.upper()\n",
    "\n",
    "\n",
    "TARGETARRAY = []\n",
    "TARGETBIO = \"\"\n",
    "linecount = 0\n",
    "for x in range(0, len(status_array)):\n",
    "    text = str(status_array[x]['text']).upper()\n",
    "    description = str(status_array[x]['user']['description']).upper()\n",
    "   \n",
    "    if str(text).count(str(CHOSEN_TWEET_WORD)) >= 1:\n",
    "        TARGETARRAY.append(status_array[x])\n",
    "        TARGETBIO = TARGETBIO + str(status_array[x]['user']['description']).upper()\n",
    "\n",
    "\n",
    "\n",
    "DISC = TARGETBIO.split()\n",
    "x = Counter(DISC)\n",
    "del x['⠀'],x['AND'],x['THE'],x['OF'],x['TO'],x['A'],x['IN'],x['&'],x['MY'],x['FOR'],x['I'],x['NOT'],x['IS'],x['ARE']\n",
    "del x['WITH'],x['ALL'],x['ON'],x['-'],x['YOU'],x['BY'],x['IT'],x['NO'],x['OR'],x['OWN'],x['THAT'],x['AT'],x['BE'],x['|'],x['WILL'],\n",
    "del x['BUT'],x['AN'],x['ABOUT'],x['AS'],x['FROM'],x['WHO'],x['ME'],x['WE'],x['HAVE'],x['OUR'],x['AM'],x['LIKE'],x['JUST']\n",
    "del x['THIS'],x['THEY'],x['IF'],x['HAS'],x['&AMP'],x['HAS'],x['CAN'],x['NOW'],x['SO'],x['ONLY'],x['WAS'],x['WHAT'],x['THEIR'],x['YOUR'],x['WOULD']\n",
    "del x['DO'],x['&AMP;'],x['ONE'],x['WANT'],x['BEEN'],x['THEM'],x['MORE'],x['/'],x['•'],x[\"I'M\"],x[''],x['']\n",
    "\n",
    "refinedBio = OrderedDict(x.most_common(50))\n",
    "print(\"Number of matching tweets: \" + str(len(TARGETARRAY)))\n",
    "print(\"Top 50 terms in their bio: \" + str(refinedBio))"
   ]
  },
  {
   "cell_type": "markdown",
   "metadata": {},
   "source": [
    "# LINK BIO AND TWEET"
   ]
  },
  {
   "cell_type": "code",
   "execution_count": 27,
   "metadata": {},
   "outputs": [
    {
     "name": "stdout",
     "output_type": "stream",
     "text": [
      "OrderedDict([('PARTY', 689), ('EU', 596), ('DEAL', 580), ('UK', 496), ('MINISTER', 328), ('TORY', 327), ('VOTED', 317), ('JOB', 303), ('PRIME', 289), ('LABOUR', 289), ('COULD', 283), ('PEOPLE', 280), ('PM', 268), ('THERE', 267), ('NEW', 265), ('RAAB', 264), ('SHOULD', 252), ('MAY', 242), ('NEXT', 240), ('NO-DEAL', 236), ('BORIS', 234), ('GOOD', 228), ('ANOTHER', 225), ('NEED', 222), ('VOTE', 216), ('SAID', 215), ('DON’T', 214), ('LEADERSHIP', 210), ('ANY', 200), ('DELIVER', 199), ('DOMINIC', 198), ('LEAVE', 196), ('HAMMOND', 192), ('SAYS', 187), ('YEARS', 185), ('CONSERVATIVE', 180), ('LEADER', 180), ('REFERENDUM', 178), ('INVISIBLE', 176), ('US', 175), ('@CAROLECADWALLA:', 170), ('WTO', 170), ('INTO', 170), ('WERE', 169), ('THAN', 168), ('PLEASE', 165), ('RIGHT', 164), ('VOTERS', 164), ('@DOMINICRAAB', 158), ('TORIES', 158)])\n",
      "\n",
      "bio\n",
      "OrderedDict([('BREXIT', 557), ('LOVE', 331), ('EU', 294), ('POLITICS', 259), ('VIEWS', 240), ('FAN', 208), ('MUSIC', 198), ('LOVER', 180), ('SUPPORTER', 175), ('HATE', 169), ('LIFE', 168), ('UK', 164), ('PARTY', 159), ('PEOPLE', 159), ('PROUD', 149), ('RIGHT', 141), ('EUROPEAN', 139), ('FBPE', 137), ('PRO', 132), ('BRITISH', 124), ('POLITICAL', 122), ('WORLD', 118), ('GOOD', 115), ('MEMBER', 112), ('LABOUR', 111), ('DEMOCRACY', 109), ('LIVING', 108), ('SOCIAL', 107), ('ALWAYS', 106), ('MAN', 105), ('FREE', 105), ('UP', 104), ('TIME', 103), ('ANTI', 101), ('CONSERVATIVE', 99), ('TWITTER', 99), ('NEWS', 99), (\"DON'T\", 99), ('EUROPE', 97), ('OLD', 91), ('COUNTRY', 91), ('RETWEETS', 91), ('THINGS', 91), ('LIBERAL', 91), ('FOLLOW', 90), ('NECESSARILY', 90), ('TRUMP', 89), ('FAMILY', 89), ('EX', 86), ('4', 84)])\n"
     ]
    }
   ],
   "source": [
    "print(large_top_tweets)\n",
    "print(\"\")\n",
    "print(\"bio\")\n",
    "print(large_bio_desc)"
   ]
  },
  {
   "cell_type": "code",
   "execution_count": 33,
   "metadata": {},
   "outputs": [
    {
     "name": "stdout",
     "output_type": "stream",
     "text": [
      "No of matches : 0.19%\n",
      "RT @RoryStewartUK: ✅Correct daily injustices.\n",
      "\n",
      "✅Stop people like Philip Green from getting away with it.\n",
      "\n",
      "✅Get a Brexit Deal.\n",
      "\n",
      "That's how w…\n",
      "\n",
      "Bio: \n",
      "love and respect my queen and country 🇬🇧 loathe the left \n",
      "ukip the only answer\n"
     ]
    }
   ],
   "source": [
    "#PICK TWO OR \n",
    "\n",
    "CHOSEN_WORD_ONE = 'Brexit'\n",
    "BIO_CHOSEN_WORD_ONE = 'UKIP'\n",
    "\n",
    "\n",
    "\n",
    "CHOSEN_WORD_ONE = CHOSEN_WORD_ONE.upper()\n",
    "BIO_CHOSEN_WORD_ONE = BIO_CHOSEN_WORD_ONE.upper()\n",
    "\n",
    "\n",
    "\n",
    "\n",
    "TARGETARRAY = []\n",
    "linecount = 0\n",
    "for x in range(0, len(status_array)):\n",
    "    text = str(status_array[x]['text']).upper()\n",
    "    description = str(status_array[x]['user']['description']).upper()\n",
    "   \n",
    "    if str(text).count(str(CHOSEN_WORD_ONE)) >= 1 and str(description).count(str(BIO_CHOSEN_WORD_ONE)) >= 1:\n",
    "        TARGETARRAY.append(status_array[x])\n",
    "\n",
    "\n",
    "match_percentage =  (len(TARGETARRAY)/len(status_array)) * 100\n",
    "match_percentage = round(match_percentage,2)\n",
    "print(\"No of matches : \" + str(match_percentage) + \"%\" )    \n",
    "print(TARGETARRAY[0]['text'])\n",
    "print(\"\")\n",
    "print('Bio: ')\n",
    "print(TARGETARRAY[0]['user']['description'])"
   ]
  },
  {
   "cell_type": "code",
   "execution_count": 34,
   "metadata": {},
   "outputs": [
    {
     "data": {
      "text/plain": [
       "'Sat May 07 12:15:52 +0000 2016'"
      ]
     },
     "execution_count": 34,
     "metadata": {},
     "output_type": "execute_result"
    }
   ],
   "source": [
    "status_array[1]['user']['created_at']"
   ]
  },
  {
   "cell_type": "markdown",
   "metadata": {},
   "source": [
    "# COUNT NEW USERS    "
   ]
  },
  {
   "cell_type": "code",
   "execution_count": 35,
   "metadata": {
    "scrolled": true
   },
   "outputs": [
    {
     "name": "stdout",
     "output_type": "stream",
     "text": [
      "No of Profiles newer than 10 days are : 0.73%\n"
     ]
    }
   ],
   "source": [
    "import time\n",
    "from datetime import datetime, timedelta\n",
    "present = datetime.now()\n",
    "\n",
    "timerange = 10\n",
    "\n",
    "\n",
    "\n",
    "newcount = 0\n",
    "\n",
    "for x in range(0, len(status_array)):\n",
    "    created_at = time.strftime('%Y-%m-%d %H:%M:%S', time.strptime(status_array[x]['user']['created_at'],'%a %b %d %H:%M:%S +0000 %Y'))\n",
    "    then = datetime.strptime(created_at, \"%Y-%m-%d %H:%M:%S\")\n",
    "    delta = datetime.now() - then\n",
    "    if delta.days < timerange:\n",
    "        newcount = newcount + 1\n",
    "        #print(status_array[x]['user']['created_at'])\n",
    "        #print(created_at)\n",
    "        #print(delta)\n",
    "\n",
    "        \n",
    "percentnewcount = (newcount/len(status_array)) * 100\n",
    "percentnewcount = round(percentnewcount,2)\n",
    "\n",
    "\n",
    "\n",
    "print(\"No of Profiles newer than \" + str(timerange) + \" days are : \" + str(percentnewcount) + \"%\")\n"
   ]
  },
  {
   "cell_type": "markdown",
   "metadata": {},
   "source": [
    "# COUNT FOLLOWERS"
   ]
  },
  {
   "cell_type": "code",
   "execution_count": 36,
   "metadata": {},
   "outputs": [
    {
     "name": "stdout",
     "output_type": "stream",
     "text": [
      "No of people with less than 10 followers :2.38%\n",
      "No of people with more than 1000000 followers :0.03%\n"
     ]
    }
   ],
   "source": [
    "count = 0 \n",
    "maxcount = 0\n",
    "followercount = 10\n",
    "maxfollowercount = 1000000\n",
    "\n",
    "for x in range(0, len(status_array)):\n",
    "    if status_array[x]['user']['followers_count'] < followercount:\n",
    "        count = count + 1 \n",
    "        \n",
    "    if status_array[x]['user']['followers_count'] > maxfollowercount:\n",
    "        maxcount = maxcount + 1 \n",
    "    \n",
    "percentcount = (count / len(status_array)) * 100\n",
    "percentcount = round(percentcount,2)\n",
    "\n",
    "\n",
    "maxpercentcount = (maxcount / len(status_array)) * 100\n",
    "maxpercentcount = round(maxpercentcount,2)\n",
    "\n",
    "print(\"No of people with less than \" + str(followercount) + \" followers :\" + str(percentcount) + \"%\")\n",
    "print(\"No of people with more than \" + str(maxfollowercount) + \" followers :\" + str(maxpercentcount) + \"%\")"
   ]
  },
  {
   "cell_type": "markdown",
   "metadata": {},
   "source": [
    "# METRICS FOR USE"
   ]
  },
  {
   "cell_type": "code",
   "execution_count": 38,
   "metadata": {},
   "outputs": [
    {
     "name": "stdout",
     "output_type": "stream",
     "text": [
      "Sample 1 :@michaelgove Because what this country needs is a little grey man, head very recently extracted from May's rectum,w… https://t.co/DAyZ6xkEXp\n",
      "\n",
      "Sample 2 :RT @ColeEcon101: @notracesms agree, it's good strategy also:\n",
      "if what you say is correct and they get ignored in future negotiations, they c…\n",
      "\n",
      "Sample 3 :RT @MrMalky: That's the plan Stan\n",
      "The rich landowners were raising a glass of fizz with Gove \n",
      "They'll be able to buy up bankrupted farmers'…\n",
      "\n",
      "#1 Most tweeted to : \n",
      "DominicRaab\n",
      "None\n",
      "#2 Most tweeted to : \n",
      "carolecadwalla\n",
      "None\n",
      "#3 Most tweeted to : \n",
      "Telegraph\n",
      "None\n",
      "\n",
      "NewProfiles (less than 10 days) : 0.73%\n",
      "No of people with less than 10 followers :2.38%\n",
      "No of people with more than 1000000 followers :0.03%\n",
      "Printing top tweets\n",
      "\n",
      "OrderedDict([('PARTY', 689), ('EU', 596), ('DEAL', 580), ('UK', 496), ('MINISTER', 328), ('TORY', 327), ('VOTED', 317), ('JOB', 303), ('PRIME', 289), ('LABOUR', 289), ('COULD', 283), ('PEOPLE', 280), ('PM', 268), ('THERE', 267), ('NEW', 265), ('RAAB', 264), ('SHOULD', 252), ('MAY', 242), ('NEXT', 240), ('NO-DEAL', 236)])\n"
     ]
    }
   ],
   "source": [
    "print(\"Sample 1 :\" + str(status_array[1000]['text']) + \"\\n\")\n",
    "print(\"Sample 2 :\" + str(status_array[5000]['text']) + \"\\n\")\n",
    "print(\"Sample 3 :\" + str(status_array[6000]['text']) + \"\\n\")\n",
    "\n",
    "print(\"#1 Most tweeted to : \" )\n",
    "print(str(print(reference_items[0][0])))\n",
    "print(\"#2 Most tweeted to : \" )\n",
    "print(str(print(reference_items[1][0])))\n",
    "print(\"#3 Most tweeted to : \")\n",
    "print(str(print(reference_items[2][0])))\n",
    "print('')\n",
    "\n",
    "print('NewProfiles (less than 10 days) : ' + str(str(percentnewcount)) + \"%\")\n",
    "print(\"No of people with less than \" + str(followercount) + \" followers :\" + str(percentcount) + \"%\")\n",
    "print(\"No of people with more than \" + str(maxfollowercount) + \" followers :\" + str(maxpercentcount) + \"%\")\n",
    "print(\"Printing top tweets\")\n",
    "print('')\n",
    "print(top_tweets)\n"
   ]
  },
  {
   "cell_type": "code",
   "execution_count": 67,
   "metadata": {},
   "outputs": [
    {
     "name": "stdout",
     "output_type": "stream",
     "text": [
      "realDonaldTrump\n"
     ]
    }
   ],
   "source": []
  },
  {
   "cell_type": "code",
   "execution_count": null,
   "metadata": {
    "collapsed": true
   },
   "outputs": [],
   "source": []
  }
 ],
 "metadata": {
  "kernelspec": {
   "display_name": "Python 3",
   "language": "python",
   "name": "python3"
  },
  "language_info": {
   "codemirror_mode": {
    "name": "ipython",
    "version": 3
   },
   "file_extension": ".py",
   "mimetype": "text/x-python",
   "name": "python",
   "nbconvert_exporter": "python",
   "pygments_lexer": "ipython3",
   "version": "3.7.3"
  }
 },
 "nbformat": 4,
 "nbformat_minor": 2
}
