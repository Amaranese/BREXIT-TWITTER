{
 "cells": [
  {
   "cell_type": "markdown",
   "metadata": {},
   "source": [
    "# MURCHIE85 TWITTER PROCESSING \n",
    "\n",
    "&#x1F34E; **TOPIC = \"Theresa May\"**\n",
    "\n",
    "\n",
    "## AUTOMATED RESEARCH SUMMARY\n",
    "    \n",
    "\n",
    "![image](https://timedotcom.files.wordpress.com/2019/03/theresa-may-brexit-politics.jpg)\n",
    "\n",
    "<br>\n",
    "\n",
    "\n",
    "<div class=\"alert alert-block alert-info\">\n",
    "<b> This repo is for pulling metrics on a given keyword or hashtag and performs a series of reporting and analysis.</b>\n",
    "</div>\n",
    "\n",
    "\n",
    "<br>\n",
    "\n",
    "\n",
    "   \n",
    "![image](TWEETS.png)\n",
    "    \n",
    "\n",
    "\n",
    "\n",
    "## GOOGLE SEARCH DEMOGRAPHICS \n",
    "\n",
    "Tweeting demographic           | Countries\n",
    ":-------------------------:|:-------------------------:\n",
    "![](map.png)  |  ![](countries.png)\n",
    "<br>\n",
    "## RELATED TOPICS  & QUERIES \n",
    "\n",
    "topics          | searches\n",
    ":-------------------------:|:-------------------------:\n",
    "![](relatedtopics.png)  |  ![](relatedqueries.png)\n",
    "\n",
    "\n",
    "<br>\n",
    "<br>\n",
    "\n",
    "\n",
    "## RELATED METRICS\n",
    "<br>\n",
    "\n",
    "| Metric | Value |\n",
    "| ------------- | ------------- |\n",
    "| #1 Most tweeted to  | **OwenJones84** |\n",
    "| #2 Most tweeted to  | **Nigel_Farage**|\n",
    "| #3 Most tweeted to  | **davidschneider** |\n",
    "| NewProfiles (less than 10 days) | 41.08%  |\n",
    "| Tweeters with < 100 followers  | 18.08% |\n",
    "| Tweeters with > 100k followers  | 0.06%  |\n",
    "\n",
    "\n",
    "\n",
    "<br>\n",
    "\n",
    "## MOST POPULAR TWEET TERMS \n",
    "\n",
    "\n",
    "| Popularity Rank  | Term |\n",
    "| ------------- | ------------- |\n",
    "| first  | **May**  |\n",
    "| second  | **Grenfell**  |\n",
    "| third  | **Tears** |\n",
    "| fourth  | **Statement**  |\n",
    "| fifth  | **Windrush**  |\n",
    "\n",
    "\n",
    "<br>\n",
    "\n",
    "![image](comparetweets.png)\n",
    "\n",
    "\n",
    "## Twitter Bio Analysis\n",
    "\n",
    "![image](BIO.png)\n",
    "\n",
    "\n",
    "\n",
    "\n",
    "\n",
    "\n",
    "\n",
    "\n",
    "\n",
    "\n",
    "    \n",
    "### SENTIMENT ANALYSIS\n",
    "VIEWS WERE : **SUBJECTIVE**  (30%) & **NEGATIVELY-SUBJECTIVE** (30%) **OBJECTIVE** (40%)\n",
    "\n",
    "\n",
    "\n",
    "### TWEET SAMPLE \n",
    "\n",
    "Random value picked from array: \n",
    "\n",
    "\n",
    "<div class=\"alert alert-block alert-info\">\n",
    "'U.K. Prime Minister Theresa May announced her resignation earlier today. \\n\\n@swajcmanearle wrote about how Boris Joh… https://t.co/j8PXKFeIbO'\n",
    "\n",
    "</div>\n",
    "\n",
    "### MOST RETWEETED\n",
    "\n",
    "Technically the most popular tweet (note, this is not always the source of the hashtag)\n",
    "\n",
    "<div class=\"alert alert-block alert-danger\">\n",
    "<b>@davidschneider (past 24 hours)</b>  Theresa May guide to crying\n",
    "\n",
    "NO TEARS for<br>\n",
    "Grenfell<br>\n",
    "The Windrush generation<br>\n",
    "Deaths and misery caused by the hostile environment, by austerity, by welfare cuts, NHS cuts<br>\n",
    "598 rough sleepers dying on our streets last year<br>\n",
    "4m children in poverty<br>\n",
    "Record food bank use<br>\n",
    "\n",
    "TEARS for<br>\n",
    "Herself\n",
    "</div>\n",
    "\n",
    "### CONCLUSION & EXTERNAL ANALYSIS\n",
    "\n",
    "*This is my (Adam McMurchie's) opinion on the data from the tweets, it serves as no objective truth.Since the tweets themselves are a mixture of fact & opinion. \n",
    "\n",
    "<br>\n",
    "\n",
    "WILL BE UPDATED IN NEXT  24 HOURS \n",
    "\n",
    "\n",
    "<br><br>\n",
    "\n",
    "**RECOMMENDATIONS** WILL BE UPDATED IN NEXT  24 HOURS \n",
    "\n",
    "\n",
    "<br>"
   ]
  },
  {
   "cell_type": "markdown",
   "metadata": {},
   "source": [
    "# TECHNICAL WALKTHROUGH \n",
    "\n",
    "\n",
    "## OVERVIEW\n",
    "\n",
    "**SKIP TO BOTTOM FOR FULL RESULTS & GRAPH BREAKDOWN **\n",
    "\n",
    "- Pulls live tweets from all over twitter \n",
    "- Imports Tweepy Library \n",
    "- Consumes Twitter API \n",
    "- Desgined to be keyword driven\n",
    "- All metrics can be captured\n",
    "- No limit on Runtime (best to terminate when you want)\n",
    "\n",
    "## Limitations & info\n",
    "1. LOCATION filter is tricky\n",
    "2. Streaming connects to the “public streams” (all public data) \n",
    "3. This is data provided by the Twitter API which accesses their database, the maintenence of DB and thus data quality is managed by Twitter\n",
    "\n",
    "Example of parameter setting done in stream filter \n",
    "\n",
    "```\n",
    "stream.filter(follow=[\"2211149702\"])\n",
    "```\n",
    "\n",
    "\n",
    "### AUTHOR : ADAM MCMURCHIE \n",
    "\n",
    "![image](https://s3.amazonaws.com/re-work-production/avatars/1104/original.png?1485507466)\n",
    "\n",
    "Github [here](https://github.com/murchie85)  \n",
    "\n",
    "Mysite [here](https://murchie85.github.io/)"
   ]
  },
  {
   "cell_type": "markdown",
   "metadata": {},
   "source": [
    "# AUTHENTICATION\n",
    "\n",
    "You will need to change f variable to point to your credentials file, I save mines in a text file and split the comma. Not uploaded to this repo obviously."
   ]
  },
  {
   "cell_type": "code",
   "execution_count": 409,
   "metadata": {
    "collapsed": true
   },
   "outputs": [],
   "source": [
    "import datetime\n",
    "import os\n",
    "\n",
    "\n",
    "f = open(\"../donotgit/access.txt\", \"r\")\n",
    "keys = f.read()\n",
    "f.close()\n",
    "keys  = keys.split(',')\n",
    "#print(\"Access Keys are : \" + str(keys))\n",
    "ACCESS_TOKEN = keys[0]\n",
    "ACCESS_SECRET = keys[1]\n",
    "\n",
    "\n",
    "f = open(\"../donotgit/consumer.txt\", \"r\")\n",
    "keys = f.read()\n",
    "keys  = keys.split(',')\n",
    "#print(\"Consumer Keys are : \" + str(keys))\n",
    "CONSUMER_KEY = keys[0]\n",
    "CONSUMER_SECRET = keys[1]\n"
   ]
  },
  {
   "cell_type": "markdown",
   "metadata": {},
   "source": [
    "# PULLING DOWN THE DATA \n",
    "\n",
    "This is where the magic happens, api authentication is set up, tweepy library is imported for the work and a class allow us to pull live data. This is appended to array for processing later. \n",
    "\n",
    "If you want to change the parameters, edit the following line:  \n",
    "\n",
    "```\n",
    "stream.filter(track=[\"SexStrike\"],languages=[\"en\"])\n",
    "```\n",
    "\n",
    "*NOTE* -   this will just keep running until you force terminate, i haven't added in a terminate loop yet."
   ]
  },
  {
   "cell_type": "code",
   "execution_count": 2,
   "metadata": {},
   "outputs": [
    {
     "ename": "SystemExit",
     "evalue": "PROCESSING COMPLETE : 10000 tweets processed.",
     "output_type": "error",
     "traceback": [
      "An exception has occurred, use %tb to see the full traceback.\n",
      "\u001b[0;31mSystemExit\u001b[0m\u001b[0;31m:\u001b[0m PROCESSING COMPLETE : 10000 tweets processed.\n"
     ]
    },
    {
     "name": "stderr",
     "output_type": "stream",
     "text": [
      "/Users/adammcmurchie/anaconda/lib/python3.6/site-packages/IPython/core/interactiveshell.py:2889: UserWarning: To exit: use 'exit', 'quit', or Ctrl-D.\n",
      "  warn(\"To exit: use 'exit', 'quit', or Ctrl-D.\", stacklevel=1)\n"
     ]
    }
   ],
   "source": [
    "from ipywidgets import IntProgress\n",
    "from IPython.display import display\n",
    "from IPython.display import clear_output\n",
    "import time\n",
    "\n",
    "import sys\n",
    "# Import the necessary package to process data in JSON format\n",
    "try:\n",
    "    import json\n",
    "except ImportError:\n",
    "    import simplejson as json\n",
    "\n",
    "# Import the tweepy library\n",
    "import tweepy\n",
    "\n",
    "# Variables that contains the user credentials to access Twitter API \n",
    "# Captured earlier \n",
    "\n",
    "# Setup tweepy to authenticate with Twitter credentials:\n",
    "\n",
    "auth = tweepy.OAuthHandler(CONSUMER_KEY, CONSUMER_SECRET)\n",
    "auth.set_access_token(ACCESS_TOKEN, ACCESS_SECRET)\n",
    "\n",
    "# Create the api to connect to twitter with your creadentials\n",
    "api = tweepy.API(auth, wait_on_rate_limit=True, wait_on_rate_limit_notify=True, compression=True)\n",
    "\n",
    "status_array = []\n",
    "\n",
    "progress = 0\n",
    "max_count = 10000\n",
    "\n",
    "f = IntProgress(description='Processing:',min=0, max=max_count,) # instantiate the bar\n",
    "display(f) # display the bar\n",
    "\n",
    "\n",
    "\n",
    "class StreamListener(tweepy.StreamListener):\n",
    "    tweet_number=0   # class variable\n",
    "    \n",
    "\n",
    "\n",
    "    def on_status(self, status):\n",
    "        self.max_tweets=max_count # max number of tweets\n",
    "        self.tweet_number+=1   \n",
    "        f.value += 1 # signal to increment the progress bar\n",
    "        progress = (f.value/max_count) * 100\n",
    "        progress = format(progress, '.2f')\n",
    "        print('Progress: ' + str(progress) + \" %\")\n",
    "        clear_output(wait=True)\n",
    "        status_array.append(status._json)\n",
    "\n",
    "        if self.tweet_number>=self.max_tweets:\n",
    "            sys.exit('PROCESSING COMPLETE : '+str(self.max_tweets)+' tweets processed.')\n",
    "\n",
    "        \n",
    "    def on_error(self, status_code):\n",
    "        if status_code == 420:\n",
    "            return False\n",
    "\n",
    "stream_listener = StreamListener()\n",
    "stream = tweepy.Stream(auth=api.auth, listener=stream_listener)\n",
    "\n",
    "#print('Pulling down data.....')\n",
    "stream.filter(track=[\"Theresa May\"],languages=[\"en\"])\n"
   ]
  },
  {
   "cell_type": "code",
   "execution_count": 4,
   "metadata": {
    "scrolled": true
   },
   "outputs": [
    {
     "data": {
      "text/plain": [
       "'\\n\\nfrom ipywidgets import IntProgress\\nfrom IPython.display import display\\nimport time\\n\\nimport sys\\n# Import the necessary package to process data in JSON format\\ntry:\\n    import json\\nexcept ImportError:\\n    import simplejson as json\\n\\n# Import the tweepy library\\nimport tweepy\\n\\n# Variables that contains the user credentials to access Twitter API \\n# Captured earlier \\n\\n# Setup tweepy to authenticate with Twitter credentials:\\n\\nauth = tweepy.OAuthHandler(CONSUMER_KEY, CONSUMER_SECRET)\\nauth.set_access_token(ACCESS_TOKEN, ACCESS_SECRET)\\n\\n# Create the api to connect to twitter with your creadentials\\napi = tweepy.API(auth, wait_on_rate_limit=True, wait_on_rate_limit_notify=True, compression=True)\\n\\n\\n\\n\\n\\n\\n\\n\\n\\nstatus_array = []\\nLOOP_COUNT = 0\\nmax_count = 1000\\n\\n\\n# Search for 10 most recent tweets about \"Brexit\"\\ntweets = tweepy.Cursor(api.search, q=\\'Huawei\\', count=int(max_count))\\n\\n# TRACK PROGRESS\\nf = IntProgress(min=0, max=max_count) # instantiate the bar\\ndisplay(f) # display the bar\\n\\n\\nprint(\\'Pulling down data.....\\')                    \\nfor tweet in tweets.items(int(max_count)):\\n    f.value+=1\\n    time.sleep(.1)\\n    status_array.append(tweet._json)\\n\\n\\n\\nprint(\\'Processing complete\\')\\n'"
      ]
     },
     "execution_count": 4,
     "metadata": {},
     "output_type": "execute_result"
    }
   ],
   "source": [
    "# HISTORICAL DATA SWITCHED OFF (IF YOU SWITCH ON, THEN SWITCH STREAM OFF ABOVE)\n",
    "\n",
    "\n",
    "\"\"\"\n",
    "\n",
    "from ipywidgets import IntProgress\n",
    "from IPython.display import display\n",
    "import time\n",
    "\n",
    "import sys\n",
    "# Import the necessary package to process data in JSON format\n",
    "try:\n",
    "    import json\n",
    "except ImportError:\n",
    "    import simplejson as json\n",
    "\n",
    "# Import the tweepy library\n",
    "import tweepy\n",
    "\n",
    "# Variables that contains the user credentials to access Twitter API \n",
    "# Captured earlier \n",
    "\n",
    "# Setup tweepy to authenticate with Twitter credentials:\n",
    "\n",
    "auth = tweepy.OAuthHandler(CONSUMER_KEY, CONSUMER_SECRET)\n",
    "auth.set_access_token(ACCESS_TOKEN, ACCESS_SECRET)\n",
    "\n",
    "# Create the api to connect to twitter with your creadentials\n",
    "api = tweepy.API(auth, wait_on_rate_limit=True, wait_on_rate_limit_notify=True, compression=True)\n",
    "\n",
    "\n",
    "\n",
    "\n",
    "\n",
    "\n",
    "\n",
    "\n",
    "\n",
    "status_array = []\n",
    "LOOP_COUNT = 0\n",
    "max_count = 1000\n",
    "\n",
    "\n",
    "# Search for 10 most recent tweets about \"Brexit\"\n",
    "tweets = tweepy.Cursor(api.search, q='Huawei', count=int(max_count))\n",
    "\n",
    "# TRACK PROGRESS\n",
    "f = IntProgress(min=0, max=max_count) # instantiate the bar\n",
    "display(f) # display the bar\n",
    "\n",
    "\n",
    "print('Pulling down data.....')                    \n",
    "for tweet in tweets.items(int(max_count)):\n",
    "    f.value+=1\n",
    "    time.sleep(.1)\n",
    "    status_array.append(tweet._json)\n",
    "\n",
    "\n",
    "\n",
    "print('Processing complete')\n",
    "\"\"\"\n"
   ]
  },
  {
   "cell_type": "markdown",
   "metadata": {},
   "source": [
    "# QUICK STREAM"
   ]
  },
  {
   "cell_type": "code",
   "execution_count": 5,
   "metadata": {},
   "outputs": [
    {
     "name": "stdout",
     "output_type": "stream",
     "text": [
      "Number of records\n",
      "10000\n",
      "\n",
      "The data keys are : \n",
      "dict_keys(['created_at', 'id', 'id_str', 'text', 'source', 'truncated', 'in_reply_to_status_id', 'in_reply_to_status_id_str', 'in_reply_to_user_id', 'in_reply_to_user_id_str', 'in_reply_to_screen_name', 'user', 'geo', 'coordinates', 'place', 'contributors', 'retweeted_status', 'is_quote_status', 'quote_count', 'reply_count', 'retweet_count', 'favorite_count', 'entities', 'favorited', 'retweeted', 'filter_level', 'lang', 'timestamp_ms'])\n",
      "\n"
     ]
    }
   ],
   "source": [
    "print('Number of records')\n",
    "print(len(status_array))\n",
    "print('')\n",
    "print('The data keys are : ')\n",
    "print(status_array[0].keys())\n",
    "print('')\n",
    "#print('An example element looks like: ')\n",
    "#print(status_array[0])"
   ]
  },
  {
   "cell_type": "markdown",
   "metadata": {},
   "source": [
    "# REPORT GENERATION\n",
    "This section allows me to pull the recently mined data into a file in raw format incase i need it later."
   ]
  },
  {
   "cell_type": "code",
   "execution_count": 410,
   "metadata": {
    "scrolled": true
   },
   "outputs": [
    {
     "name": "stdout",
     "output_type": "stream",
     "text": [
      "data/streamout-2019-05-25 03:11:35.497233.txt\n",
      "=========================SAMPLE OUTPUT================================\n",
      "************************************************************\n",
      "RT @Pingosaurus: People, if we’re going to shit on Theresa May, and some of her potential successors, can we not use the fact that they don…\n",
      "------------------------------\n",
      "Fri May 24 21:03:16 +0000 2019\n",
      "------------------------------\n",
      "Karen Edler\n",
      "------------------------------\n",
      "None\n",
      "------------------------------\n",
      "physical chemist, X-ray & neutron scatterer, interests in self-assembly & hierarchical materials, online collaboration tools. Cooking, singing, sewing...\n",
      "--------------REPLY COUNT----------------\n",
      "0\n",
      "--------------RETWEET COUNT----------------\n",
      "0\n",
      "--------------RETWEETED?----------------\n",
      "False\n",
      "--------------RETWEET COUNT----------------\n",
      "0\n",
      "--------------FAVOURITED----------------\n",
      "False\n",
      "--------------FAVOURITE COUNT----------------\n",
      "0\n"
     ]
    }
   ],
   "source": [
    "# REMOVE QUOTES TO ACTIVATE \n",
    "# append to filename\n",
    "\"\"\"\n",
    "currentDT = datetime.datetime.now()\n",
    "filename = \"data/streamout-\" + str(currentDT) + \".txt\"\n",
    "\n",
    "print(filename)\n",
    "\n",
    "with open(filename, 'w') as f:\n",
    "    for item in status_array:\n",
    "        f.write(\"%s\\n\" % item)\n",
    "f.close()\n",
    "\n",
    "\n",
    "# WRITE OUT FULL REPORT\n",
    "reportfile = \"reports/printout-\"+ str(currentDT) + \".txt\"\n",
    "descriptionfile = \"data/description/printout-\"+ str(currentDT) + \".txt\"\n",
    "tweetfile = \"data/tweet/printout-\"+ str(currentDT) + \".txt\"\n",
    "\n",
    "REPORTCOUNT = 0\n",
    "with open(reportfile, 'w') as f:\n",
    "    for y in range(0, len(status_array)):\n",
    "        REPORTCOUNT = REPORTCOUNT + 1\n",
    "        f.write('************************************************************\\n')\n",
    "        f.write(status_array[y]['text'])\n",
    "        f.write('------------------------------\\n')\n",
    "        f.write(status_array[y]['created_at'])\n",
    "        f.write('------------------------------\\n')\n",
    "        f.write(status_array[y]['user']['name'])\n",
    "        f.write('------------------------------\\n')\n",
    "        f.write(str(status_array[y]['user']['location']))\n",
    "        f.write('------------------------------\\n')\n",
    "        f.write(str(status_array[y]['user']['description']))\n",
    "        f.write('--------------REPLY COUNT----------------\\n|')\n",
    "        f.write(str(status_array[y]['reply_count']))\n",
    "        f.write('--------------RETWEET COUNT----------------\\n')\n",
    "        f.write(str(status_array[y]['retweet_count']))\n",
    "        f.write('--------------RETWEETED?----------------\\n')\n",
    "        f.write(str(status_array[y]['retweeted']))\n",
    "        f.write('--------------RETWEET COUNT----------------\\n')\n",
    "        f.write(str(status_array[y]['retweet_count']))\n",
    "        f.write('--------------FAVOURITED----------------\\n')\n",
    "        f.write(str(status_array[y]['favorited']))\n",
    "        f.write('--------------FAVOURITE COUNT----------------\\n')\n",
    "        f.write(str(status_array[y]['favorite_count']))\n",
    "        f.write('\\n')\n",
    "        f.write('\\n')\n",
    "    f.write('number of records are : ')\n",
    "    f.write(str(REPORTCOUNT))\n",
    "        \n",
    "f.close()\n",
    "    \n",
    "    \n",
    "# WRITE OUT ONLY DESCRIPTION\n",
    "    \n",
    "REPORTCOUNT = 0\n",
    "with open(descriptionfile, 'w') as f:\n",
    "    for y in range(0, len(status_array)):\n",
    "        REPORTCOUNT = REPORTCOUNT + 1\n",
    "        f.write('************************************************************\\n')\n",
    "        f.write(str(status_array[y]['user']['description']))\n",
    "        f.write('\\n')\n",
    "    f.write('number of records are : ')\n",
    "    f.write(str(REPORTCOUNT))\n",
    "        \n",
    "f.close()\n",
    "    \n",
    "\n",
    "# WRITE OUT ONLY TWEET\n",
    "    \n",
    "REPORTCOUNT = 0\n",
    "with open(tweetfile, 'w') as f:\n",
    "    for y in range(0, len(status_array)):\n",
    "        REPORTCOUNT = REPORTCOUNT + 1\n",
    "        f.write('************************************************************\\n')\n",
    "        f.write(status_array[y]['text'])\n",
    "        f.write('\\n')\n",
    "    f.write('number of records are : ')\n",
    "    f.write(str(REPORTCOUNT))\n",
    "        \n",
    "f.close()\n",
    "\n",
    "    \n",
    "    \n",
    "    \n",
    "    \n",
    "    \n",
    "print('=========================SAMPLE OUTPUT================================')\n",
    "print('************************************************************')\n",
    "print(status_array[0]['text'])\n",
    "print('------------------------------')\n",
    "print(status_array[0]['created_at'])\n",
    "print('------------------------------')\n",
    "print(status_array[0]['user']['name'])\n",
    "print('------------------------------')\n",
    "print(status_array[0]['user']['location'])\n",
    "print('------------------------------')\n",
    "print(status_array[0]['user']['description'])\n",
    "print('--------------REPLY COUNT----------------')\n",
    "print(status_array[0]['reply_count'])\n",
    "print('--------------RETWEET COUNT----------------')\n",
    "print(status_array[0]['retweet_count'])\n",
    "print('--------------RETWEETED?----------------') \n",
    "print(status_array[0]['retweeted'])\n",
    "print('--------------RETWEET COUNT----------------')\n",
    "print(status_array[0]['retweet_count'])\n",
    "print('--------------FAVOURITED----------------')\n",
    "print(status_array[0]['favorited'])\n",
    "print('--------------FAVOURITE COUNT----------------')\n",
    "print(status_array[0]['favorite_count'])\n",
    "\"\"\"\n"
   ]
  },
  {
   "cell_type": "markdown",
   "metadata": {},
   "source": [
    "## TWEET NUMERICAL ANALYSIS\n",
    "\n",
    "Change the below values to see how they rank in tweet frequency,  **YOU DON'T NEED TO WORRY ABOUT CASE SENSITIVITY IN WORDING**, that is covered in the code.\n",
    "\n",
    "```\n",
    "WORDONE=''\n",
    "WORDTWO=''\n",
    "WORDTHREE=''\n",
    "```"
   ]
  },
  {
   "cell_type": "code",
   "execution_count": 112,
   "metadata": {
    "scrolled": false
   },
   "outputs": [
    {
     "name": "stdout",
     "output_type": "stream",
     "text": [
      "Total count of words - GRENFELL :1587\n",
      "Total count of words - WINDRUSH :843\n",
      "Total count of words - BORIS :424\n",
      "Total count of words - GOVE :167\n",
      "Total count of words - REFERENDUM :14\n",
      "Total count of words - MAY :8169\n",
      "Total count of words - REFERENDUM :14\n",
      "Total count of words - LEAVE :174\n",
      "Total count of words - ANDREA :1\n",
      "Total count of words - BREXIT :519\n",
      "Total Number of Records: 10000\n",
      "\n",
      "Length of appended text array : 1188495\n",
      "\n",
      "OrderedDict([('THERESA', 7756), ('MAY', 6246), ('GRENFELL', 1538), ('PEOPLE', 1394), ('PRIME', 1225), ('MINISTER', 1107), ('RESIGNATION', 1048), ('DOWN', 1000), (\"MAY'S\", 893), ('WINDRUSH', 839), ('OVER', 750), ('TEARS', 726), ('MAY’S', 716), ('FEEL', 613), ('SORRY', 608), ('@OWENJONES84:', 571), ('JOB', 559), ('CRYING', 548), ('SPEECH', 519), ('BREAK', 495)])\n"
     ]
    }
   ],
   "source": [
    "WORDONE='grenfell'\n",
    "WORDTWO='windrush'\n",
    "WORDTHREE='boris'\n",
    "WORDFOUR = 'gove'\n",
    "WORDFIVE = 'referendum'\n",
    "WORDSIX = 'May'\n",
    "WORDSEVEN = 'referendum'\n",
    "WORDEIGHT = 'leave'\n",
    "WORDNINE = 'Andrea'\n",
    "WORDTEN = 'brexit'\n",
    "\n",
    "\n",
    "\n",
    "\n",
    "WORDONE= WORDONE.upper()\n",
    "WORDTWO= WORDTWO.upper()\n",
    "WORDTHREE=WORDTHREE.upper()\n",
    "WORDFOUR = WORDFOUR.upper()\n",
    "WORDFIVE = WORDFIVE.upper()\n",
    "WORDSIX = WORDSIX.upper()\n",
    "WORDSEVEN = WORDSEVEN.upper()\n",
    "WORDEIGHT = WORDEIGHT.upper()\n",
    "WORDNINE = WORDNINE.upper()\n",
    "WORDTEN = WORDTEN.upper()\n",
    "\n",
    "\n",
    "\n",
    "\n",
    "\n",
    "\n",
    "WORDONE_COUNT = 0\n",
    "WORDTWO_COUNT = 0 \n",
    "WORDTHREE_COUNT = 0 \n",
    "WORDFOUR_COUNT = 0\n",
    "WORDFIVE_COUNT = 0\n",
    "WORDSIX_COUNT = 0\n",
    "WORDSEVEN_COUNT= 0\n",
    "WORDEIGHT_COUNT= 0\n",
    "WORDNINE_COUNT = 0\n",
    "WORDTEN_COUNT = 0\n",
    "\n",
    "\n",
    "\n",
    "\n",
    "linecount = 0\n",
    "APPENDED_TEXT = \"\"\n",
    "\n",
    "\n",
    "\n",
    "for x in range(0, len(status_array)):\n",
    "    linecount = linecount + 1\n",
    "    text = str(status_array[x]['text']).upper()\n",
    "    APPENDED_TEXT = APPENDED_TEXT + str(text)\n",
    "    \n",
    "    \n",
    "    if str(text).count(str(WORDONE)) >= 1:\n",
    "        WORDONE_COUNT = WORDONE_COUNT + 1\n",
    "    if str(text).count(str(WORDTWO)) >= 1:\n",
    "        WORDTWO_COUNT = WORDTWO_COUNT + 1\n",
    "    if str(text).count(str(WORDTHREE)) >= 1:\n",
    "        WORDTHREE_COUNT = WORDTHREE_COUNT + 1\n",
    "    if str(text).count(str(WORDFOUR)) >= 1:\n",
    "        WORDFOUR_COUNT = WORDFOUR_COUNT + 1\n",
    "    if str(text).count(str(WORDFIVE)) >= 1:\n",
    "        WORDFIVE_COUNT = WORDFIVE_COUNT + 1\n",
    "    if str(text).count(str(WORDSIX)) >= 1:\n",
    "        WORDSIX_COUNT = WORDSIX_COUNT + 1\n",
    "    if str(text).count(str(WORDSEVEN)) >= 1:\n",
    "        WORDSEVEN_COUNT = WORDSEVEN_COUNT + 1\n",
    "    if str(text).count(str(WORDEIGHT)) >= 1:\n",
    "        WORDEIGHT_COUNT = WORDEIGHT_COUNT + 1\n",
    "    if str(text).count(str(WORDNINE)) >= 1:\n",
    "        WORDNINE_COUNT = WORDNINE_COUNT + 1\n",
    "    if str(text).count(str(WORDTEN)) >= 1:\n",
    "        WORDTEN_COUNT = WORDTEN_COUNT + 1\n",
    "\n",
    "      \n",
    "      \n",
    "        \n",
    "print('Total count of words - ' + str(WORDONE) + ' :' + str(WORDONE_COUNT))\n",
    "print('Total count of words - ' + str(WORDTWO) + ' :' + str(WORDTWO_COUNT))\n",
    "print('Total count of words - ' + str(WORDTHREE) + ' :' + str(WORDTHREE_COUNT))\n",
    "print('Total count of words - ' + str(WORDFOUR) + ' :' + str(WORDFOUR_COUNT))\n",
    "print('Total count of words - ' + str(WORDFIVE) + ' :' + str(WORDFIVE_COUNT))\n",
    "print('Total count of words - ' + str(WORDSIX) + ' :' + str(WORDSIX_COUNT))\n",
    "print('Total count of words - ' + str(WORDSEVEN) + ' :' + str(WORDSEVEN_COUNT))\n",
    "print('Total count of words - ' + str(WORDEIGHT) + ' :' + str(WORDEIGHT_COUNT))\n",
    "print('Total count of words - ' + str(WORDNINE) + ' :' + str(WORDNINE_COUNT))\n",
    "print('Total count of words - ' + str(WORDTEN) + ' :' + str(WORDTEN_COUNT))\n",
    "print('Total Number of Records: ' + str(linecount)) \n",
    "\n",
    "\n",
    "APPENDED_TEXT = APPENDED_TEXT.replace('#', '')\n",
    "APPENDED_TEXT = APPENDED_TEXT.replace('.', '')\n",
    "APPENDED_TEXT = APPENDED_TEXT.replace(',', '')\n",
    "APPENDED_TEXT = APPENDED_TEXT.replace(',', '')\n",
    "\n",
    "\n",
    "\n",
    "print('')\n",
    "\n",
    "print(\"Length of appended text array : \" + str(len(APPENDED_TEXT)))\n",
    "\n",
    "print('')\n",
    "from collections import Counter, OrderedDict\n",
    "DISC = APPENDED_TEXT.split()\n",
    "x = Counter(DISC)\n",
    "del x['⠀'],x['AND'],x['THE'],x['OF'],x['TO'],x['A'],x['IN'],x['&'],x['MY'],x['FOR'],x['I'],x['NOT'],x['IS'],x['ARE']\n",
    "del x['WITH'],x['ALL'],x['ON'],x['-'],x['YOU'],x['BY'],x['IT'],x['NO'],x['OR'],x['OWN'],x['THAT'],x['AT'],x['BE'],x['|'],x['WILL'],\n",
    "del x['BUT'],x['AN'],x['ABOUT'],x['AS'],x['FROM'],x['WHO'],x['ME'],x['WE'],x['HAVE'],x['OUR'],x['AM'],x['LIKE'],x['JUST']\n",
    "del x['THIS'],x['THEY'],x['IF'],x['HAS'],x['&AMP'],x['HAS'],x['CAN'],x['NOW'],x['SO'],x['ONLY'],x['WAS'],x['WHAT'],x['THEIR'],x['YOUR'],x['WOULD']\n",
    "del x['DO'],x['&AMP;'],x['ONE'],x['WANT'],x['BEEN'],x['THEM'],x['MORE'],x['TODAY'],x['GET'],x['WHEN'],x['COMMENT'],x['HER'],x['SHE'],x['FURTHER']\n",
    "\n",
    "\n",
    "large_top_tweets = OrderedDict(x.most_common(50))\n",
    "top_tweets = OrderedDict(x.most_common(20))\n",
    "print(top_tweets)\n",
    "\n",
    "\n"
   ]
  },
  {
   "cell_type": "code",
   "execution_count": 36,
   "metadata": {},
   "outputs": [
    {
     "data": {
      "image/png": "[encoded data removed]",
      "text/plain": [
       "<matplotlib.figure.Figure at 0x116595710>"
      ]
     },
     "metadata": {},
     "output_type": "display_data"
    }
   ],
   "source": [
    "import matplotlib.pyplot as plt\n",
    "\n",
    "E = top_tweets\n",
    "one = (0.1, 0.1, 0.1, 0.1)\n",
    "two = (0.1, 0.1, 0.1, 0.1)\n",
    "three = 'red'\n",
    "four= (0.1, 0.1, 0.1, 0.1)\n",
    "five= (0.1, 0.1, 0.1, 0.1)\n",
    "six= (0.1, 0.1, 0.1, 0.1)\n",
    "seven= 'red'\n",
    "eight= (0.1, 0.1, 0.1, 0.1)\n",
    "nine= (0.1, 0.1, 0.1, 0.1)\n",
    "ten= (0.1, 0.1, 0.1, 0.1)\n",
    "eleven= (0.1, 0.1, 0.1, 0.1)\n",
    "twelve= (0.1, 0.1, 0.1, 0.1)\n",
    "thirteen= (0.1, 0.1, 0.1, 0.1)\n",
    "fourteen= (0.1, 0.1, 0.1, 0.1)\n",
    "fithteen= (0.1, 0.1, 0.1, 0.1)\n",
    "sixteen= (0.1, 0.1, 0.1, 0.1)\n",
    "seventeen= (0.1, 0.1, 0.1, 0.1)\n",
    "eighteen= (0.1, 0.1, 0.1, 0.1)\n",
    "nineteen= (0.1, 0.1, 0.1, 0.1)\n",
    "twenty= (0.1, 0.1, 0.1, 0.1)\n",
    "\n",
    "\n",
    "\n",
    "color_last = [one, two,three,four,five,six,seven,eight,nine,ten,eleven,twelve,thirteen,fourteen,fithteen,sixteen,seventeen,eighteen,nineteen,twenty]\n",
    "color = (0.1, 0.1, 0.1, 0.1)\n",
    "plt.bar(range(len(E)), list(E.values()), align='center', color=color_last,  edgecolor='blue')\n",
    "\n",
    "plt.xticks(range(len(E)), list(E.keys()), rotation='vertical')\n",
    "plt.title(\"Most Frequently Tweeted Words\", fontsize=30)\n",
    "plt.ylabel('Number of Occurrences (thousands)', fontsize=18)\n",
    "plt.xlabel('Tweeted term by Frequency', fontsize=18)\n",
    "plt.rcParams[\"figure.figsize\"] = (20,10)\n",
    "os.remove(\"TWEETS.png\")\n",
    "plt.savefig(\"TWEETS\", bbox_inches=\"tight\")\n",
    "plt.show()\n"
   ]
  },
  {
   "cell_type": "markdown",
   "metadata": {},
   "source": [
    "# TWEET COMPARISON"
   ]
  },
  {
   "cell_type": "code",
   "execution_count": 37,
   "metadata": {},
   "outputs": [
    {
     "data": {
      "image/png": "[encoded data removed]",
      "text/plain": [
       "<matplotlib.figure.Figure at 0x121892470>"
      ]
     },
     "metadata": {},
     "output_type": "display_data"
    }
   ],
   "source": [
    "import matplotlib.pyplot as plt\n",
    "B = {str(WORDONE):int(WORDONE_COUNT), \n",
    "     str(WORDTWO):int(WORDTWO_COUNT),\n",
    "    str(WORDTHREE):int(WORDTHREE_COUNT),\n",
    "    str(WORDFOUR):int(WORDFOUR_COUNT),\n",
    "    str(WORDFIVE):int(WORDFIVE_COUNT)}\n",
    "\n",
    "\n",
    "\n",
    "plt.bar(range(len(B)), list(B.values()), align='center', alpha=0.5, color=('#ff8c66'),  edgecolor='blue')\n",
    "\n",
    "plt.xticks(range(len(B)), list(B.keys()), rotation='horizontal')\n",
    "plt.title(\"Tweet Popular Tweet Word Comparison\", fontsize=30)\n",
    "plt.ylabel('Number of Occurrences (thousands)', fontsize=18)\n",
    "#plt.xlabel('These are the words in which Tweeters describe themselves', horizontalalignment='left', position=(0,25), fontsize=18)\n",
    "plt.rcParams[\"figure.figsize\"] = (20,10)\n",
    "#plt.savefig(\"BESPOKE\", bbox_inches=\"tight\")\n",
    "os.remove(\"comparetweets.png\")\n",
    "plt.savefig(\"comparetweets\")\n",
    "plt.show()"
   ]
  },
  {
   "cell_type": "markdown",
   "metadata": {},
   "source": [
    "## USER DESCRIPTION NUMERICAL ANALYSIS\n",
    "\n",
    "Change the below values to see how they rank in tweet frequency **YOU DON'T NEED TO WORRY ABOUT CASE SENSITIVITY IN WORDING**, that is covered in the code."
   ]
  },
  {
   "cell_type": "code",
   "execution_count": 82,
   "metadata": {},
   "outputs": [
    {
     "name": "stdout",
     "output_type": "stream",
     "text": [
      "Total count of words - TORY :213\n",
      "Total count of words - LABOUR :234\n",
      "Total count of words - LIBDEM :14\n",
      "Total count of words - UKIP :20\n",
      "Total count of words - GREEN PARTY :7\n",
      "Total count of words - GREENS :5\n",
      "Total count of words - REFERENDUM :8\n",
      "Total count of words - LEAVE :66\n",
      "Total count of words - REMAIN :85\n",
      "Total count of words - BREXIT :402\n",
      "Total Number of Records: 10000\n",
      "\n",
      "OrderedDict([('LOVE', 425), ('FAN', 249), ('VIEWS', 229), ('BREXIT', 216), ('LIFE', 213), ('MUSIC', 207), ('POLITICS', 180), ('WORLD', 162), ('PEOPLE', 159), ('SUPPORTER', 155), ('LOVER', 151), ('MEMBER', 148), ('PROUD', 142), ('LABOUR', 141), ('TIME', 136), ('GOOD', 129), ('WRITER', 126), ('SOCIALIST', 125), ('HATE', 116), ('EU', 116)])\n"
     ]
    }
   ],
   "source": [
    "\n",
    "WORDONE='tory'\n",
    "WORDTWO='labour'\n",
    "WORDTHREE='libdem'\n",
    "WORDFOUR = 'ukip'\n",
    "WORDFIVE = 'Green party'\n",
    "WORDSIX = 'greens'\n",
    "WORDSEVEN = 'referendum'\n",
    "WORDEIGHT = 'leave'\n",
    "WORDNINE = 'remain'\n",
    "WORDTEN = 'brexit'\n",
    "\n",
    "\n",
    "\n",
    "\n",
    "WORDONE= WORDONE.upper()\n",
    "WORDTWO= WORDTWO.upper()\n",
    "WORDTHREE=WORDTHREE.upper()\n",
    "WORDFOUR = WORDFOUR.upper()\n",
    "WORDFIVE = WORDFIVE.upper()\n",
    "WORDSIX = WORDSIX.upper()\n",
    "WORDSEVEN = WORDSEVEN.upper()\n",
    "WORDEIGHT = WORDEIGHT.upper()\n",
    "WORDNINE = WORDNINE.upper()\n",
    "WORDTEN = WORDTEN.upper()\n",
    "\n",
    "\n",
    "\n",
    "\n",
    "\n",
    "\n",
    "WORDONE_COUNT = 0\n",
    "WORDTWO_COUNT = 0 \n",
    "WORDTHREE_COUNT = 0 \n",
    "WORDFOUR_COUNT = 0\n",
    "WORDFIVE_COUNT = 0\n",
    "WORDSIX_COUNT = 0\n",
    "WORDSEVEN_COUNT= 0\n",
    "WORDEIGHT_COUNT= 0\n",
    "WORDNINE_COUNT = 0\n",
    "WORDTEN_COUNT = 0\n",
    "\n",
    "\n",
    "linecount = 0\n",
    "APPENDED_DESCRIPTION = \"\"\n",
    "\n",
    "\n",
    "\n",
    "for x in range(0, len(status_array)):\n",
    "    linecount = linecount + 1\n",
    "    description = str(status_array[x]['user']['description']).upper()\n",
    "    APPENDED_DESCRIPTION = APPENDED_DESCRIPTION + str(description)\n",
    "    \n",
    "    \n",
    "    if str(description).count(str(WORDONE)) >= 1:\n",
    "        WORDONE_COUNT = WORDONE_COUNT + 1\n",
    "    if str(description).count(str(WORDTWO)) >= 1:\n",
    "        WORDTWO_COUNT = WORDTWO_COUNT + 1\n",
    "    if str(description).count(str(WORDTHREE)) >= 1:\n",
    "        WORDTHREE_COUNT = WORDTHREE_COUNT + 1\n",
    "    if str(description).count(str(WORDFOUR)) >= 1:\n",
    "        WORDFOUR_COUNT = WORDFOUR_COUNT + 1\n",
    "    if str(description).count(str(WORDFIVE)) >= 1:\n",
    "        WORDFIVE_COUNT = WORDFIVE_COUNT + 1\n",
    "    if str(description).count(str(WORDSIX)) >= 1:\n",
    "        WORDSIX_COUNT = WORDSIX_COUNT + 1\n",
    "    if str(description).count(str(WORDSEVEN)) >= 1:\n",
    "        WORDSEVEN_COUNT = WORDSEVEN_COUNT + 1\n",
    "    if str(description).count(str(WORDEIGHT)) >= 1:\n",
    "        WORDEIGHT_COUNT = WORDEIGHT_COUNT + 1\n",
    "    if str(description).count(str(WORDNINE)) >= 1:\n",
    "        WORDNINE_COUNT = WORDNINE_COUNT + 1\n",
    "    if str(description).count(str(WORDTEN)) >= 1:\n",
    "        WORDTEN_COUNT = WORDTEN_COUNT + 1\n",
    "\n",
    "      \n",
    "      \n",
    "        \n",
    "print('Total count of words - ' + str(WORDONE) + ' :' + str(WORDONE_COUNT))\n",
    "print('Total count of words - ' + str(WORDTWO) + ' :' + str(WORDTWO_COUNT))\n",
    "print('Total count of words - ' + str(WORDTHREE) + ' :' + str(WORDTHREE_COUNT))\n",
    "print('Total count of words - ' + str(WORDFOUR) + ' :' + str(WORDFOUR_COUNT))\n",
    "print('Total count of words - ' + str(WORDFIVE) + ' :' + str(WORDFIVE_COUNT))\n",
    "print('Total count of words - ' + str(WORDSIX) + ' :' + str(WORDSIX_COUNT))\n",
    "print('Total count of words - ' + str(WORDSEVEN) + ' :' + str(WORDSEVEN_COUNT))\n",
    "print('Total count of words - ' + str(WORDEIGHT) + ' :' + str(WORDEIGHT_COUNT))\n",
    "print('Total count of words - ' + str(WORDNINE) + ' :' + str(WORDNINE_COUNT))\n",
    "print('Total count of words - ' + str(WORDTEN) + ' :' + str(WORDTEN_COUNT))\n",
    "print('Total Number of Records: ' + str(linecount)) \n",
    "\n",
    "\n",
    "APPENDED_DESCRIPTION = APPENDED_DESCRIPTION.replace('#', '')\n",
    "APPENDED_DESCRIPTION = APPENDED_DESCRIPTION.replace('.', '')\n",
    "APPENDED_DESCRIPTION = APPENDED_DESCRIPTION.replace(',', '')\n",
    "APPENDED_DESCRIPTION = APPENDED_DESCRIPTION.replace(',', '')\n",
    "\n",
    "\n",
    "\n",
    "\n",
    "from collections import Counter, OrderedDict\n",
    "DISC = APPENDED_DESCRIPTION.split()\n",
    "x = Counter(DISC)\n",
    "del x['⠀'],x['AND'],x['THE'],x['OF'],x['TO'],x['A'],x['IN'],x['&'],x['MY'],x['FOR'],x['I'],x['NOT'],x['IS'],x['ARE']\n",
    "del x['WITH'],x['ALL'],x['ON'],x['-'],x['YOU'],x['BY'],x['IT'],x['NO'],x['OR'],x['OWN'],x['THAT'],x['AT'],x['BE'],x['|'],x['WILL'],\n",
    "del x['BUT'],x['AN'],x['ABOUT'],x['AS'],x['FROM'],x['WHO'],x['ME'],x['WE'],x['HAVE'],x['OUR'],x['AM'],x['LIKE'],x['JUST']\n",
    "del x['THIS'],x['THEY'],x['IF'],x['HAS'],x['&AMP'],x['HAS'],x['CAN'],x['NOW'],x['SO'],x['ONLY'],x['WAS'],x['WHAT'],x['THEIR'],x['YOUR'],x['WOULD']\n",
    "del x['DO'],x['&AMP;'],x['ONE'],x['WANT'],x['BEEN'],x['THEM'],x['MORE'],x['/'],x['•'],x[\"I'M\"],x[''],x['']\n",
    "\n",
    "large_bio_desc = OrderedDict(x.most_common(50))\n",
    "top_bio_desc = OrderedDict(x.most_common(20))\n",
    "print('')\n",
    "print(top_bio_desc)\n"
   ]
  },
  {
   "cell_type": "markdown",
   "metadata": {},
   "source": [
    "## BIO TERM COMPARISON"
   ]
  },
  {
   "cell_type": "code",
   "execution_count": 39,
   "metadata": {
    "scrolled": false
   },
   "outputs": [
    {
     "data": {
      "image/png": "[encoded data removed]",
      "text/plain": [
       "<matplotlib.figure.Figure at 0x11cf8cdd8>"
      ]
     },
     "metadata": {},
     "output_type": "display_data"
    }
   ],
   "source": [
    "import matplotlib.pyplot as plt\n",
    "B = {str(WORDONE):int(WORDONE_COUNT), \n",
    "     str(WORDTWO):int(WORDTWO_COUNT),\n",
    "    str(WORDTHREE):int(WORDTHREE_COUNT),\n",
    "    str(WORDFOUR):int(WORDFOUR_COUNT),\n",
    "    str(WORDFIVE):int(WORDFIVE_COUNT)}\n",
    "\n",
    "\n",
    "\n",
    "plt.bar(range(len(B)), list(B.values()), align='center', alpha=0.5, color=('#ff8c66'),  edgecolor='blue')\n",
    "\n",
    "plt.xticks(range(len(B)), list(B.keys()), rotation='horizontal')\n",
    "plt.title(\"Tweeters Bio - Most popular Self Description\", fontsize=30)\n",
    "plt.ylabel('Number of Occurrences (thousands)', fontsize=18)\n",
    "#plt.xlabel('These are the words in which Tweeters describe themselves', horizontalalignment='left', position=(0,25), fontsize=18)\n",
    "plt.rcParams[\"figure.figsize\"] = (20,10)\n",
    "#plt.savefig(\"BESPOKE\", bbox_inches=\"tight\")\n",
    "os.remove(\"COMPARE.png\")\n",
    "plt.savefig(\"COMPARE\")\n",
    "plt.show()"
   ]
  },
  {
   "cell_type": "code",
   "execution_count": 40,
   "metadata": {},
   "outputs": [
    {
     "data": {
      "image/png": "[encoded data removed]",
      "text/plain": [
       "<matplotlib.figure.Figure at 0x1168b6f60>"
      ]
     },
     "metadata": {},
     "output_type": "display_data"
    }
   ],
   "source": [
    "import matplotlib.pyplot as plt\n",
    "\n",
    "D = top_bio_desc\n",
    "\n",
    "plt.bar(range(len(D)), list(D.values()), align='center', color=(0.1, 0.5, 1, 0.1),  edgecolor='blue')\n",
    "\n",
    "plt.xticks(range(len(D)), list(D.keys()), rotation='vertical')\n",
    "plt.title(\"Tweeters Bio - Most popular Self Description\", fontsize=30)\n",
    "plt.ylabel('Number of Occurrences (thousands)', fontsize=18)\n",
    "plt.xlabel('These are the words in which Tweeters describe themselves', horizontalalignment='left', position=(0,25), fontsize=18)\n",
    "plt.rcParams[\"figure.figsize\"] = (20,10)\n",
    "os.remove(\"BIO.png\")\n",
    "plt.savefig(\"BIO\", bbox_inches=\"tight\")\n",
    "plt.show()"
   ]
  },
  {
   "cell_type": "markdown",
   "metadata": {
    "collapsed": true
   },
   "source": [
    "# SENTIMENT ANALYSIS \n",
    "\n",
    "The sentiment property returns a named tuple of the form Sentiment (polarity, subjectivity). The polarity score is a float within the range [-1.0, 1.0]. The subjectivity is a float within the range [0.0, 1.0] where 0.0 is very objective and 1.0 is very subjective.\n",
    "\n",
    "# Now the Theory\n",
    "Thanks to Siraj Raval and freecode camp for the sample here\n",
    "\n",
    "TextBlob\n",
    "TextBlob is a Python (2 and 3) library for processing textual data. It provides a simple API for diving into common natural language processing (NLP) tasks such as part-of-speech tagging, noun phrase extraction, sentiment analysis, classification, translation, and more.\n",
    "\n",
    "A textblob can be created in the following way (example, and not part of the original code):\n",
    "\n",
    "example = TextBlob(\"Python is a high-level, general-purpose programming language.\")\n",
    "And tokenization can be performed by the following methods:\n",
    "words: returns the words of text\n",
    "\n",
    "usage:\n",
    "\n",
    "example.words\n",
    "sentences: returns the sentences of text\n",
    "\n",
    "usage:\n",
    "\n",
    "example.sentences\n"
   ]
  },
  {
   "cell_type": "code",
   "execution_count": 40,
   "metadata": {
    "collapsed": true
   },
   "outputs": [],
   "source": [
    "from textblob import TextBlob\n",
    "import tweepy\n",
    "\n",
    "\n",
    "auth = tweepy.OAuthHandler(CONSUMER_KEY, CONSUMER_SECRET)\n",
    "auth.set_access_token(ACCESS_TOKEN, ACCESS_SECRET)\n",
    "api = tweepy.API(auth)"
   ]
  },
  {
   "cell_type": "code",
   "execution_count": 41,
   "metadata": {
    "collapsed": true
   },
   "outputs": [],
   "source": [
    "public_tweets = api.search('Theresa May')"
   ]
  },
  {
   "cell_type": "code",
   "execution_count": 42,
   "metadata": {
    "collapsed": true
   },
   "outputs": [],
   "source": [
    "objective_tweet=0\n",
    "subjective_tweet=0\n",
    "negitively_subjective=0\n",
    "for tweet in public_tweets:\n",
    "    print(tweet.text)\n",
    "    analysis = TextBlob(tweet.text)\n",
    "    print(analysis.sentiment)\n",
    "    if analysis.sentiment[0]>0:\n",
    "       subjective_tweet = subjective_tweet + 1\n",
    "       print('Subjective')\n",
    "    elif analysis.sentiment[0]<0:\n",
    "       negitively_subjective = negitively_subjective  + 1\n",
    "       print('Negatively subjective')\n",
    "    else:\n",
    "       objective_tweet = objective_tweet + 1\n",
    "       print('objective')\n",
    "    print('\\n')\n",
    "    \n",
    "print('objective_tweets : '+str(objective_tweet))\n",
    "print('subjective_tweets : '+str(subjective_tweet))\n",
    "print('negitively_subjective tweets: '+str(negitively_subjective))"
   ]
  },
  {
   "cell_type": "markdown",
   "metadata": {
    "collapsed": true
   },
   "source": [
    "# SAMPLE"
   ]
  },
  {
   "cell_type": "code",
   "execution_count": 44,
   "metadata": {},
   "outputs": [
    {
     "data": {
      "text/plain": [
       "'U.K. Prime Minister Theresa May announced her resignation earlier today. \\n\\n@swajcmanearle wrote about how Boris Joh… https://t.co/j8PXKFeIbO'"
      ]
     },
     "execution_count": 44,
     "metadata": {},
     "output_type": "execute_result"
    }
   ],
   "source": [
    "status_array[3]['text']"
   ]
  },
  {
   "cell_type": "markdown",
   "metadata": {},
   "source": [
    "# MOST REFERENCED PEOPLE"
   ]
  },
  {
   "cell_type": "code",
   "execution_count": 406,
   "metadata": {},
   "outputs": [
    {
     "name": "stdout",
     "output_type": "stream",
     "text": [
      "Number of times users were quoted :9258\n",
      "\n",
      "Most quoted users are : OrderedDict([('OwenJones84', 591), ('Nigel_Farage', 356), ('davidschneider', 352), ('DailyHustler', 283), ('felixrackers', 222)])\n"
     ]
    }
   ],
   "source": [
    "quote_count = 0\n",
    "quoted_users = []\n",
    "\n",
    "# USING FOLLOWING REDUCES TO ONLY IF QUOTED if status_array[current]['is_quote_status'] == True: \n",
    "\n",
    "for current in range(0, len(status_array)):\n",
    "    \"\"\"If quoted, then check mentions and append mention screen names to array\"\"\"\n",
    "    \n",
    "    if status_array[x]['entities']['user_mentions'] is not None:\n",
    "        for y in range(0, len(status_array[current]['entities']['user_mentions'])):\n",
    "            quoted_users.append(status_array[current]['entities']['user_mentions'][y]['screen_name'])\n",
    "\n",
    "                \n",
    "print(\"Number of times users were quoted :\" + str(len(quoted_users)))\n",
    "       \n",
    "quoteCounter = Counter(quoted_users)\n",
    "quoteCounted = OrderedDict(quoteCounter.most_common(5))\n",
    "\n",
    "print('')\n",
    "print(\"Most quoted users are : \" + str(quoteCounted))     \n",
    "    \n",
    "\n",
    "    \n"
   ]
  },
  {
   "cell_type": "code",
   "execution_count": 260,
   "metadata": {},
   "outputs": [],
   "source": [
    "status_array[333]['in_reply_to_user_id']"
   ]
  },
  {
   "cell_type": "code",
   "execution_count": 46,
   "metadata": {},
   "outputs": [
    {
     "data": {
      "text/plain": [
       "'RT @davidschneider: Theresa May guide to crying\\n\\nNO TEARS for\\nGrenfell\\nThe Windrush generation\\nDeaths and misery caused by the hostile envi…'"
      ]
     },
     "execution_count": 46,
     "metadata": {},
     "output_type": "execute_result"
    }
   ],
   "source": [
    "status_array[retweet_array.index(max(retweet_array))]['text']"
   ]
  },
  {
   "cell_type": "markdown",
   "metadata": {
    "collapsed": true
   },
   "source": [
    "# GOOGLE TRENDS "
   ]
  },
  {
   "cell_type": "code",
   "execution_count": 47,
   "metadata": {},
   "outputs": [
    {
     "data": {
      "image/png": "[encoded data removed]",
      "text/plain": [
       "<matplotlib.figure.Figure at 0x119e3be80>"
      ]
     },
     "metadata": {},
     "output_type": "display_data"
    }
   ],
   "source": [
    "import csv\n",
    "import matplotlib.pyplot as plt; plt.rcdefaults()\n",
    "import numpy as np\n",
    "import matplotlib.pyplot as plt\n",
    "\n",
    "with open('may.csv', newline='') as csvfile:\n",
    "    data = list(csv.reader(csvfile))\n",
    "google =data[3:]\n",
    "\n",
    "dates = []\n",
    "values = []\n",
    "for x in range(0, len(google)):\n",
    "    dates.append(str(google[x][0]))\n",
    "    values.append(google[x][1])\n",
    "    \n",
    "\n",
    "\n",
    "\n",
    "y_pos = np.arange(len(dates))\n",
    "#performance = values\n",
    "#plt.bar(y_pos, performance, align='center', alpha=0.5)\n",
    "#plt.xticks(y_pos, dates, rotation=\"vertical\")\n",
    "\n",
    "\n",
    "\n",
    "\n",
    "\n",
    "\n",
    "plt.plot(y_pos, values)\n",
    "\n",
    "plt.title('#Brexit Google Trend')\n",
    "plt.ylabel('Popularity as % of Max')\n",
    "#plt.xticks(y_pos, dates, rotation=\"vertical\")\n",
    "#plt.xticks(np.arange(min(y_pos), max(y_pos)+1, 1.0))\n",
    "plt.savefig(\"trend\", bbox_inches=\"tight\")\n",
    "plt.show()"
   ]
  },
  {
   "cell_type": "markdown",
   "metadata": {},
   "source": [
    "# SCAN A TWEET FOR A GIVEN BIO "
   ]
  },
  {
   "cell_type": "code",
   "execution_count": 418,
   "metadata": {},
   "outputs": [
    {
     "name": "stdout",
     "output_type": "stream",
     "text": [
      "Number of matching tweets: 232\n",
      "Top 50 terms in their tweets: OrderedDict([('THERESA', 166), ('MAY', 115), ('HER', 59), ('SHE', 39), ('PEOPLE', 37), (\"MAY'S\", 29), ('TEARS', 25), ('PRIME', 20), ('OVER', 20), ('VICTIMS', 19), ('AFTER', 17), ('FEEL', 16), ('GRENFELL', 15), ('MINISTER', 14), ('OUT', 13), ('CORBYN', 12), ('RESIGNATION', 12), ('FIRE', 12), ('UNION', 12), ('SHOULD', 12), ('@ANGRY_VOICE:', 12), ('PITY', 12), ('@OWENJONES84:', 11), ('WHEN', 11), ('ACTUALLY', 11), ('DON’T', 11), ('COUNTRY', 10), ('MAY’S', 10), ('GRENFELL.', 10), ('MEDIA', 10), ('HAD', 10), ('ELECTION', 9), ('THAN', 9), ('NECESSARY.', 9), ('DOWN', 9), ('WINDRUSH,', 9), ('BREXIT', 9), ('GENERAL', 9), ('MAINSTREAM', 9), ('HACK', 9), ('AFFRONTED', 9), ('IDEA', 9), ('SORRY', 9), ('DAVID', 8), ('JOHNSON', 8), ('WITHOUT', 8), ('HE', 8), ('BREAK', 8), ('WHICH', 8), (\"MAY'S…RT\", 8)])\n"
     ]
    }
   ],
   "source": [
    "from collections import Counter, OrderedDict\n",
    "#PICK ONE \n",
    "\n",
    "CHOSEN_BIO_WORD = 'SOCIALIST'\n",
    "\n",
    "\n",
    "CHOSEN_BIO_WORD = CHOSEN_BIO_WORD.upper()\n",
    "\n",
    "\n",
    "TARGETARRAY = []\n",
    "TARGETTWEET = \"\"\n",
    "linecount = 0\n",
    "for x in range(0, len(status_array)):\n",
    "    text = str(status_array[x]['text']).upper()\n",
    "    description = str(status_array[x]['user']['description']).upper()\n",
    "   \n",
    "    if str(description).count(str(CHOSEN_BIO_WORD)) >= 1:\n",
    "        TARGETARRAY.append(status_array[x])\n",
    "        TARGETTWEET = TARGETTWEET +  str(status_array[x]['text']).upper()\n",
    "\n",
    "\n",
    "\n",
    "DISC = TARGETTWEET.split()\n",
    "x = Counter(DISC)\n",
    "del x['⠀'],x['AND'],x['THE'],x['OF'],x['TO'],x['A'],x['IN'],x['&'],x['MY'],x['FOR'],x['I'],x['NOT'],x['IS'],x['ARE']\n",
    "del x['WITH'],x['ALL'],x['ON'],x['-'],x['YOU'],x['BY'],x['IT'],x['NO'],x['OR'],x['OWN'],x['THAT'],x['AT'],x['BE'],x['|'],x['WILL'],\n",
    "del x['BUT'],x['AN'],x['ABOUT'],x['AS'],x['FROM'],x['WHO'],x['ME'],x['WE'],x['HAVE'],x['OUR'],x['AM'],x['LIKE'],x['JUST']\n",
    "del x['THIS'],x['THEY'],x['IF'],x['HAS'],x['&AMP'],x['HAS'],x['CAN'],x['NOW'],x['SO'],x['ONLY'],x['WAS'],x['WHAT'],x['THEIR'],x['YOUR'],x['WOULD']\n",
    "del x['DO'],x['&AMP;'],x['ONE'],x['WANT'],x['BEEN'],x['THEM'],x['MORE'],x['/'],x['•'],x[\"I'M\"],x[''],x['']\n",
    "\n",
    "refinedTWEETS = OrderedDict(x.most_common(50))\n",
    "print(\"Number of matching tweets: \" + str(len(TARGETARRAY)))\n",
    "print(\"Top 50 terms in their tweets: \" + str(refinedTWEETS))"
   ]
  },
  {
   "cell_type": "markdown",
   "metadata": {},
   "source": [
    "# SCAN BIO FOR GIVEN TWEET"
   ]
  },
  {
   "cell_type": "code",
   "execution_count": 124,
   "metadata": {},
   "outputs": [
    {
     "name": "stdout",
     "output_type": "stream",
     "text": [
      "Number of matching tweets: 1587\n",
      "Top 50 terms in their bio: OrderedDict([('LOVE', 42), ('VIEWS', 38), ('LIFE', 30), ('||', 24), ('STUDENT', 24), ('GOOD', 22), ('LABOUR', 22), ('TIME', 20), ('SOME', 20), ('SOCIAL', 19), ('FAN', 19), ('WORLD', 18), ('MUSIC', 18), (\"DON'T\", 18), ('MAKE', 17), ('GET', 16), ('MEMBER', 16), ('THINGS', 15), ('HISTORY', 15), ('OUT', 15), ('FAN.', 15), ('ALWAYS', 15), ('NEVER', 15), ('.', 15), ('MAN', 14), ('LOVER', 14), ('NEW', 14), ('PASSIONATE', 14), ('OTHER', 13), ('LIVING', 13), ('FOLLOW', 13), ('THAN', 13), ('HATE', 12), ('PHD', 12), ('WAY', 12), ('//', 12), ('POLITICAL', 12), ('PROUD', 12), ('PEOPLE', 12), ('UP', 11), ('MUSIC,', 11), ('OLD', 11), ('RETWEETS', 11), ('ANIMAL', 11), ('HUMAN', 11), ('HUSBAND,', 11), ('HEALTH', 11), ('WORKING', 11), ('SOCIALIST', 11), ('FOOTBALL', 11)])\n"
     ]
    }
   ],
   "source": [
    "from collections import Counter, OrderedDict\n",
    "#PICK ONE \n",
    "\n",
    "CHOSEN_TWEET_WORD = 'grenfell'\n",
    "\n",
    "\n",
    "CHOSEN_TWEET_WORD = CHOSEN_TWEET_WORD.upper()\n",
    "\n",
    "\n",
    "TARGETARRAY = []\n",
    "TARGETBIO = \"\"\n",
    "linecount = 0\n",
    "for x in range(0, len(status_array)):\n",
    "    text = str(status_array[x]['text']).upper()\n",
    "    description = str(status_array[x]['user']['description']).upper()\n",
    "   \n",
    "    if str(text).count(str(CHOSEN_TWEET_WORD)) >= 1:\n",
    "        TARGETARRAY.append(status_array[x])\n",
    "        TARGETBIO = TARGETBIO + str(status_array[x]['user']['description']).upper()\n",
    "\n",
    "\n",
    "\n",
    "DISC = TARGETBIO.split()\n",
    "x = Counter(DISC)\n",
    "del x['⠀'],x['AND'],x['THE'],x['OF'],x['TO'],x['A'],x['IN'],x['&'],x['MY'],x['FOR'],x['I'],x['NOT'],x['IS'],x['ARE']\n",
    "del x['WITH'],x['ALL'],x['ON'],x['-'],x['YOU'],x['BY'],x['IT'],x['NO'],x['OR'],x['OWN'],x['THAT'],x['AT'],x['BE'],x['|'],x['WILL'],\n",
    "del x['BUT'],x['AN'],x['ABOUT'],x['AS'],x['FROM'],x['WHO'],x['ME'],x['WE'],x['HAVE'],x['OUR'],x['AM'],x['LIKE'],x['JUST']\n",
    "del x['THIS'],x['THEY'],x['IF'],x['HAS'],x['&AMP'],x['HAS'],x['CAN'],x['NOW'],x['SO'],x['ONLY'],x['WAS'],x['WHAT'],x['THEIR'],x['YOUR'],x['WOULD']\n",
    "del x['DO'],x['&AMP;'],x['ONE'],x['WANT'],x['BEEN'],x['THEM'],x['MORE'],x['/'],x['•'],x[\"I'M\"],x[''],x['']\n",
    "\n",
    "refinedBio = OrderedDict(x.most_common(50))\n",
    "print(\"Number of matching tweets: \" + str(len(TARGETARRAY)))\n",
    "print(\"Top 50 terms in their bio: \" + str(refinedBio))"
   ]
  },
  {
   "cell_type": "markdown",
   "metadata": {},
   "source": [
    "# LINK BIO AND TWEET"
   ]
  },
  {
   "cell_type": "code",
   "execution_count": 87,
   "metadata": {},
   "outputs": [
    {
     "name": "stdout",
     "output_type": "stream",
     "text": [
      "OrderedDict([('THERESA', 7756), ('MAY', 6246), ('GRENFELL', 1538), ('PEOPLE', 1394), ('PRIME', 1225), ('MINISTER', 1107), ('RESIGNATION', 1048), ('DOWN', 1000), (\"MAY'S\", 893), ('WINDRUSH', 839), ('OVER', 750), ('TEARS', 726), ('MAY’S', 716), ('FEEL', 613), ('SORRY', 608), ('@OWENJONES84:', 571), ('JOB', 559), ('CRYING', 548), ('SPEECH', 519), ('BREAK', 495), ('COUNTRY', 485), ('AFTER', 483), ('HISTORY', 476), (\"DIDN'T\", 471), ('HAVING', 468), ('LEGACY', 465), ('CUT', 464), ('DISABLED', 454), ('PUBLICLY', 453), ('BENEFITS', 449), ('WORST', 445), ('CRIED', 437), ('FIRE', 431), ('SUCCESSOR', 422), ('BORIS', 412), ('PM', 403), ('BETTER', 398), ('CHILDR…RT', 377), ('BREXIT', 372), ('@NIGEL_FARAGE:', 352), ('@DAVIDSCHNEIDER:', 350), ('THINK', 349), ('BRITAIN’S', 348), ('UNLESS', 348), ('FARE', 344), ('VOW', 344), ('JOHNSON', 342), ('DON’T', 336), ('LOST', 330), ('RESIGN', 322)])\n",
      "\n",
      "bio\n",
      "OrderedDict([('LOVE', 425), ('FAN', 249), ('VIEWS', 229), ('BREXIT', 216), ('LIFE', 213), ('MUSIC', 207), ('POLITICS', 180), ('WORLD', 162), ('PEOPLE', 159), ('SUPPORTER', 155), ('LOVER', 151), ('MEMBER', 148), ('PROUD', 142), ('LABOUR', 141), ('TIME', 136), ('GOOD', 129), ('WRITER', 126), ('SOCIALIST', 125), ('HATE', 116), ('EU', 116), ('PARTY', 114), ('THINGS', 111), (\"DON'T\", 111), ('MAGA', 109), ('STUDENT', 107), ('UP', 103), ('FREE', 103), ('LIVING', 101), ('MAKE', 101), ('FOLLOW', 101), ('POLITICAL', 100), ('ALWAYS', 100), ('PRO', 99), ('SOCIAL', 98), ('HISTORY', 97), ('OUT', 95), ('NEWS', 95), ('FAMILY', 95), ('UK', 91), ('OLD', 90), ('FOOTBALL', 90), ('MAN', 89), ('TWEETS', 89), ('GET', 88), ('NEVER', 87), ('HUMAN', 85), ('RETIRED', 83), ('RETWEETS', 82), ('FATHER', 82), ('YEARS', 82)])\n"
     ]
    }
   ],
   "source": [
    "print(large_top_tweets)\n",
    "print(\"\")\n",
    "print(\"bio\")\n",
    "print(large_bio_desc)"
   ]
  },
  {
   "cell_type": "code",
   "execution_count": 121,
   "metadata": {},
   "outputs": [
    {
     "name": "stdout",
     "output_type": "stream",
     "text": [
      "RT @bakoff333: Theresa May quits!\n",
      "\n",
      "Brexit? I think not\n",
      "\n",
      "Declassification? I think so\n",
      "\n",
      "There are no coincidences \n",
      "🍿🍿🍿 https://t.co/98wEOt4G2b\n",
      "\n",
      "Bio: \n",
      "Love Jesus, my boy's, happily married. As of 2/28/18, I AM cancer free.\n",
      "You will meet God! I hope your soul is ready!!!🤣😂🤗👹\n",
      "MAGA\n"
     ]
    }
   ],
   "source": [
    "#PICK TWO OR \n",
    "\n",
    "CHOSEN_WORD_ONE = 'brexit'\n",
    "BIO_CHOSEN_WORD_ONE = 'hope'\n",
    "\n",
    "\n",
    "\n",
    "CHOSEN_WORD_ONE = CHOSEN_WORD_ONE.upper()\n",
    "BIO_CHOSEN_WORD_ONE = BIO_CHOSEN_WORD_ONE.upper()\n",
    "\n",
    "\n",
    "\n",
    "\n",
    "TARGETARRAY = []\n",
    "linecount = 0\n",
    "for x in range(0, len(status_array)):\n",
    "    text = str(status_array[x]['text']).upper()\n",
    "    description = str(status_array[x]['user']['description']).upper()\n",
    "   \n",
    "    if str(text).count(str(CHOSEN_WORD_ONE)) >= 1 and str(description).count(str(BIO_CHOSEN_WORD_ONE)) >= 1:\n",
    "        TARGETARRAY.append(status_array[x])\n",
    "\n",
    "print(TARGETARRAY[0]['text'])\n",
    "print(\"\")\n",
    "print('Bio: ')\n",
    "print(TARGETARRAY[0]['user']['description'])"
   ]
  },
  {
   "cell_type": "code",
   "execution_count": 156,
   "metadata": {},
   "outputs": [
    {
     "data": {
      "text/plain": [
       "{'contributors_enabled': False,\n",
       " 'created_at': 'Thu Feb 05 19:01:48 +0000 2009',\n",
       " 'default_profile': True,\n",
       " 'default_profile_image': False,\n",
       " 'description': 'Father, Love Music, Satire, Puns & Promotion. Hate Racism. Did some DJing, travelling, and partied till the sun came up. Anti-Murdoch, Anti-War',\n",
       " 'favourites_count': 4828,\n",
       " 'follow_request_sent': None,\n",
       " 'followers_count': 332,\n",
       " 'following': None,\n",
       " 'friends_count': 2455,\n",
       " 'geo_enabled': False,\n",
       " 'id': 20174948,\n",
       " 'id_str': '20174948',\n",
       " 'is_translator': False,\n",
       " 'lang': None,\n",
       " 'listed_count': 5,\n",
       " 'location': 'Reading, England',\n",
       " 'name': 'Aaron Hatherley',\n",
       " 'notifications': None,\n",
       " 'profile_background_color': 'C0DEED',\n",
       " 'profile_background_image_url': 'http://abs.twimg.com/images/themes/theme1/bg.png',\n",
       " 'profile_background_image_url_https': 'https://abs.twimg.com/images/themes/theme1/bg.png',\n",
       " 'profile_background_tile': False,\n",
       " 'profile_image_url': 'http://pbs.twimg.com/profile_images/569096404224577536/n2Sn-CQk_normal.jpeg',\n",
       " 'profile_image_url_https': 'https://pbs.twimg.com/profile_images/569096404224577536/n2Sn-CQk_normal.jpeg',\n",
       " 'profile_link_color': '1DA1F2',\n",
       " 'profile_sidebar_border_color': 'C0DEED',\n",
       " 'profile_sidebar_fill_color': 'DDEEF6',\n",
       " 'profile_text_color': '333333',\n",
       " 'profile_use_background_image': True,\n",
       " 'protected': False,\n",
       " 'screen_name': 'hatherz',\n",
       " 'statuses_count': 8738,\n",
       " 'time_zone': None,\n",
       " 'translator_type': 'none',\n",
       " 'url': None,\n",
       " 'utc_offset': None,\n",
       " 'verified': False}"
      ]
     },
     "execution_count": 156,
     "metadata": {},
     "output_type": "execute_result"
    }
   ],
   "source": [
    "status_array[1]['user']['created_at']"
   ]
  },
  {
   "cell_type": "markdown",
   "metadata": {},
   "source": [
    "# COUNT NEW USERS    "
   ]
  },
  {
   "cell_type": "code",
   "execution_count": 413,
   "metadata": {
    "scrolled": true
   },
   "outputs": [
    {
     "name": "stdout",
     "output_type": "stream",
     "text": [
      "No of Profiles newer than 10 days are : 0.41%\n"
     ]
    }
   ],
   "source": [
    "import time\n",
    "from datetime import datetime, timedelta\n",
    "present = datetime.now()\n",
    "\n",
    "timerange = 10\n",
    "\n",
    "\n",
    "\n",
    "newcount = 0\n",
    "\n",
    "for x in range(0, len(status_array)):\n",
    "    created_at = time.strftime('%Y-%m-%d %H:%M:%S', time.strptime(status_array[x]['user']['created_at'],'%a %b %d %H:%M:%S +0000 %Y'))\n",
    "    then = datetime.strptime(created_at, \"%Y-%m-%d %H:%M:%S\")\n",
    "    delta = datetime.now() - then\n",
    "    if delta.days < timerange:\n",
    "        newcount = newcount + 1\n",
    "        #print(status_array[x]['user']['created_at'])\n",
    "        #print(created_at)\n",
    "        #print(delta)\n",
    "\n",
    "        \n",
    "percentnewcount = (newcount/len(status_array)) * 100\n",
    "percentnewcount = round(percentnewcount,2)\n",
    "\n",
    "\n",
    "\n",
    "print(\"No of Profiles newer than \" + str(timerange) + \" days are : \" + str(percentnewcount) + \"%\")\n"
   ]
  },
  {
   "cell_type": "markdown",
   "metadata": {},
   "source": [
    "# COUNT FOLLOWERS"
   ]
  },
  {
   "cell_type": "code",
   "execution_count": 417,
   "metadata": {},
   "outputs": [
    {
     "name": "stdout",
     "output_type": "stream",
     "text": [
      "No of people with less than 1000000 followers :0.06%\n"
     ]
    }
   ],
   "source": [
    "count = 0 \n",
    "followercount = 1000000\n",
    "for x in range(0, len(status_array)):\n",
    "    if status_array[x]['user']['followers_count'] > followercount:\n",
    "        count = count + 1 \n",
    "\n",
    "percentcount = (count / len(status_array)) * 100\n",
    "percentcount = round(percentcount,2)\n",
    "\n",
    "print(\"No of people with less than \" + str(followercount) + \" followers :\" + str(percentcount) + \"%\")\n"
   ]
  },
  {
   "cell_type": "code",
   "execution_count": null,
   "metadata": {
    "collapsed": true
   },
   "outputs": [],
   "source": []
  }
 ],
 "metadata": {
  "kernelspec": {
   "display_name": "Python 3",
   "language": "python",
   "name": "python3"
  },
  "language_info": {
   "codemirror_mode": {
    "name": "ipython",
    "version": 3
   },
   "file_extension": ".py",
   "mimetype": "text/x-python",
   "name": "python",
   "nbconvert_exporter": "python",
   "pygments_lexer": "ipython3",
   "version": "3.6.1"
  }
 },
 "nbformat": 4,
 "nbformat_minor": 2
}
