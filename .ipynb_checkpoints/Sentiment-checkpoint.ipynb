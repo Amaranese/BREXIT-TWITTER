{
 "cells": [
  {
   "cell_type": "markdown",
   "metadata": {},
   "source": [
    "# AUTHENTICATION\n",
    "\n",
    "You will need to change f variable to point to your credentials file, I save mines in a text file and split the comma. Not uploaded to this repo obviously."
   ]
  },
  {
   "cell_type": "code",
   "execution_count": 3,
   "metadata": {
    "collapsed": true
   },
   "outputs": [],
   "source": [
    "import datetime\n",
    "import tweepy\n",
    "\n",
    "\n",
    "f = open(\"../donotgit/access.txt\", \"r\")\n",
    "keys = f.read()\n",
    "f.close()\n",
    "keys  = keys.split(',')\n",
    "#print(\"Access Keys are : \" + str(keys))\n",
    "ACCESS_TOKEN = keys[0]\n",
    "ACCESS_SECRET = keys[1]\n",
    "\n",
    "\n",
    "f = open(\"../donotgit/consumer.txt\", \"r\")\n",
    "keys = f.read()\n",
    "keys  = keys.split(',')\n",
    "#print(\"Consumer Keys are : \" + str(keys))\n",
    "CONSUMER_KEY = keys[0]\n",
    "CONSUMER_SECRET = keys[1]\n"
   ]
  },
  {
   "cell_type": "code",
   "execution_count": 4,
   "metadata": {},
   "outputs": [],
   "source": [
    "auth = tweepy.OAuthHandler(CONSUMER_KEY, CONSUMER_SECRET)\n",
    "auth.set_access_token(ACCESS_TOKEN, ACCESS_SECRET)\n",
    "api = tweepy.API(auth)"
   ]
  },
  {
   "cell_type": "code",
   "execution_count": 7,
   "metadata": {},
   "outputs": [],
   "source": [
    "public_tweets = api.search('#Alabama')\n"
   ]
  },
  {
   "cell_type": "markdown",
   "metadata": {},
   "source": [
    "# Now the Theory \n",
    "\n",
    "Thanks to Siraj Raval and freecode camp for the sample [here](https://medium.freecodecamp.org/how-to-build-a-twitter-sentiments-analyzer-in-python-using-textblob-948e1e8aae14)\n",
    "\n",
    "## TextBlob\n",
    "\n",
    "TextBlob is a Python (2 and 3) library for processing textual data. It provides a simple API for diving into common natural language processing (NLP) tasks such as part-of-speech tagging, noun phrase extraction, sentiment analysis, classification, translation, and more.\n",
    "\n",
    "A textblob can be created in the following way (example, and not part of the original code):\n",
    "\n",
    "```\n",
    "example = TextBlob(\"Python is a high-level, general-purpose programming language.\")\n",
    "And tokenization can be performed by the following methods:\n",
    "```\n",
    "\n",
    "words: returns the words of text\n",
    "\n",
    "usage:\n",
    "\n",
    "```\n",
    "example.words\n",
    "```\n",
    "sentences: returns the sentences of text\n",
    "\n",
    "usage:\n",
    "\n",
    "```\n",
    "example.sentences\n",
    "```\n",
    "\n",
    "## Sentiment Analysis\n",
    "\n",
    "The sentiment property returns a named tuple of the form Sentiment (polarity, subjectivity). The polarity score is a float within the range [-1.0, 1.0]. The subjectivity is a float within the range [0.0, 1.0] where 0.0 is very objective and 1.0 is very subjective."
   ]
  },
  {
   "cell_type": "code",
   "execution_count": 11,
   "metadata": {},
   "outputs": [],
   "source": [
    "from textblob import TextBlob"
   ]
  },
  {
   "cell_type": "code",
   "execution_count": 16,
   "metadata": {},
   "outputs": [
    {
     "name": "stdout",
     "output_type": "stream",
     "text": [
      "RT @ScottPresler: We are laser-focused on defeating Doug Jones in 2020. \n",
      "\n",
      "We will flip his seat from 🔵➡️🔴. \n",
      "#Alabama\n",
      "Sentiment(polarity=0.0, subjectivity=0.0)\n",
      "objective\n",
      "\n",
      "\n",
      "RT @NahanniFontaine: These 25 men, who will never be pregnant, just legislated more rights to rapists than to women, girls &amp; victims of rap…\n",
      "Sentiment(polarity=0.41666666666666663, subjectivity=0.5)\n",
      "Subjective\n",
      "\n",
      "\n",
      "@EdKrassen In case anyone's curious about the huge difference #RoeVsWade made: https://t.co/OHQ98Gewz8… https://t.co/4VWqyJ0M1d\n",
      "Sentiment(polarity=0.15000000000000002, subjectivity=0.95)\n",
      "Subjective\n",
      "\n",
      "\n",
      "Also a good time to re-up this one\n",
      "#Alabama #AbortionRights\n",
      "“Donald Trump is a Piece of Shit, but Don’t Blame Him f… https://t.co/GY9S2EvKlx\n",
      "Sentiment(polarity=0.24999999999999997, subjectivity=0.7000000000000001)\n",
      "Subjective\n",
      "\n",
      "\n",
      "RT @GrahamLedger: Tonight: #JerryNadler attempting to trick the #AmericanPeople. Plus: We will talk with #Arizona #Congresswoman about #Exe…\n",
      "Sentiment(polarity=0.0, subjectivity=0.0)\n",
      "objective\n",
      "\n",
      "\n",
      "RT @WorstSaladBar: 99 Years in prison?\n",
      "\n",
      "Holy shit...\n",
      "\n",
      "So the doctor who helps a woman get an abortion after being raped will get MORE TIME…\n",
      "Sentiment(polarity=0.15, subjectivity=0.65)\n",
      "Subjective\n",
      "\n",
      "\n",
      "RT @MattxRed: Imagine thinking your state is “pro-life” when you’re: \n",
      "- 2nd in Gun Violence\n",
      "- 45th in Health Care\n",
      "- 50th in Education\n",
      "- 45t…\n",
      "Sentiment(polarity=0.0, subjectivity=0.0)\n",
      "objective\n",
      "\n",
      "\n",
      "RT @peterdaou: THE ALABAMA MONSTROSITY\n",
      "\n",
      "I'd like to see a single #Alabama parent or lawmaker look us in the eye and say they're fine with a…\n",
      "Sentiment(polarity=0.17261904761904762, subjectivity=0.35714285714285715)\n",
      "Subjective\n",
      "\n",
      "\n",
      "God bless the #Alabama teachers six years from now teaching a crop of unwanted kindergartners.  #AlabamaAbortionBan\n",
      "Sentiment(polarity=0.0, subjectivity=0.0)\n",
      "objective\n",
      "\n",
      "\n",
      "RT @PhinesseNFerb: There are 4 million people in #Alabama, and 25 #MEN had the power to make a decision for all 4 m… https://t.co/Xkte5EwW6e\n",
      "Sentiment(polarity=0.0, subjectivity=0.0)\n",
      "objective\n",
      "\n",
      "\n",
      "RT @Prof_Tweeper: Republicans: They want your Sons for WAR. They want your daughters for BREEDING. AND they want to make Americans so poor,…\n",
      "Sentiment(polarity=0.0, subjectivity=0.0)\n",
      "objective\n",
      "\n",
      "\n"
     ]
    }
   ],
   "source": [
    "for tweet in public_tweets:\n",
    "    print(tweet.text)\n",
    "    analysis = TextBlob(tweet.text)\n",
    "    print(analysis.sentiment)\n",
    "    if analysis.sentiment[0]>0:\n",
    "       print('Subjective')\n",
    "    elif analysis.sentiment[0]<0:\n",
    "       print('Negatively subjective')\n",
    "    else:\n",
    "       print('objective')\n",
    "    print('\\n')"
   ]
  },
  {
   "cell_type": "code",
   "execution_count": null,
   "metadata": {
    "collapsed": true
   },
   "outputs": [],
   "source": []
  }
 ],
 "metadata": {
  "kernelspec": {
   "display_name": "Python 3",
   "language": "python",
   "name": "python3"
  },
  "language_info": {
   "codemirror_mode": {
    "name": "ipython",
    "version": 3
   },
   "file_extension": ".py",
   "mimetype": "text/x-python",
   "name": "python",
   "nbconvert_exporter": "python",
   "pygments_lexer": "ipython3",
   "version": "3.6.1"
  }
 },
 "nbformat": 4,
 "nbformat_minor": 2
}
